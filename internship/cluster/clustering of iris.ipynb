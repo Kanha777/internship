{
 "cells": [
  {
   "cell_type": "code",
   "execution_count": 1,
   "metadata": {},
   "outputs": [],
   "source": [
    "import numpy as np\n",
    "import pandas as pd\n",
    "import seaborn as sns\n",
    "import pycaret\n",
    "import os\n",
    "import matplotlib as plt"
   ]
  },
  {
   "cell_type": "markdown",
   "metadata": {},
   "source": [
    "#  clustering of iris data#"
   ]
  },
  {
   "cell_type": "code",
   "execution_count": 2,
   "metadata": {},
   "outputs": [],
   "source": [
    "os.chdir(r'C:\\Users\\User\\Desktop\\data science project\\internship\\classification')"
   ]
  },
  {
   "cell_type": "code",
   "execution_count": 4,
   "metadata": {},
   "outputs": [],
   "source": [
    "df=pd.read_csv('iris.csv')"
   ]
  },
  {
   "cell_type": "code",
   "execution_count": 5,
   "metadata": {},
   "outputs": [
    {
     "data": {
      "text/html": [
       "<div>\n",
       "<style scoped>\n",
       "    .dataframe tbody tr th:only-of-type {\n",
       "        vertical-align: middle;\n",
       "    }\n",
       "\n",
       "    .dataframe tbody tr th {\n",
       "        vertical-align: top;\n",
       "    }\n",
       "\n",
       "    .dataframe thead th {\n",
       "        text-align: right;\n",
       "    }\n",
       "</style>\n",
       "<table border=\"1\" class=\"dataframe\">\n",
       "  <thead>\n",
       "    <tr style=\"text-align: right;\">\n",
       "      <th></th>\n",
       "      <th>Id</th>\n",
       "      <th>SepalLengthCm</th>\n",
       "      <th>SepalWidthCm</th>\n",
       "      <th>PetalLengthCm</th>\n",
       "      <th>PetalWidthCm</th>\n",
       "      <th>Species</th>\n",
       "    </tr>\n",
       "  </thead>\n",
       "  <tbody>\n",
       "    <tr>\n",
       "      <th>0</th>\n",
       "      <td>1</td>\n",
       "      <td>5.1</td>\n",
       "      <td>3.5</td>\n",
       "      <td>1.4</td>\n",
       "      <td>0.2</td>\n",
       "      <td>Iris-setosa</td>\n",
       "    </tr>\n",
       "    <tr>\n",
       "      <th>1</th>\n",
       "      <td>2</td>\n",
       "      <td>4.9</td>\n",
       "      <td>3.0</td>\n",
       "      <td>1.4</td>\n",
       "      <td>0.2</td>\n",
       "      <td>Iris-setosa</td>\n",
       "    </tr>\n",
       "    <tr>\n",
       "      <th>2</th>\n",
       "      <td>3</td>\n",
       "      <td>4.7</td>\n",
       "      <td>3.2</td>\n",
       "      <td>1.3</td>\n",
       "      <td>0.2</td>\n",
       "      <td>Iris-setosa</td>\n",
       "    </tr>\n",
       "    <tr>\n",
       "      <th>3</th>\n",
       "      <td>4</td>\n",
       "      <td>4.6</td>\n",
       "      <td>3.1</td>\n",
       "      <td>1.5</td>\n",
       "      <td>0.2</td>\n",
       "      <td>Iris-setosa</td>\n",
       "    </tr>\n",
       "    <tr>\n",
       "      <th>4</th>\n",
       "      <td>5</td>\n",
       "      <td>5.0</td>\n",
       "      <td>3.6</td>\n",
       "      <td>1.4</td>\n",
       "      <td>0.2</td>\n",
       "      <td>Iris-setosa</td>\n",
       "    </tr>\n",
       "  </tbody>\n",
       "</table>\n",
       "</div>"
      ],
      "text/plain": [
       "   Id  SepalLengthCm  SepalWidthCm  PetalLengthCm  PetalWidthCm      Species\n",
       "0   1            5.1           3.5            1.4           0.2  Iris-setosa\n",
       "1   2            4.9           3.0            1.4           0.2  Iris-setosa\n",
       "2   3            4.7           3.2            1.3           0.2  Iris-setosa\n",
       "3   4            4.6           3.1            1.5           0.2  Iris-setosa\n",
       "4   5            5.0           3.6            1.4           0.2  Iris-setosa"
      ]
     },
     "execution_count": 5,
     "metadata": {},
     "output_type": "execute_result"
    }
   ],
   "source": [
    "df.head()"
   ]
  },
  {
   "cell_type": "code",
   "execution_count": 7,
   "metadata": {},
   "outputs": [
    {
     "data": {
      "text/html": [
       "<div>\n",
       "<style scoped>\n",
       "    .dataframe tbody tr th:only-of-type {\n",
       "        vertical-align: middle;\n",
       "    }\n",
       "\n",
       "    .dataframe tbody tr th {\n",
       "        vertical-align: top;\n",
       "    }\n",
       "\n",
       "    .dataframe thead th {\n",
       "        text-align: right;\n",
       "    }\n",
       "</style>\n",
       "<table border=\"1\" class=\"dataframe\">\n",
       "  <thead>\n",
       "    <tr style=\"text-align: right;\">\n",
       "      <th></th>\n",
       "      <th>SepalLengthCm</th>\n",
       "      <th>SepalWidthCm</th>\n",
       "      <th>PetalLengthCm</th>\n",
       "      <th>PetalWidthCm</th>\n",
       "      <th>Species</th>\n",
       "    </tr>\n",
       "  </thead>\n",
       "  <tbody>\n",
       "    <tr>\n",
       "      <th>0</th>\n",
       "      <td>5.1</td>\n",
       "      <td>3.5</td>\n",
       "      <td>1.4</td>\n",
       "      <td>0.2</td>\n",
       "      <td>Iris-setosa</td>\n",
       "    </tr>\n",
       "    <tr>\n",
       "      <th>1</th>\n",
       "      <td>4.9</td>\n",
       "      <td>3.0</td>\n",
       "      <td>1.4</td>\n",
       "      <td>0.2</td>\n",
       "      <td>Iris-setosa</td>\n",
       "    </tr>\n",
       "    <tr>\n",
       "      <th>2</th>\n",
       "      <td>4.7</td>\n",
       "      <td>3.2</td>\n",
       "      <td>1.3</td>\n",
       "      <td>0.2</td>\n",
       "      <td>Iris-setosa</td>\n",
       "    </tr>\n",
       "    <tr>\n",
       "      <th>3</th>\n",
       "      <td>4.6</td>\n",
       "      <td>3.1</td>\n",
       "      <td>1.5</td>\n",
       "      <td>0.2</td>\n",
       "      <td>Iris-setosa</td>\n",
       "    </tr>\n",
       "    <tr>\n",
       "      <th>4</th>\n",
       "      <td>5.0</td>\n",
       "      <td>3.6</td>\n",
       "      <td>1.4</td>\n",
       "      <td>0.2</td>\n",
       "      <td>Iris-setosa</td>\n",
       "    </tr>\n",
       "  </tbody>\n",
       "</table>\n",
       "</div>"
      ],
      "text/plain": [
       "   SepalLengthCm  SepalWidthCm  PetalLengthCm  PetalWidthCm      Species\n",
       "0            5.1           3.5            1.4           0.2  Iris-setosa\n",
       "1            4.9           3.0            1.4           0.2  Iris-setosa\n",
       "2            4.7           3.2            1.3           0.2  Iris-setosa\n",
       "3            4.6           3.1            1.5           0.2  Iris-setosa\n",
       "4            5.0           3.6            1.4           0.2  Iris-setosa"
      ]
     },
     "execution_count": 7,
     "metadata": {},
     "output_type": "execute_result"
    }
   ],
   "source": [
    "#drop id#\n",
    "cls=df.drop(['Id'], axis = 1)\n",
    "cls.head()"
   ]
  },
  {
   "cell_type": "code",
   "execution_count": 9,
   "metadata": {},
   "outputs": [
    {
     "name": "stderr",
     "output_type": "stream",
     "text": [
      "\n",
      "                                   |                         | [  0%]   00:00  -> (? left)\u001b[A\n",
      "Summarizing dataframe:             |                         | [  0%]   00:00  -> (? left)\u001b[A\n",
      ":Id:                               |██████               | [ 29%]   00:00  -> (00:00 left)\u001b[A\n",
      ":Id:                               |█████████            | [ 43%]   00:02  -> (00:03 left)\u001b[A\n",
      ":SepalLengthCm:                    |█████████            | [ 43%]   00:02  -> (00:03 left)\u001b[A\n",
      ":SepalLengthCm:                    |████████████         | [ 57%]   00:04  -> (00:03 left)\u001b[A\n",
      ":SepalWidthCm:                     |████████████         | [ 57%]   00:04  -> (00:03 left)\u001b[A\n",
      ":SepalWidthCm:                     |███████████████      | [ 71%]   00:06  -> (00:02 left)\u001b[A\n",
      ":PetalLengthCm:                    |███████████████      | [ 71%]   00:06  -> (00:02 left)\u001b[A\n",
      ":PetalLengthCm:                    |██████████████████   | [ 86%]   00:07  -> (00:01 left)\u001b[A\n",
      ":PetalWidthCm:                     |██████████████████   | [ 86%]   00:07  -> (00:01 left)\u001b[A\n",
      ":PetalWidthCm:                     |█████████████████████| [100%]   00:10  -> (00:00 left)\u001b[A\n",
      ":Species:                          |█████████████████████| [100%]   00:10  -> (00:00 left)\u001b[A\n",
      ":Species:                          |                     | [  0%]   00:11  -> (00:00 left)\u001b[A\n",
      ":FEATURES DONE:                    |                     | [  0%]   00:11  -> (00:00 left)\u001b[A\n",
      "\n",
      "                                   |                         | [  0%]   00:00  -> (? left)\u001b[A\n",
      ":Processing Pairwise Features:     |                         | [  0%]   00:00  -> (? left)\u001b[A\n",
      ":Processing Pairwise Features:     |██████████████       | [ 67%]   00:00  -> (00:00 left)\u001b[A\n",
      ":PAIRWISE DONE:                    |█████████████████████| [100%]   00:00  -> (00:00 left)\u001b[A\n"
     ]
    },
    {
     "name": "stdout",
     "output_type": "stream",
     "text": [
      "Creating Associations graph... DONE!\n"
     ]
    }
   ],
   "source": [
    "import sweetviz as sz\n",
    "report=sz.analyze([df,\"iris\"])\n",
    "report.show_html('iris.html')"
   ]
  },
  {
   "cell_type": "code",
   "execution_count": 11,
   "metadata": {},
   "outputs": [
    {
     "data": {
      "text/plain": [
       "<seaborn.axisgrid.PairGrid at 0xbb9d50d160>"
      ]
     },
     "execution_count": 11,
     "metadata": {},
     "output_type": "execute_result"
    },
    {
     "data": {
      "image/png": "[encoded data removed]",
      "text/plain": [
       "<Figure size 1136.12x1000 with 20 Axes>"
      ]
     },
     "metadata": {},
     "output_type": "display_data"
    }
   ],
   "source": [
    "#pairplot of cls#\n",
    "sns.pairplot(cls,hue=\"Species\")"
   ]
  },
  {
   "cell_type": "code",
   "execution_count": 22,
   "metadata": {},
   "outputs": [
    {
     "name": "stdout",
     "output_type": "stream",
     "text": [
      "\n",
      "Setup Succesfully Completed!\n"
     ]
    },
    {
     "data": {
      "text/html": [
       "<style  type=\"text/css\" >\n",
       "</style><table id=\"T_959115ec_f26e_11ea_97bf_5c93a2a3386e\" ><thead>    <tr>        <th class=\"blank level0\" ></th>        <th class=\"col_heading level0 col0\" >Description</th>        <th class=\"col_heading level0 col1\" >Value</th>    </tr></thead><tbody>\n",
       "                <tr>\n",
       "                        <th id=\"T_959115ec_f26e_11ea_97bf_5c93a2a3386elevel0_row0\" class=\"row_heading level0 row0\" >0</th>\n",
       "                        <td id=\"T_959115ec_f26e_11ea_97bf_5c93a2a3386erow0_col0\" class=\"data row0 col0\" >session_id </td>\n",
       "                        <td id=\"T_959115ec_f26e_11ea_97bf_5c93a2a3386erow0_col1\" class=\"data row0 col1\" >5993</td>\n",
       "            </tr>\n",
       "            <tr>\n",
       "                        <th id=\"T_959115ec_f26e_11ea_97bf_5c93a2a3386elevel0_row1\" class=\"row_heading level0 row1\" >1</th>\n",
       "                        <td id=\"T_959115ec_f26e_11ea_97bf_5c93a2a3386erow1_col0\" class=\"data row1 col0\" >Original Data </td>\n",
       "                        <td id=\"T_959115ec_f26e_11ea_97bf_5c93a2a3386erow1_col1\" class=\"data row1 col1\" >(150, 5)</td>\n",
       "            </tr>\n",
       "            <tr>\n",
       "                        <th id=\"T_959115ec_f26e_11ea_97bf_5c93a2a3386elevel0_row2\" class=\"row_heading level0 row2\" >2</th>\n",
       "                        <td id=\"T_959115ec_f26e_11ea_97bf_5c93a2a3386erow2_col0\" class=\"data row2 col0\" >Missing Values </td>\n",
       "                        <td id=\"T_959115ec_f26e_11ea_97bf_5c93a2a3386erow2_col1\" class=\"data row2 col1\" >False</td>\n",
       "            </tr>\n",
       "            <tr>\n",
       "                        <th id=\"T_959115ec_f26e_11ea_97bf_5c93a2a3386elevel0_row3\" class=\"row_heading level0 row3\" >3</th>\n",
       "                        <td id=\"T_959115ec_f26e_11ea_97bf_5c93a2a3386erow3_col0\" class=\"data row3 col0\" >Numeric Features </td>\n",
       "                        <td id=\"T_959115ec_f26e_11ea_97bf_5c93a2a3386erow3_col1\" class=\"data row3 col1\" >4</td>\n",
       "            </tr>\n",
       "            <tr>\n",
       "                        <th id=\"T_959115ec_f26e_11ea_97bf_5c93a2a3386elevel0_row4\" class=\"row_heading level0 row4\" >4</th>\n",
       "                        <td id=\"T_959115ec_f26e_11ea_97bf_5c93a2a3386erow4_col0\" class=\"data row4 col0\" >Categorical Features </td>\n",
       "                        <td id=\"T_959115ec_f26e_11ea_97bf_5c93a2a3386erow4_col1\" class=\"data row4 col1\" >1</td>\n",
       "            </tr>\n",
       "            <tr>\n",
       "                        <th id=\"T_959115ec_f26e_11ea_97bf_5c93a2a3386elevel0_row5\" class=\"row_heading level0 row5\" >5</th>\n",
       "                        <td id=\"T_959115ec_f26e_11ea_97bf_5c93a2a3386erow5_col0\" class=\"data row5 col0\" >Ordinal Features </td>\n",
       "                        <td id=\"T_959115ec_f26e_11ea_97bf_5c93a2a3386erow5_col1\" class=\"data row5 col1\" >False</td>\n",
       "            </tr>\n",
       "            <tr>\n",
       "                        <th id=\"T_959115ec_f26e_11ea_97bf_5c93a2a3386elevel0_row6\" class=\"row_heading level0 row6\" >6</th>\n",
       "                        <td id=\"T_959115ec_f26e_11ea_97bf_5c93a2a3386erow6_col0\" class=\"data row6 col0\" >High Cardinality Features </td>\n",
       "                        <td id=\"T_959115ec_f26e_11ea_97bf_5c93a2a3386erow6_col1\" class=\"data row6 col1\" >False</td>\n",
       "            </tr>\n",
       "            <tr>\n",
       "                        <th id=\"T_959115ec_f26e_11ea_97bf_5c93a2a3386elevel0_row7\" class=\"row_heading level0 row7\" >7</th>\n",
       "                        <td id=\"T_959115ec_f26e_11ea_97bf_5c93a2a3386erow7_col0\" class=\"data row7 col0\" >Transformed Data </td>\n",
       "                        <td id=\"T_959115ec_f26e_11ea_97bf_5c93a2a3386erow7_col1\" class=\"data row7 col1\" >(150, 7)</td>\n",
       "            </tr>\n",
       "            <tr>\n",
       "                        <th id=\"T_959115ec_f26e_11ea_97bf_5c93a2a3386elevel0_row8\" class=\"row_heading level0 row8\" >8</th>\n",
       "                        <td id=\"T_959115ec_f26e_11ea_97bf_5c93a2a3386erow8_col0\" class=\"data row8 col0\" >Numeric Imputer </td>\n",
       "                        <td id=\"T_959115ec_f26e_11ea_97bf_5c93a2a3386erow8_col1\" class=\"data row8 col1\" >mean</td>\n",
       "            </tr>\n",
       "            <tr>\n",
       "                        <th id=\"T_959115ec_f26e_11ea_97bf_5c93a2a3386elevel0_row9\" class=\"row_heading level0 row9\" >9</th>\n",
       "                        <td id=\"T_959115ec_f26e_11ea_97bf_5c93a2a3386erow9_col0\" class=\"data row9 col0\" >Categorical Imputer </td>\n",
       "                        <td id=\"T_959115ec_f26e_11ea_97bf_5c93a2a3386erow9_col1\" class=\"data row9 col1\" >constant</td>\n",
       "            </tr>\n",
       "            <tr>\n",
       "                        <th id=\"T_959115ec_f26e_11ea_97bf_5c93a2a3386elevel0_row10\" class=\"row_heading level0 row10\" >10</th>\n",
       "                        <td id=\"T_959115ec_f26e_11ea_97bf_5c93a2a3386erow10_col0\" class=\"data row10 col0\" >Normalize </td>\n",
       "                        <td id=\"T_959115ec_f26e_11ea_97bf_5c93a2a3386erow10_col1\" class=\"data row10 col1\" >False</td>\n",
       "            </tr>\n",
       "            <tr>\n",
       "                        <th id=\"T_959115ec_f26e_11ea_97bf_5c93a2a3386elevel0_row11\" class=\"row_heading level0 row11\" >11</th>\n",
       "                        <td id=\"T_959115ec_f26e_11ea_97bf_5c93a2a3386erow11_col0\" class=\"data row11 col0\" >Normalize Method </td>\n",
       "                        <td id=\"T_959115ec_f26e_11ea_97bf_5c93a2a3386erow11_col1\" class=\"data row11 col1\" >None</td>\n",
       "            </tr>\n",
       "            <tr>\n",
       "                        <th id=\"T_959115ec_f26e_11ea_97bf_5c93a2a3386elevel0_row12\" class=\"row_heading level0 row12\" >12</th>\n",
       "                        <td id=\"T_959115ec_f26e_11ea_97bf_5c93a2a3386erow12_col0\" class=\"data row12 col0\" >Transformation </td>\n",
       "                        <td id=\"T_959115ec_f26e_11ea_97bf_5c93a2a3386erow12_col1\" class=\"data row12 col1\" >False</td>\n",
       "            </tr>\n",
       "            <tr>\n",
       "                        <th id=\"T_959115ec_f26e_11ea_97bf_5c93a2a3386elevel0_row13\" class=\"row_heading level0 row13\" >13</th>\n",
       "                        <td id=\"T_959115ec_f26e_11ea_97bf_5c93a2a3386erow13_col0\" class=\"data row13 col0\" >Transformation Method </td>\n",
       "                        <td id=\"T_959115ec_f26e_11ea_97bf_5c93a2a3386erow13_col1\" class=\"data row13 col1\" >None</td>\n",
       "            </tr>\n",
       "            <tr>\n",
       "                        <th id=\"T_959115ec_f26e_11ea_97bf_5c93a2a3386elevel0_row14\" class=\"row_heading level0 row14\" >14</th>\n",
       "                        <td id=\"T_959115ec_f26e_11ea_97bf_5c93a2a3386erow14_col0\" class=\"data row14 col0\" >PCA </td>\n",
       "                        <td id=\"T_959115ec_f26e_11ea_97bf_5c93a2a3386erow14_col1\" class=\"data row14 col1\" >False</td>\n",
       "            </tr>\n",
       "            <tr>\n",
       "                        <th id=\"T_959115ec_f26e_11ea_97bf_5c93a2a3386elevel0_row15\" class=\"row_heading level0 row15\" >15</th>\n",
       "                        <td id=\"T_959115ec_f26e_11ea_97bf_5c93a2a3386erow15_col0\" class=\"data row15 col0\" >PCA Method </td>\n",
       "                        <td id=\"T_959115ec_f26e_11ea_97bf_5c93a2a3386erow15_col1\" class=\"data row15 col1\" >None</td>\n",
       "            </tr>\n",
       "            <tr>\n",
       "                        <th id=\"T_959115ec_f26e_11ea_97bf_5c93a2a3386elevel0_row16\" class=\"row_heading level0 row16\" >16</th>\n",
       "                        <td id=\"T_959115ec_f26e_11ea_97bf_5c93a2a3386erow16_col0\" class=\"data row16 col0\" >PCA components </td>\n",
       "                        <td id=\"T_959115ec_f26e_11ea_97bf_5c93a2a3386erow16_col1\" class=\"data row16 col1\" >None</td>\n",
       "            </tr>\n",
       "            <tr>\n",
       "                        <th id=\"T_959115ec_f26e_11ea_97bf_5c93a2a3386elevel0_row17\" class=\"row_heading level0 row17\" >17</th>\n",
       "                        <td id=\"T_959115ec_f26e_11ea_97bf_5c93a2a3386erow17_col0\" class=\"data row17 col0\" >Ignore Low Variance </td>\n",
       "                        <td id=\"T_959115ec_f26e_11ea_97bf_5c93a2a3386erow17_col1\" class=\"data row17 col1\" >False</td>\n",
       "            </tr>\n",
       "            <tr>\n",
       "                        <th id=\"T_959115ec_f26e_11ea_97bf_5c93a2a3386elevel0_row18\" class=\"row_heading level0 row18\" >18</th>\n",
       "                        <td id=\"T_959115ec_f26e_11ea_97bf_5c93a2a3386erow18_col0\" class=\"data row18 col0\" >Combine Rare Levels </td>\n",
       "                        <td id=\"T_959115ec_f26e_11ea_97bf_5c93a2a3386erow18_col1\" class=\"data row18 col1\" >False</td>\n",
       "            </tr>\n",
       "            <tr>\n",
       "                        <th id=\"T_959115ec_f26e_11ea_97bf_5c93a2a3386elevel0_row19\" class=\"row_heading level0 row19\" >19</th>\n",
       "                        <td id=\"T_959115ec_f26e_11ea_97bf_5c93a2a3386erow19_col0\" class=\"data row19 col0\" >Rare Level Threshold </td>\n",
       "                        <td id=\"T_959115ec_f26e_11ea_97bf_5c93a2a3386erow19_col1\" class=\"data row19 col1\" >None</td>\n",
       "            </tr>\n",
       "            <tr>\n",
       "                        <th id=\"T_959115ec_f26e_11ea_97bf_5c93a2a3386elevel0_row20\" class=\"row_heading level0 row20\" >20</th>\n",
       "                        <td id=\"T_959115ec_f26e_11ea_97bf_5c93a2a3386erow20_col0\" class=\"data row20 col0\" >Numeric Binning </td>\n",
       "                        <td id=\"T_959115ec_f26e_11ea_97bf_5c93a2a3386erow20_col1\" class=\"data row20 col1\" >False</td>\n",
       "            </tr>\n",
       "            <tr>\n",
       "                        <th id=\"T_959115ec_f26e_11ea_97bf_5c93a2a3386elevel0_row21\" class=\"row_heading level0 row21\" >21</th>\n",
       "                        <td id=\"T_959115ec_f26e_11ea_97bf_5c93a2a3386erow21_col0\" class=\"data row21 col0\" >Remove Multicollinearity </td>\n",
       "                        <td id=\"T_959115ec_f26e_11ea_97bf_5c93a2a3386erow21_col1\" class=\"data row21 col1\" >False</td>\n",
       "            </tr>\n",
       "            <tr>\n",
       "                        <th id=\"T_959115ec_f26e_11ea_97bf_5c93a2a3386elevel0_row22\" class=\"row_heading level0 row22\" >22</th>\n",
       "                        <td id=\"T_959115ec_f26e_11ea_97bf_5c93a2a3386erow22_col0\" class=\"data row22 col0\" >Multicollinearity Threshold </td>\n",
       "                        <td id=\"T_959115ec_f26e_11ea_97bf_5c93a2a3386erow22_col1\" class=\"data row22 col1\" >None</td>\n",
       "            </tr>\n",
       "            <tr>\n",
       "                        <th id=\"T_959115ec_f26e_11ea_97bf_5c93a2a3386elevel0_row23\" class=\"row_heading level0 row23\" >23</th>\n",
       "                        <td id=\"T_959115ec_f26e_11ea_97bf_5c93a2a3386erow23_col0\" class=\"data row23 col0\" >Group Features </td>\n",
       "                        <td id=\"T_959115ec_f26e_11ea_97bf_5c93a2a3386erow23_col1\" class=\"data row23 col1\" >False</td>\n",
       "            </tr>\n",
       "    </tbody></table>"
      ],
      "text/plain": [
       "<pandas.io.formats.style.Styler at 0xbb9d9a2908>"
      ]
     },
     "metadata": {},
     "output_type": "display_data"
    }
   ],
   "source": [
    "#cluster dat#\n",
    "from pycaret.clustering import *\n",
    "#intialize the setup\n",
    "clu = setup(cls)"
   ]
  },
  {
   "cell_type": "code",
   "execution_count": 23,
   "metadata": {},
   "outputs": [],
   "source": [
    "kmean=create_model('kmeans')"
   ]
  },
  {
   "cell_type": "code",
   "execution_count": 24,
   "metadata": {},
   "outputs": [
    {
     "data": {
      "text/html": [
       "        <script type=\"text/javascript\">\n",
       "        window.PlotlyConfig = {MathJaxConfig: 'local'};\n",
       "        if (window.MathJax) {MathJax.Hub.Config({SVG: {font: \"STIX-Web\"}});}\n",
       "        if (typeof require !== 'undefined') {\n",
       "        require.undef(\"plotly\");\n",
       "        requirejs.config({\n",
       "            paths: {\n",
       "                'plotly': ['https://cdn.plot.ly/plotly-latest.min']\n",
       "            }\n",
       "        });\n",
       "        require(['plotly'], function(Plotly) {\n",
       "            window._Plotly = Plotly;\n",
       "        });\n",
       "        }\n",
       "        </script>\n",
       "        "
      ]
     },
     "metadata": {},
     "output_type": "display_data"
    },
    {
     "data": {
      "application/vnd.plotly.v1+json": {
       "config": {
        "plotlyServerURL": "https://plot.ly"
       },
       "data": [
        {
         "customdata": [
          [
           5.1
          ],
          [
           4.9
          ],
          [
           4.7
          ],
          [
           4.6
          ],
          [
           5
          ],
          [
           5.4
          ],
          [
           4.6
          ],
          [
           5
          ],
          [
           4.4
          ],
          [
           4.9
          ],
          [
           5.4
          ],
          [
           4.8
          ],
          [
           4.8
          ],
          [
           4.3
          ],
          [
           5.8
          ],
          [
           5.7
          ],
          [
           5.4
          ],
          [
           5.1
          ],
          [
           5.7
          ],
          [
           5.1
          ],
          [
           5.4
          ],
          [
           5.1
          ],
          [
           4.6
          ],
          [
           5.1
          ],
          [
           4.8
          ],
          [
           5
          ],
          [
           5
          ],
          [
           5.2
          ],
          [
           5.2
          ],
          [
           4.7
          ],
          [
           4.8
          ],
          [
           5.4
          ],
          [
           5.2
          ],
          [
           5.5
          ],
          [
           4.9
          ],
          [
           5
          ],
          [
           5.5
          ],
          [
           4.9
          ],
          [
           4.4
          ],
          [
           5.1
          ],
          [
           5
          ],
          [
           4.5
          ],
          [
           4.4
          ],
          [
           5
          ],
          [
           5.1
          ],
          [
           4.8
          ],
          [
           5.1
          ],
          [
           4.6
          ],
          [
           5.3
          ],
          [
           5
          ]
         ],
         "hoverlabel": {
          "namelength": 0
         },
         "hovertemplate": "Cluster=Cluster 0<br>PCA1=%{x}<br>PCA2=%{y}<br>Feature=%{customdata[0]}",
         "legendgroup": "Cluster=Cluster 0",
         "marker": {
          "color": "#636efa",
          "opacity": 0.5,
          "symbol": "circle"
         },
         "mode": "markers",
         "name": "Cluster=Cluster 0",
         "showlegend": true,
         "textposition": "top center",
         "type": "scatter",
         "x": [
          0.7291022618446474,
          1.292438261508866,
          0.38527336176351173,
          1.1183771800520395,
          0.08439190420211803,
          0.9514688186325884,
          0.26807898799094054,
          0.6785959930683734,
          0.9341381898459858,
          -0.12677282831736447,
          0.9905906372606472,
          0.29532500233177267,
          0.5344802471435429,
          -0.448215219123042,
          0.03365400103601306,
          1.0464196798819512,
          -0.6807287958550371,
          1.0967433227784658,
          0.6601066060607249,
          1.0892956240255693,
          0.21807561712183005,
          1.4515071537718902,
          0.929332063451848,
          0.907626707802148,
          1.3238807469941989,
          1.542421679890451,
          0.32939094047097395,
          -0.8329200154872906,
          0.6598215929996628,
          0.40394100448975556,
          0.36111843901737145,
          0.38555837482457406,
          -0.6379596090538867,
          0.26291635015961506,
          0.899782868484553,
          0.489711012481884,
          0.9394609636910131,
          0.20181791236451757,
          0.8259139580915327,
          1.2168686521320267,
          0.819335634337452,
          0.6093153242233859,
          1.3723110993726721,
          0.17210858138352114,
          -0.1421711237303225,
          -0.024798494239157257,
          -0.2545059924375225,
          0.8252861831370059,
          0.2784929012911672,
          1.2779670899271236
         ],
         "xaxis": "x",
         "y": [
          0.6380747962675423,
          0.8776055503469681,
          0.7418902399810651,
          0.6506461441763504,
          1.0163935582913544,
          1.007986310205467,
          0.893669192334302,
          0.8164089962106399,
          0.4686879219091513,
          0.8038833555136471,
          0.7449753634980255,
          1.0537282797382068,
          0.7113204401422069,
          1.378591723869219,
          1.0195522769035974,
          0.6061582889784922,
          1.21274402949285,
          0.5005486534312684,
          0.8896368207569557,
          0.6664242356911034,
          1.1287859347749225,
          0.4462119318001331,
          0.8011062769628622,
          0.5405868583336239,
          0.6052947045685065,
          0.5415073972022222,
          0.8591227966850316,
          1.0847420674870079,
          0.692876821610535,
          0.8222533789500369,
          0.7835719500529914,
          0.9386502391274849,
          1.2298409405743296,
          0.918905620357436,
          0.6928489337270685,
          1.03162268244385,
          0.5082050473327155,
          1.039790087268971,
          0.9400918574748746,
          0.485756945107164,
          0.5229967556568199,
          0.8712110215536328,
          0.8802532580355366,
          0.8667791905864791,
          1.0788519775357952,
          1.0806639886978457,
          0.919797092650888,
          0.7513028692776297,
          0.7975279618505764,
          0.3648724781956291
         ],
         "yaxis": "y"
        },
        {
         "customdata": [
          [
           7
          ],
          [
           6.4
          ],
          [
           6.9
          ],
          [
           5.5
          ],
          [
           6.5
          ],
          [
           5.7
          ],
          [
           6.3
          ],
          [
           4.9
          ],
          [
           6.6
          ],
          [
           5.2
          ],
          [
           5
          ],
          [
           5.9
          ],
          [
           6
          ],
          [
           6.1
          ],
          [
           5.6
          ],
          [
           6.7
          ],
          [
           5.6
          ],
          [
           5.8
          ],
          [
           6.2
          ],
          [
           5.6
          ],
          [
           5.9
          ],
          [
           6.1
          ],
          [
           6.3
          ],
          [
           6.1
          ],
          [
           6.4
          ],
          [
           6.6
          ],
          [
           6.8
          ],
          [
           6.7
          ],
          [
           6
          ],
          [
           5.7
          ],
          [
           5.5
          ],
          [
           5.5
          ],
          [
           5.8
          ],
          [
           6
          ],
          [
           5.4
          ],
          [
           6
          ],
          [
           6.7
          ],
          [
           6.3
          ],
          [
           5.6
          ],
          [
           5.5
          ],
          [
           5.5
          ],
          [
           6.1
          ],
          [
           5.8
          ],
          [
           5
          ],
          [
           5.6
          ],
          [
           5.7
          ],
          [
           5.7
          ],
          [
           6.2
          ],
          [
           5.1
          ],
          [
           5.7
          ]
         ],
         "hoverlabel": {
          "namelength": 0
         },
         "hovertemplate": "Cluster=Cluster 1<br>PCA1=%{x}<br>PCA2=%{y}<br>Feature=%{customdata[0]}",
         "legendgroup": "Cluster=Cluster 1",
         "marker": {
          "color": "#EF553B",
          "opacity": 0.5,
          "symbol": "circle"
         },
         "mode": "markers",
         "name": "Cluster=Cluster 1",
         "showlegend": true,
         "textposition": "top center",
         "type": "scatter",
         "x": [
          -2.7937856610979317,
          -2.658083780612819,
          -3.305831851178809,
          -2.6579770232703512,
          -2.433699056259481,
          -2.700799588742736,
          -2.3275997494128964,
          -2.759091948004204,
          -2.7356715575550568,
          -2.757305414828631,
          -3.3129945368706424,
          -2.89175611556586,
          -2.4254100678671233,
          -2.724219979191882,
          -2.782565717124584,
          -2.987494887783451,
          -2.7376182267443316,
          -2.9241647677380174,
          -2.4049558919653067,
          -2.836554847899082,
          -2.851793007298339,
          -2.9906393580493758,
          -2.8224220680496375,
          -2.812168290763113,
          -2.623443446190325,
          -2.476183229999569,
          -2.507036983385982,
          -2.822368689378404,
          -2.942600776074433,
          -2.6528143854390254,
          -2.6224239008322687,
          -2.3353902100592574,
          -2.5242933103506386,
          -3.0945603613168573,
          -2.95206664239273,
          -2.876411198824135,
          -3.0783026565595444,
          -2.782565717124584,
          -2.7379032398053935,
          -2.702977892321838,
          -2.782565717124584,
          -2.5855518841594383,
          -2.969397271179332,
          -2.7510164742967813,
          -2.7426026088570636,
          -2.6998334220559137,
          -2.676466410278,
          -2.759933237643666,
          -2.712126290058551,
          -2.5296694628669
         ],
         "xaxis": "x",
         "y": [
          -0.3877897997775254,
          -0.5239591666084892,
          -0.32579668424494274,
          -0.4807901309773569,
          -0.4026093959850962,
          -0.5194715598744022,
          -0.6686206238674194,
          -0.39360629463345587,
          -0.6672460285337602,
          -0.8173435192788424,
          0.03683889716131305,
          -0.07728064814222645,
          -0.293357918785422,
          -0.24583182597409795,
          -0.1415510785487179,
          0.0710048314408049,
          -0.3082623573350722,
          -0.2121033075229973,
          -0.6367320044618362,
          -0.4048867108590048,
          -0.0651645353901586,
          -0.15232048385059305,
          -0.11049815566965364,
          -0.2713929396000773,
          -0.5513601792799858,
          -0.22294630792015485,
          -0.9566816732771669,
          -0.08891363785408728,
          -0.11729096516111541,
          -0.5060265590004908,
          -0.12264215630518796,
          -0.4947740306584086,
          -0.3683977544937885,
          -0.07011744583610358,
          0.29714636041325176,
          -0.3738337879799404,
          0.01887840166984803,
          -0.1415510785487179,
          -0.5050223564814927,
          -0.3356633700065686,
          -0.1415510785487179,
          -0.31226684102895197,
          -0.24215202788306375,
          -0.3706928886960462,
          -0.1294349657966499,
          -0.11233805471517067,
          -0.407562306431041,
          -0.6687333540929654,
          -0.8088793167343423,
          -0.4294993977329192
         ],
         "yaxis": "y"
        },
        {
         "customdata": [
          [
           6.3
          ],
          [
           5.8
          ],
          [
           7.1
          ],
          [
           6.3
          ],
          [
           6.5
          ],
          [
           7.6
          ],
          [
           4.9
          ],
          [
           7.3
          ],
          [
           6.7
          ],
          [
           7.2
          ],
          [
           6.5
          ],
          [
           6.4
          ],
          [
           6.8
          ],
          [
           5.7
          ],
          [
           5.8
          ],
          [
           6.4
          ],
          [
           6.5
          ],
          [
           7.7
          ],
          [
           7.7
          ],
          [
           6
          ],
          [
           6.9
          ],
          [
           5.6
          ],
          [
           7.7
          ],
          [
           6.3
          ],
          [
           6.7
          ],
          [
           7.2
          ],
          [
           6.2
          ],
          [
           6.1
          ],
          [
           6.4
          ],
          [
           7.2
          ],
          [
           7.4
          ],
          [
           7.9
          ],
          [
           6.4
          ],
          [
           6.3
          ],
          [
           6.1
          ],
          [
           7.7
          ]
         ],
         "hoverlabel": {
          "namelength": 0
         },
         "hovertemplate": "Cluster=Cluster 2<br>PCA1=%{x}<br>PCA2=%{y}<br>Feature=%{customdata[0]}",
         "legendgroup": "Cluster=Cluster 2",
         "marker": {
          "color": "#00cc96",
          "opacity": 0.5,
          "symbol": "circle"
         },
         "mode": "markers",
         "name": "Cluster=Cluster 2",
         "showlegend": true,
         "textposition": "top center",
         "type": "scatter",
         "x": [
          2.35695001894339,
          2.2316620517585033,
          1.3762012218660793,
          1.4079820990837106,
          2.210994361171752,
          2.24568807426548,
          1.5547971661997022,
          1.8804750710054874,
          1.9998477483571622,
          1.8639676121534545,
          2.1944516433533785,
          2.394609946584448,
          2.01580232034852,
          1.5284991988408003,
          2.4957248713183007,
          2.037329420279627,
          1.6352796593131456,
          1.5016493250646676,
          1.2906628482637785,
          1.3204255579160091,
          2.605200282820639,
          1.4169703608067208,
          1.9969701714474066,
          1.5284991988408003,
          2.0641440350894174,
          2.429428536725536,
          0.6675329692235861,
          2.400578615088894,
          1.7650309909987039,
          1.90169903817064,
          2.2506190777069772,
          1.4621313658719093,
          1.5040592630335974,
          1.6938389119307826,
          1.9998296286522694,
          2.0426169351583114
         ],
         "xaxis": "x",
         "y": [
          -0.6640439235119938,
          -0.6240157871647558,
          -0.35575631098367005,
          -0.40972263980014406,
          -0.3669797727506063,
          -0.37279626760653667,
          -0.3428223210334323,
          -0.15506542323865208,
          -0.4906525654597236,
          -0.508074162144048,
          -0.6527356194029786,
          -0.6001260665918148,
          -0.6872541271687825,
          -0.18458531334669556,
          -0.6873099029357155,
          -0.5803256720548323,
          -0.24022303521620753,
          -0.33103089388420986,
          -0.38995013314662885,
          -0.19535471864857046,
          -0.5548203341957862,
          -0.0012602465190692776,
          -0.606055291673291,
          -0.18458531334669556,
          -0.3666271992642942,
          -0.4739361157480228,
          0.11688160180669958,
          -0.28298254290241515,
          -0.6046985156679808,
          -0.3337343773397129,
          -0.573208176960525,
          -0.08163345404315873,
          -0.3396636024211892,
          -0.2581657113793232,
          -0.5794899755283134,
          -0.47355565437824415
         ],
         "yaxis": "y"
        },
        {
         "customdata": [
          [
           6.3
          ],
          [
           6.4
          ],
          [
           6
          ],
          [
           6.9
          ],
          [
           6.7
          ],
          [
           6.9
          ],
          [
           5.8
          ],
          [
           6.8
          ],
          [
           6.7
          ],
          [
           6.7
          ],
          [
           6.3
          ],
          [
           6.5
          ],
          [
           6.2
          ],
          [
           5.9
          ]
         ],
         "hoverlabel": {
          "namelength": 0
         },
         "hovertemplate": "Cluster=Cluster 3<br>PCA1=%{x}<br>PCA2=%{y}<br>Feature=%{customdata[0]}",
         "legendgroup": "Cluster=Cluster 3",
         "marker": {
          "color": "#ab63fa",
          "opacity": 0.5,
          "symbol": "circle"
         },
         "mode": "markers",
         "name": "Cluster=Cluster 3",
         "showlegend": true,
         "textposition": "top center",
         "type": "scatter",
         "x": [
          2.9014048611964247,
          3.5360930759422597,
          3.8217897527756315,
          2.68525574656421,
          3.524191978343152,
          2.6344644647268707,
          3.437209833458743,
          3.276048471808372,
          2.989299794096421,
          2.9752556518845528,
          2.5037469663544902,
          2.463748599120627,
          2.682236153345646,
          3.1278430120815046
         ],
         "xaxis": "x",
         "y": [
          -0.5912143796638057,
          -0.6334628764263396,
          -0.5466595014522169,
          -0.6248971909030905,
          -1.0900751036679581,
          -0.6433229901064135,
          -0.7085027121347058,
          -1.1561296573530337,
          -0.5872377838533924,
          -0.9272947134802016,
          -0.685981014813872,
          -0.6308442353129161,
          -0.7162160604947665,
          -0.7856792446079687
         ],
         "yaxis": "y"
        }
       ],
       "layout": {
        "height": 600,
        "legend": {
         "tracegroupgap": 0
        },
        "margin": {
         "t": 60
        },
        "plot_bgcolor": "rgb(240,240,240)",
        "template": {
         "data": {
          "bar": [
           {
            "error_x": {
             "color": "#2a3f5f"
            },
            "error_y": {
             "color": "#2a3f5f"
            },
            "marker": {
             "line": {
              "color": "#E5ECF6",
              "width": 0.5
             }
            },
            "type": "bar"
           }
          ],
          "barpolar": [
           {
            "marker": {
             "line": {
              "color": "#E5ECF6",
              "width": 0.5
             }
            },
            "type": "barpolar"
           }
          ],
          "carpet": [
           {
            "aaxis": {
             "endlinecolor": "#2a3f5f",
             "gridcolor": "white",
             "linecolor": "white",
             "minorgridcolor": "white",
             "startlinecolor": "#2a3f5f"
            },
            "baxis": {
             "endlinecolor": "#2a3f5f",
             "gridcolor": "white",
             "linecolor": "white",
             "minorgridcolor": "white",
             "startlinecolor": "#2a3f5f"
            },
            "type": "carpet"
           }
          ],
          "choropleth": [
           {
            "colorbar": {
             "outlinewidth": 0,
             "ticks": ""
            },
            "type": "choropleth"
           }
          ],
          "contour": [
           {
            "colorbar": {
             "outlinewidth": 0,
             "ticks": ""
            },
            "colorscale": [
             [
              0,
              "#0d0887"
             ],
             [
              0.1111111111111111,
              "#46039f"
             ],
             [
              0.2222222222222222,
              "#7201a8"
             ],
             [
              0.3333333333333333,
              "#9c179e"
             ],
             [
              0.4444444444444444,
              "#bd3786"
             ],
             [
              0.5555555555555556,
              "#d8576b"
             ],
             [
              0.6666666666666666,
              "#ed7953"
             ],
             [
              0.7777777777777778,
              "#fb9f3a"
             ],
             [
              0.8888888888888888,
              "#fdca26"
             ],
             [
              1,
              "#f0f921"
             ]
            ],
            "type": "contour"
           }
          ],
          "contourcarpet": [
           {
            "colorbar": {
             "outlinewidth": 0,
             "ticks": ""
            },
            "type": "contourcarpet"
           }
          ],
          "heatmap": [
           {
            "colorbar": {
             "outlinewidth": 0,
             "ticks": ""
            },
            "colorscale": [
             [
              0,
              "#0d0887"
             ],
             [
              0.1111111111111111,
              "#46039f"
             ],
             [
              0.2222222222222222,
              "#7201a8"
             ],
             [
              0.3333333333333333,
              "#9c179e"
             ],
             [
              0.4444444444444444,
              "#bd3786"
             ],
             [
              0.5555555555555556,
              "#d8576b"
             ],
             [
              0.6666666666666666,
              "#ed7953"
             ],
             [
              0.7777777777777778,
              "#fb9f3a"
             ],
             [
              0.8888888888888888,
              "#fdca26"
             ],
             [
              1,
              "#f0f921"
             ]
            ],
            "type": "heatmap"
           }
          ],
          "heatmapgl": [
           {
            "colorbar": {
             "outlinewidth": 0,
             "ticks": ""
            },
            "colorscale": [
             [
              0,
              "#0d0887"
             ],
             [
              0.1111111111111111,
              "#46039f"
             ],
             [
              0.2222222222222222,
              "#7201a8"
             ],
             [
              0.3333333333333333,
              "#9c179e"
             ],
             [
              0.4444444444444444,
              "#bd3786"
             ],
             [
              0.5555555555555556,
              "#d8576b"
             ],
             [
              0.6666666666666666,
              "#ed7953"
             ],
             [
              0.7777777777777778,
              "#fb9f3a"
             ],
             [
              0.8888888888888888,
              "#fdca26"
             ],
             [
              1,
              "#f0f921"
             ]
            ],
            "type": "heatmapgl"
           }
          ],
          "histogram": [
           {
            "marker": {
             "colorbar": {
              "outlinewidth": 0,
              "ticks": ""
             }
            },
            "type": "histogram"
           }
          ],
          "histogram2d": [
           {
            "colorbar": {
             "outlinewidth": 0,
             "ticks": ""
            },
            "colorscale": [
             [
              0,
              "#0d0887"
             ],
             [
              0.1111111111111111,
              "#46039f"
             ],
             [
              0.2222222222222222,
              "#7201a8"
             ],
             [
              0.3333333333333333,
              "#9c179e"
             ],
             [
              0.4444444444444444,
              "#bd3786"
             ],
             [
              0.5555555555555556,
              "#d8576b"
             ],
             [
              0.6666666666666666,
              "#ed7953"
             ],
             [
              0.7777777777777778,
              "#fb9f3a"
             ],
             [
              0.8888888888888888,
              "#fdca26"
             ],
             [
              1,
              "#f0f921"
             ]
            ],
            "type": "histogram2d"
           }
          ],
          "histogram2dcontour": [
           {
            "colorbar": {
             "outlinewidth": 0,
             "ticks": ""
            },
            "colorscale": [
             [
              0,
              "#0d0887"
             ],
             [
              0.1111111111111111,
              "#46039f"
             ],
             [
              0.2222222222222222,
              "#7201a8"
             ],
             [
              0.3333333333333333,
              "#9c179e"
             ],
             [
              0.4444444444444444,
              "#bd3786"
             ],
             [
              0.5555555555555556,
              "#d8576b"
             ],
             [
              0.6666666666666666,
              "#ed7953"
             ],
             [
              0.7777777777777778,
              "#fb9f3a"
             ],
             [
              0.8888888888888888,
              "#fdca26"
             ],
             [
              1,
              "#f0f921"
             ]
            ],
            "type": "histogram2dcontour"
           }
          ],
          "mesh3d": [
           {
            "colorbar": {
             "outlinewidth": 0,
             "ticks": ""
            },
            "type": "mesh3d"
           }
          ],
          "parcoords": [
           {
            "line": {
             "colorbar": {
              "outlinewidth": 0,
              "ticks": ""
             }
            },
            "type": "parcoords"
           }
          ],
          "pie": [
           {
            "automargin": true,
            "type": "pie"
           }
          ],
          "scatter": [
           {
            "marker": {
             "colorbar": {
              "outlinewidth": 0,
              "ticks": ""
             }
            },
            "type": "scatter"
           }
          ],
          "scatter3d": [
           {
            "line": {
             "colorbar": {
              "outlinewidth": 0,
              "ticks": ""
             }
            },
            "marker": {
             "colorbar": {
              "outlinewidth": 0,
              "ticks": ""
             }
            },
            "type": "scatter3d"
           }
          ],
          "scattercarpet": [
           {
            "marker": {
             "colorbar": {
              "outlinewidth": 0,
              "ticks": ""
             }
            },
            "type": "scattercarpet"
           }
          ],
          "scattergeo": [
           {
            "marker": {
             "colorbar": {
              "outlinewidth": 0,
              "ticks": ""
             }
            },
            "type": "scattergeo"
           }
          ],
          "scattergl": [
           {
            "marker": {
             "colorbar": {
              "outlinewidth": 0,
              "ticks": ""
             }
            },
            "type": "scattergl"
           }
          ],
          "scattermapbox": [
           {
            "marker": {
             "colorbar": {
              "outlinewidth": 0,
              "ticks": ""
             }
            },
            "type": "scattermapbox"
           }
          ],
          "scatterpolar": [
           {
            "marker": {
             "colorbar": {
              "outlinewidth": 0,
              "ticks": ""
             }
            },
            "type": "scatterpolar"
           }
          ],
          "scatterpolargl": [
           {
            "marker": {
             "colorbar": {
              "outlinewidth": 0,
              "ticks": ""
             }
            },
            "type": "scatterpolargl"
           }
          ],
          "scatterternary": [
           {
            "marker": {
             "colorbar": {
              "outlinewidth": 0,
              "ticks": ""
             }
            },
            "type": "scatterternary"
           }
          ],
          "surface": [
           {
            "colorbar": {
             "outlinewidth": 0,
             "ticks": ""
            },
            "colorscale": [
             [
              0,
              "#0d0887"
             ],
             [
              0.1111111111111111,
              "#46039f"
             ],
             [
              0.2222222222222222,
              "#7201a8"
             ],
             [
              0.3333333333333333,
              "#9c179e"
             ],
             [
              0.4444444444444444,
              "#bd3786"
             ],
             [
              0.5555555555555556,
              "#d8576b"
             ],
             [
              0.6666666666666666,
              "#ed7953"
             ],
             [
              0.7777777777777778,
              "#fb9f3a"
             ],
             [
              0.8888888888888888,
              "#fdca26"
             ],
             [
              1,
              "#f0f921"
             ]
            ],
            "type": "surface"
           }
          ],
          "table": [
           {
            "cells": {
             "fill": {
              "color": "#EBF0F8"
             },
             "line": {
              "color": "white"
             }
            },
            "header": {
             "fill": {
              "color": "#C8D4E3"
             },
             "line": {
              "color": "white"
             }
            },
            "type": "table"
           }
          ]
         },
         "layout": {
          "annotationdefaults": {
           "arrowcolor": "#2a3f5f",
           "arrowhead": 0,
           "arrowwidth": 1
          },
          "coloraxis": {
           "colorbar": {
            "outlinewidth": 0,
            "ticks": ""
           }
          },
          "colorscale": {
           "diverging": [
            [
             0,
             "#8e0152"
            ],
            [
             0.1,
             "#c51b7d"
            ],
            [
             0.2,
             "#de77ae"
            ],
            [
             0.3,
             "#f1b6da"
            ],
            [
             0.4,
             "#fde0ef"
            ],
            [
             0.5,
             "#f7f7f7"
            ],
            [
             0.6,
             "#e6f5d0"
            ],
            [
             0.7,
             "#b8e186"
            ],
            [
             0.8,
             "#7fbc41"
            ],
            [
             0.9,
             "#4d9221"
            ],
            [
             1,
             "#276419"
            ]
           ],
           "sequential": [
            [
             0,
             "#0d0887"
            ],
            [
             0.1111111111111111,
             "#46039f"
            ],
            [
             0.2222222222222222,
             "#7201a8"
            ],
            [
             0.3333333333333333,
             "#9c179e"
            ],
            [
             0.4444444444444444,
             "#bd3786"
            ],
            [
             0.5555555555555556,
             "#d8576b"
            ],
            [
             0.6666666666666666,
             "#ed7953"
            ],
            [
             0.7777777777777778,
             "#fb9f3a"
            ],
            [
             0.8888888888888888,
             "#fdca26"
            ],
            [
             1,
             "#f0f921"
            ]
           ],
           "sequentialminus": [
            [
             0,
             "#0d0887"
            ],
            [
             0.1111111111111111,
             "#46039f"
            ],
            [
             0.2222222222222222,
             "#7201a8"
            ],
            [
             0.3333333333333333,
             "#9c179e"
            ],
            [
             0.4444444444444444,
             "#bd3786"
            ],
            [
             0.5555555555555556,
             "#d8576b"
            ],
            [
             0.6666666666666666,
             "#ed7953"
            ],
            [
             0.7777777777777778,
             "#fb9f3a"
            ],
            [
             0.8888888888888888,
             "#fdca26"
            ],
            [
             1,
             "#f0f921"
            ]
           ]
          },
          "colorway": [
           "#636efa",
           "#EF553B",
           "#00cc96",
           "#ab63fa",
           "#FFA15A",
           "#19d3f3",
           "#FF6692",
           "#B6E880",
           "#FF97FF",
           "#FECB52"
          ],
          "font": {
           "color": "#2a3f5f"
          },
          "geo": {
           "bgcolor": "white",
           "lakecolor": "white",
           "landcolor": "#E5ECF6",
           "showlakes": true,
           "showland": true,
           "subunitcolor": "white"
          },
          "hoverlabel": {
           "align": "left"
          },
          "hovermode": "closest",
          "mapbox": {
           "style": "light"
          },
          "paper_bgcolor": "white",
          "plot_bgcolor": "#E5ECF6",
          "polar": {
           "angularaxis": {
            "gridcolor": "white",
            "linecolor": "white",
            "ticks": ""
           },
           "bgcolor": "#E5ECF6",
           "radialaxis": {
            "gridcolor": "white",
            "linecolor": "white",
            "ticks": ""
           }
          },
          "scene": {
           "xaxis": {
            "backgroundcolor": "#E5ECF6",
            "gridcolor": "white",
            "gridwidth": 2,
            "linecolor": "white",
            "showbackground": true,
            "ticks": "",
            "zerolinecolor": "white"
           },
           "yaxis": {
            "backgroundcolor": "#E5ECF6",
            "gridcolor": "white",
            "gridwidth": 2,
            "linecolor": "white",
            "showbackground": true,
            "ticks": "",
            "zerolinecolor": "white"
           },
           "zaxis": {
            "backgroundcolor": "#E5ECF6",
            "gridcolor": "white",
            "gridwidth": 2,
            "linecolor": "white",
            "showbackground": true,
            "ticks": "",
            "zerolinecolor": "white"
           }
          },
          "shapedefaults": {
           "line": {
            "color": "#2a3f5f"
           }
          },
          "ternary": {
           "aaxis": {
            "gridcolor": "white",
            "linecolor": "white",
            "ticks": ""
           },
           "baxis": {
            "gridcolor": "white",
            "linecolor": "white",
            "ticks": ""
           },
           "bgcolor": "#E5ECF6",
           "caxis": {
            "gridcolor": "white",
            "linecolor": "white",
            "ticks": ""
           }
          },
          "title": {
           "x": 0.05
          },
          "xaxis": {
           "automargin": true,
           "gridcolor": "white",
           "linecolor": "white",
           "ticks": "",
           "title": {
            "standoff": 15
           },
           "zerolinecolor": "white",
           "zerolinewidth": 2
          },
          "yaxis": {
           "automargin": true,
           "gridcolor": "white",
           "linecolor": "white",
           "ticks": "",
           "title": {
            "standoff": 15
           },
           "zerolinecolor": "white",
           "zerolinewidth": 2
          }
         }
        },
        "title": {
         "text": "2D Cluster PCA Plot"
        },
        "xaxis": {
         "anchor": "y",
         "domain": [
          0,
          1
         ],
         "title": {
          "text": "PCA1"
         }
        },
        "yaxis": {
         "anchor": "x",
         "domain": [
          0,
          1
         ],
         "title": {
          "text": "PCA2"
         }
        }
       }
      },
      "text/html": [
       "<div>\n",
       "        \n",
       "        \n",
       "            <div id=\"bc6c04a6-e6a4-49c8-b8c0-11a4c604c394\" class=\"plotly-graph-div\" style=\"height:600px; width:100%;\"></div>\n",
       "            <script type=\"text/javascript\">\n",
       "                require([\"plotly\"], function(Plotly) {\n",
       "                    window.PLOTLYENV=window.PLOTLYENV || {};\n",
       "                    \n",
       "                if (document.getElementById(\"bc6c04a6-e6a4-49c8-b8c0-11a4c604c394\")) {\n",
       "                    Plotly.newPlot(\n",
       "                        'bc6c04a6-e6a4-49c8-b8c0-11a4c604c394',\n",
       "                        [{\"customdata\": [[5.1], [4.9], [4.7], [4.6], [5.0], [5.4], [4.6], [5.0], [4.4], [4.9], [5.4], [4.8], [4.8], [4.3], [5.8], [5.7], [5.4], [5.1], [5.7], [5.1], [5.4], [5.1], [4.6], [5.1], [4.8], [5.0], [5.0], [5.2], [5.2], [4.7], [4.8], [5.4], [5.2], [5.5], [4.9], [5.0], [5.5], [4.9], [4.4], [5.1], [5.0], [4.5], [4.4], [5.0], [5.1], [4.8], [5.1], [4.6], [5.3], [5.0]], \"hoverlabel\": {\"namelength\": 0}, \"hovertemplate\": \"Cluster=Cluster 0<br>PCA1=%{x}<br>PCA2=%{y}<br>Feature=%{customdata[0]}\", \"legendgroup\": \"Cluster=Cluster 0\", \"marker\": {\"color\": \"#636efa\", \"opacity\": 0.5, \"symbol\": \"circle\"}, \"mode\": \"markers\", \"name\": \"Cluster=Cluster 0\", \"showlegend\": true, \"textposition\": \"top center\", \"type\": \"scatter\", \"x\": [0.7291022618446474, 1.292438261508866, 0.38527336176351173, 1.1183771800520395, 0.08439190420211803, 0.9514688186325884, 0.26807898799094054, 0.6785959930683734, 0.9341381898459858, -0.12677282831736447, 0.9905906372606472, 0.29532500233177267, 0.5344802471435429, -0.448215219123042, 0.03365400103601306, 1.0464196798819512, -0.6807287958550371, 1.0967433227784658, 0.6601066060607249, 1.0892956240255693, 0.21807561712183005, 1.4515071537718902, 0.929332063451848, 0.907626707802148, 1.3238807469941989, 1.542421679890451, 0.32939094047097395, -0.8329200154872906, 0.6598215929996628, 0.40394100448975556, 0.36111843901737145, 0.38555837482457406, -0.6379596090538867, 0.26291635015961506, 0.899782868484553, 0.489711012481884, 0.9394609636910131, 0.20181791236451757, 0.8259139580915327, 1.2168686521320267, 0.819335634337452, 0.6093153242233859, 1.3723110993726721, 0.17210858138352114, -0.1421711237303225, -0.024798494239157257, -0.2545059924375225, 0.8252861831370059, 0.2784929012911672, 1.2779670899271236], \"xaxis\": \"x\", \"y\": [0.6380747962675423, 0.8776055503469681, 0.7418902399810651, 0.6506461441763504, 1.0163935582913544, 1.007986310205467, 0.893669192334302, 0.8164089962106399, 0.4686879219091513, 0.8038833555136471, 0.7449753634980255, 1.0537282797382068, 0.7113204401422069, 1.378591723869219, 1.0195522769035974, 0.6061582889784922, 1.21274402949285, 0.5005486534312684, 0.8896368207569557, 0.6664242356911034, 1.1287859347749225, 0.4462119318001331, 0.8011062769628622, 0.5405868583336239, 0.6052947045685065, 0.5415073972022222, 0.8591227966850316, 1.0847420674870079, 0.692876821610535, 0.8222533789500369, 0.7835719500529914, 0.9386502391274849, 1.2298409405743296, 0.918905620357436, 0.6928489337270685, 1.03162268244385, 0.5082050473327155, 1.039790087268971, 0.9400918574748746, 0.485756945107164, 0.5229967556568199, 0.8712110215536328, 0.8802532580355366, 0.8667791905864791, 1.0788519775357952, 1.0806639886978457, 0.919797092650888, 0.7513028692776297, 0.7975279618505764, 0.3648724781956291], \"yaxis\": \"y\"}, {\"customdata\": [[7.0], [6.4], [6.9], [5.5], [6.5], [5.7], [6.3], [4.9], [6.6], [5.2], [5.0], [5.9], [6.0], [6.1], [5.6], [6.7], [5.6], [5.8], [6.2], [5.6], [5.9], [6.1], [6.3], [6.1], [6.4], [6.6], [6.8], [6.7], [6.0], [5.7], [5.5], [5.5], [5.8], [6.0], [5.4], [6.0], [6.7], [6.3], [5.6], [5.5], [5.5], [6.1], [5.8], [5.0], [5.6], [5.7], [5.7], [6.2], [5.1], [5.7]], \"hoverlabel\": {\"namelength\": 0}, \"hovertemplate\": \"Cluster=Cluster 1<br>PCA1=%{x}<br>PCA2=%{y}<br>Feature=%{customdata[0]}\", \"legendgroup\": \"Cluster=Cluster 1\", \"marker\": {\"color\": \"#EF553B\", \"opacity\": 0.5, \"symbol\": \"circle\"}, \"mode\": \"markers\", \"name\": \"Cluster=Cluster 1\", \"showlegend\": true, \"textposition\": \"top center\", \"type\": \"scatter\", \"x\": [-2.7937856610979317, -2.658083780612819, -3.305831851178809, -2.6579770232703512, -2.433699056259481, -2.700799588742736, -2.3275997494128964, -2.759091948004204, -2.7356715575550568, -2.757305414828631, -3.3129945368706424, -2.89175611556586, -2.4254100678671233, -2.724219979191882, -2.782565717124584, -2.987494887783451, -2.7376182267443316, -2.9241647677380174, -2.4049558919653067, -2.836554847899082, -2.851793007298339, -2.9906393580493758, -2.8224220680496375, -2.812168290763113, -2.623443446190325, -2.476183229999569, -2.507036983385982, -2.822368689378404, -2.942600776074433, -2.6528143854390254, -2.6224239008322687, -2.3353902100592574, -2.5242933103506386, -3.0945603613168573, -2.95206664239273, -2.876411198824135, -3.0783026565595444, -2.782565717124584, -2.7379032398053935, -2.702977892321838, -2.782565717124584, -2.5855518841594383, -2.969397271179332, -2.7510164742967813, -2.7426026088570636, -2.6998334220559137, -2.676466410278, -2.759933237643666, -2.712126290058551, -2.5296694628669], \"xaxis\": \"x\", \"y\": [-0.3877897997775254, -0.5239591666084892, -0.32579668424494274, -0.4807901309773569, -0.4026093959850962, -0.5194715598744022, -0.6686206238674194, -0.39360629463345587, -0.6672460285337602, -0.8173435192788424, 0.03683889716131305, -0.07728064814222645, -0.293357918785422, -0.24583182597409795, -0.1415510785487179, 0.0710048314408049, -0.3082623573350722, -0.2121033075229973, -0.6367320044618362, -0.4048867108590048, -0.0651645353901586, -0.15232048385059305, -0.11049815566965364, -0.2713929396000773, -0.5513601792799858, -0.22294630792015485, -0.9566816732771669, -0.08891363785408728, -0.11729096516111541, -0.5060265590004908, -0.12264215630518796, -0.4947740306584086, -0.3683977544937885, -0.07011744583610358, 0.29714636041325176, -0.3738337879799404, 0.01887840166984803, -0.1415510785487179, -0.5050223564814927, -0.3356633700065686, -0.1415510785487179, -0.31226684102895197, -0.24215202788306375, -0.3706928886960462, -0.1294349657966499, -0.11233805471517067, -0.407562306431041, -0.6687333540929654, -0.8088793167343423, -0.4294993977329192], \"yaxis\": \"y\"}, {\"customdata\": [[6.3], [5.8], [7.1], [6.3], [6.5], [7.6], [4.9], [7.3], [6.7], [7.2], [6.5], [6.4], [6.8], [5.7], [5.8], [6.4], [6.5], [7.7], [7.7], [6.0], [6.9], [5.6], [7.7], [6.3], [6.7], [7.2], [6.2], [6.1], [6.4], [7.2], [7.4], [7.9], [6.4], [6.3], [6.1], [7.7]], \"hoverlabel\": {\"namelength\": 0}, \"hovertemplate\": \"Cluster=Cluster 2<br>PCA1=%{x}<br>PCA2=%{y}<br>Feature=%{customdata[0]}\", \"legendgroup\": \"Cluster=Cluster 2\", \"marker\": {\"color\": \"#00cc96\", \"opacity\": 0.5, \"symbol\": \"circle\"}, \"mode\": \"markers\", \"name\": \"Cluster=Cluster 2\", \"showlegend\": true, \"textposition\": \"top center\", \"type\": \"scatter\", \"x\": [2.35695001894339, 2.2316620517585033, 1.3762012218660793, 1.4079820990837106, 2.210994361171752, 2.24568807426548, 1.5547971661997022, 1.8804750710054874, 1.9998477483571622, 1.8639676121534545, 2.1944516433533785, 2.394609946584448, 2.01580232034852, 1.5284991988408003, 2.4957248713183007, 2.037329420279627, 1.6352796593131456, 1.5016493250646676, 1.2906628482637785, 1.3204255579160091, 2.605200282820639, 1.4169703608067208, 1.9969701714474066, 1.5284991988408003, 2.0641440350894174, 2.429428536725536, 0.6675329692235861, 2.400578615088894, 1.7650309909987039, 1.90169903817064, 2.2506190777069772, 1.4621313658719093, 1.5040592630335974, 1.6938389119307826, 1.9998296286522694, 2.0426169351583114], \"xaxis\": \"x\", \"y\": [-0.6640439235119938, -0.6240157871647558, -0.35575631098367005, -0.40972263980014406, -0.3669797727506063, -0.37279626760653667, -0.3428223210334323, -0.15506542323865208, -0.4906525654597236, -0.508074162144048, -0.6527356194029786, -0.6001260665918148, -0.6872541271687825, -0.18458531334669556, -0.6873099029357155, -0.5803256720548323, -0.24022303521620753, -0.33103089388420986, -0.38995013314662885, -0.19535471864857046, -0.5548203341957862, -0.0012602465190692776, -0.606055291673291, -0.18458531334669556, -0.3666271992642942, -0.4739361157480228, 0.11688160180669958, -0.28298254290241515, -0.6046985156679808, -0.3337343773397129, -0.573208176960525, -0.08163345404315873, -0.3396636024211892, -0.2581657113793232, -0.5794899755283134, -0.47355565437824415], \"yaxis\": \"y\"}, {\"customdata\": [[6.3], [6.4], [6.0], [6.9], [6.7], [6.9], [5.8], [6.8], [6.7], [6.7], [6.3], [6.5], [6.2], [5.9]], \"hoverlabel\": {\"namelength\": 0}, \"hovertemplate\": \"Cluster=Cluster 3<br>PCA1=%{x}<br>PCA2=%{y}<br>Feature=%{customdata[0]}\", \"legendgroup\": \"Cluster=Cluster 3\", \"marker\": {\"color\": \"#ab63fa\", \"opacity\": 0.5, \"symbol\": \"circle\"}, \"mode\": \"markers\", \"name\": \"Cluster=Cluster 3\", \"showlegend\": true, \"textposition\": \"top center\", \"type\": \"scatter\", \"x\": [2.9014048611964247, 3.5360930759422597, 3.8217897527756315, 2.68525574656421, 3.524191978343152, 2.6344644647268707, 3.437209833458743, 3.276048471808372, 2.989299794096421, 2.9752556518845528, 2.5037469663544902, 2.463748599120627, 2.682236153345646, 3.1278430120815046], \"xaxis\": \"x\", \"y\": [-0.5912143796638057, -0.6334628764263396, -0.5466595014522169, -0.6248971909030905, -1.0900751036679581, -0.6433229901064135, -0.7085027121347058, -1.1561296573530337, -0.5872377838533924, -0.9272947134802016, -0.685981014813872, -0.6308442353129161, -0.7162160604947665, -0.7856792446079687], \"yaxis\": \"y\"}],\n",
       "                        {\"height\": 600, \"legend\": {\"tracegroupgap\": 0}, \"margin\": {\"t\": 60}, \"plot_bgcolor\": \"rgb(240,240,240)\", \"template\": {\"data\": {\"bar\": [{\"error_x\": {\"color\": \"#2a3f5f\"}, \"error_y\": {\"color\": \"#2a3f5f\"}, \"marker\": {\"line\": {\"color\": \"#E5ECF6\", \"width\": 0.5}}, \"type\": \"bar\"}], \"barpolar\": [{\"marker\": {\"line\": {\"color\": \"#E5ECF6\", \"width\": 0.5}}, \"type\": \"barpolar\"}], \"carpet\": [{\"aaxis\": {\"endlinecolor\": \"#2a3f5f\", \"gridcolor\": \"white\", \"linecolor\": \"white\", \"minorgridcolor\": \"white\", \"startlinecolor\": \"#2a3f5f\"}, \"baxis\": {\"endlinecolor\": \"#2a3f5f\", \"gridcolor\": \"white\", \"linecolor\": \"white\", \"minorgridcolor\": \"white\", \"startlinecolor\": \"#2a3f5f\"}, \"type\": \"carpet\"}], \"choropleth\": [{\"colorbar\": {\"outlinewidth\": 0, \"ticks\": \"\"}, \"type\": \"choropleth\"}], \"contour\": [{\"colorbar\": {\"outlinewidth\": 0, \"ticks\": \"\"}, \"colorscale\": [[0.0, \"#0d0887\"], [0.1111111111111111, \"#46039f\"], [0.2222222222222222, \"#7201a8\"], [0.3333333333333333, \"#9c179e\"], [0.4444444444444444, \"#bd3786\"], [0.5555555555555556, \"#d8576b\"], [0.6666666666666666, \"#ed7953\"], [0.7777777777777778, \"#fb9f3a\"], [0.8888888888888888, \"#fdca26\"], [1.0, \"#f0f921\"]], \"type\": \"contour\"}], \"contourcarpet\": [{\"colorbar\": {\"outlinewidth\": 0, \"ticks\": \"\"}, \"type\": \"contourcarpet\"}], \"heatmap\": [{\"colorbar\": {\"outlinewidth\": 0, \"ticks\": \"\"}, \"colorscale\": [[0.0, \"#0d0887\"], [0.1111111111111111, \"#46039f\"], [0.2222222222222222, \"#7201a8\"], [0.3333333333333333, \"#9c179e\"], [0.4444444444444444, \"#bd3786\"], [0.5555555555555556, \"#d8576b\"], [0.6666666666666666, \"#ed7953\"], [0.7777777777777778, \"#fb9f3a\"], [0.8888888888888888, \"#fdca26\"], [1.0, \"#f0f921\"]], \"type\": \"heatmap\"}], \"heatmapgl\": [{\"colorbar\": {\"outlinewidth\": 0, \"ticks\": \"\"}, \"colorscale\": [[0.0, \"#0d0887\"], [0.1111111111111111, \"#46039f\"], [0.2222222222222222, \"#7201a8\"], [0.3333333333333333, \"#9c179e\"], [0.4444444444444444, \"#bd3786\"], [0.5555555555555556, \"#d8576b\"], [0.6666666666666666, \"#ed7953\"], [0.7777777777777778, \"#fb9f3a\"], [0.8888888888888888, \"#fdca26\"], [1.0, \"#f0f921\"]], \"type\": \"heatmapgl\"}], \"histogram\": [{\"marker\": {\"colorbar\": {\"outlinewidth\": 0, \"ticks\": \"\"}}, \"type\": \"histogram\"}], \"histogram2d\": [{\"colorbar\": {\"outlinewidth\": 0, \"ticks\": \"\"}, \"colorscale\": [[0.0, \"#0d0887\"], [0.1111111111111111, \"#46039f\"], [0.2222222222222222, \"#7201a8\"], [0.3333333333333333, \"#9c179e\"], [0.4444444444444444, \"#bd3786\"], [0.5555555555555556, \"#d8576b\"], [0.6666666666666666, \"#ed7953\"], [0.7777777777777778, \"#fb9f3a\"], [0.8888888888888888, \"#fdca26\"], [1.0, \"#f0f921\"]], \"type\": \"histogram2d\"}], \"histogram2dcontour\": [{\"colorbar\": {\"outlinewidth\": 0, \"ticks\": \"\"}, \"colorscale\": [[0.0, \"#0d0887\"], [0.1111111111111111, \"#46039f\"], [0.2222222222222222, \"#7201a8\"], [0.3333333333333333, \"#9c179e\"], [0.4444444444444444, \"#bd3786\"], [0.5555555555555556, \"#d8576b\"], [0.6666666666666666, \"#ed7953\"], [0.7777777777777778, \"#fb9f3a\"], [0.8888888888888888, \"#fdca26\"], [1.0, \"#f0f921\"]], \"type\": \"histogram2dcontour\"}], \"mesh3d\": [{\"colorbar\": {\"outlinewidth\": 0, \"ticks\": \"\"}, \"type\": \"mesh3d\"}], \"parcoords\": [{\"line\": {\"colorbar\": {\"outlinewidth\": 0, \"ticks\": \"\"}}, \"type\": \"parcoords\"}], \"pie\": [{\"automargin\": true, \"type\": \"pie\"}], \"scatter\": [{\"marker\": {\"colorbar\": {\"outlinewidth\": 0, \"ticks\": \"\"}}, \"type\": \"scatter\"}], \"scatter3d\": [{\"line\": {\"colorbar\": {\"outlinewidth\": 0, \"ticks\": \"\"}}, \"marker\": {\"colorbar\": {\"outlinewidth\": 0, \"ticks\": \"\"}}, \"type\": \"scatter3d\"}], \"scattercarpet\": [{\"marker\": {\"colorbar\": {\"outlinewidth\": 0, \"ticks\": \"\"}}, \"type\": \"scattercarpet\"}], \"scattergeo\": [{\"marker\": {\"colorbar\": {\"outlinewidth\": 0, \"ticks\": \"\"}}, \"type\": \"scattergeo\"}], \"scattergl\": [{\"marker\": {\"colorbar\": {\"outlinewidth\": 0, \"ticks\": \"\"}}, \"type\": \"scattergl\"}], \"scattermapbox\": [{\"marker\": {\"colorbar\": {\"outlinewidth\": 0, \"ticks\": \"\"}}, \"type\": \"scattermapbox\"}], \"scatterpolar\": [{\"marker\": {\"colorbar\": {\"outlinewidth\": 0, \"ticks\": \"\"}}, \"type\": \"scatterpolar\"}], \"scatterpolargl\": [{\"marker\": {\"colorbar\": {\"outlinewidth\": 0, \"ticks\": \"\"}}, \"type\": \"scatterpolargl\"}], \"scatterternary\": [{\"marker\": {\"colorbar\": {\"outlinewidth\": 0, \"ticks\": \"\"}}, \"type\": \"scatterternary\"}], \"surface\": [{\"colorbar\": {\"outlinewidth\": 0, \"ticks\": \"\"}, \"colorscale\": [[0.0, \"#0d0887\"], [0.1111111111111111, \"#46039f\"], [0.2222222222222222, \"#7201a8\"], [0.3333333333333333, \"#9c179e\"], [0.4444444444444444, \"#bd3786\"], [0.5555555555555556, \"#d8576b\"], [0.6666666666666666, \"#ed7953\"], [0.7777777777777778, \"#fb9f3a\"], [0.8888888888888888, \"#fdca26\"], [1.0, \"#f0f921\"]], \"type\": \"surface\"}], \"table\": [{\"cells\": {\"fill\": {\"color\": \"#EBF0F8\"}, \"line\": {\"color\": \"white\"}}, \"header\": {\"fill\": {\"color\": \"#C8D4E3\"}, \"line\": {\"color\": \"white\"}}, \"type\": \"table\"}]}, \"layout\": {\"annotationdefaults\": {\"arrowcolor\": \"#2a3f5f\", \"arrowhead\": 0, \"arrowwidth\": 1}, \"coloraxis\": {\"colorbar\": {\"outlinewidth\": 0, \"ticks\": \"\"}}, \"colorscale\": {\"diverging\": [[0, \"#8e0152\"], [0.1, \"#c51b7d\"], [0.2, \"#de77ae\"], [0.3, \"#f1b6da\"], [0.4, \"#fde0ef\"], [0.5, \"#f7f7f7\"], [0.6, \"#e6f5d0\"], [0.7, \"#b8e186\"], [0.8, \"#7fbc41\"], [0.9, \"#4d9221\"], [1, \"#276419\"]], \"sequential\": [[0.0, \"#0d0887\"], [0.1111111111111111, \"#46039f\"], [0.2222222222222222, \"#7201a8\"], [0.3333333333333333, \"#9c179e\"], [0.4444444444444444, \"#bd3786\"], [0.5555555555555556, \"#d8576b\"], [0.6666666666666666, \"#ed7953\"], [0.7777777777777778, \"#fb9f3a\"], [0.8888888888888888, \"#fdca26\"], [1.0, \"#f0f921\"]], \"sequentialminus\": [[0.0, \"#0d0887\"], [0.1111111111111111, \"#46039f\"], [0.2222222222222222, \"#7201a8\"], [0.3333333333333333, \"#9c179e\"], [0.4444444444444444, \"#bd3786\"], [0.5555555555555556, \"#d8576b\"], [0.6666666666666666, \"#ed7953\"], [0.7777777777777778, \"#fb9f3a\"], [0.8888888888888888, \"#fdca26\"], [1.0, \"#f0f921\"]]}, \"colorway\": [\"#636efa\", \"#EF553B\", \"#00cc96\", \"#ab63fa\", \"#FFA15A\", \"#19d3f3\", \"#FF6692\", \"#B6E880\", \"#FF97FF\", \"#FECB52\"], \"font\": {\"color\": \"#2a3f5f\"}, \"geo\": {\"bgcolor\": \"white\", \"lakecolor\": \"white\", \"landcolor\": \"#E5ECF6\", \"showlakes\": true, \"showland\": true, \"subunitcolor\": \"white\"}, \"hoverlabel\": {\"align\": \"left\"}, \"hovermode\": \"closest\", \"mapbox\": {\"style\": \"light\"}, \"paper_bgcolor\": \"white\", \"plot_bgcolor\": \"#E5ECF6\", \"polar\": {\"angularaxis\": {\"gridcolor\": \"white\", \"linecolor\": \"white\", \"ticks\": \"\"}, \"bgcolor\": \"#E5ECF6\", \"radialaxis\": {\"gridcolor\": \"white\", \"linecolor\": \"white\", \"ticks\": \"\"}}, \"scene\": {\"xaxis\": {\"backgroundcolor\": \"#E5ECF6\", \"gridcolor\": \"white\", \"gridwidth\": 2, \"linecolor\": \"white\", \"showbackground\": true, \"ticks\": \"\", \"zerolinecolor\": \"white\"}, \"yaxis\": {\"backgroundcolor\": \"#E5ECF6\", \"gridcolor\": \"white\", \"gridwidth\": 2, \"linecolor\": \"white\", \"showbackground\": true, \"ticks\": \"\", \"zerolinecolor\": \"white\"}, \"zaxis\": {\"backgroundcolor\": \"#E5ECF6\", \"gridcolor\": \"white\", \"gridwidth\": 2, \"linecolor\": \"white\", \"showbackground\": true, \"ticks\": \"\", \"zerolinecolor\": \"white\"}}, \"shapedefaults\": {\"line\": {\"color\": \"#2a3f5f\"}}, \"ternary\": {\"aaxis\": {\"gridcolor\": \"white\", \"linecolor\": \"white\", \"ticks\": \"\"}, \"baxis\": {\"gridcolor\": \"white\", \"linecolor\": \"white\", \"ticks\": \"\"}, \"bgcolor\": \"#E5ECF6\", \"caxis\": {\"gridcolor\": \"white\", \"linecolor\": \"white\", \"ticks\": \"\"}}, \"title\": {\"x\": 0.05}, \"xaxis\": {\"automargin\": true, \"gridcolor\": \"white\", \"linecolor\": \"white\", \"ticks\": \"\", \"title\": {\"standoff\": 15}, \"zerolinecolor\": \"white\", \"zerolinewidth\": 2}, \"yaxis\": {\"automargin\": true, \"gridcolor\": \"white\", \"linecolor\": \"white\", \"ticks\": \"\", \"title\": {\"standoff\": 15}, \"zerolinecolor\": \"white\", \"zerolinewidth\": 2}}}, \"title\": {\"text\": \"2D Cluster PCA Plot\"}, \"xaxis\": {\"anchor\": \"y\", \"domain\": [0.0, 1.0], \"title\": {\"text\": \"PCA1\"}}, \"yaxis\": {\"anchor\": \"x\", \"domain\": [0.0, 1.0], \"title\": {\"text\": \"PCA2\"}}},\n",
       "                        {\"responsive\": true}\n",
       "                    ).then(function(){\n",
       "                            \n",
       "var gd = document.getElementById('bc6c04a6-e6a4-49c8-b8c0-11a4c604c394');\n",
       "var x = new MutationObserver(function (mutations, observer) {{\n",
       "        var display = window.getComputedStyle(gd).display;\n",
       "        if (!display || display === 'none') {{\n",
       "            console.log([gd, 'removed!']);\n",
       "            Plotly.purge(gd);\n",
       "            observer.disconnect();\n",
       "        }}\n",
       "}});\n",
       "\n",
       "// Listen for the removal of the full notebook cells\n",
       "var notebookContainer = gd.closest('#notebook-container');\n",
       "if (notebookContainer) {{\n",
       "    x.observe(notebookContainer, {childList: true});\n",
       "}}\n",
       "\n",
       "// Listen for the clearing of the current output cell\n",
       "var outputEl = gd.closest('.output');\n",
       "if (outputEl) {{\n",
       "    x.observe(outputEl, {childList: true});\n",
       "}}\n",
       "\n",
       "                        })\n",
       "                };\n",
       "                });\n",
       "            </script>\n",
       "        </div>"
      ]
     },
     "metadata": {},
     "output_type": "display_data"
    }
   ],
   "source": [
    "plot_model(kmean)"
   ]
  },
  {
   "cell_type": "code",
   "execution_count": 25,
   "metadata": {},
   "outputs": [
    {
     "data": {
      "text/html": [
       "        <script type=\"text/javascript\">\n",
       "        window.PlotlyConfig = {MathJaxConfig: 'local'};\n",
       "        if (window.MathJax) {MathJax.Hub.Config({SVG: {font: \"STIX-Web\"}});}\n",
       "        if (typeof require !== 'undefined') {\n",
       "        require.undef(\"plotly\");\n",
       "        requirejs.config({\n",
       "            paths: {\n",
       "                'plotly': ['https://cdn.plot.ly/plotly-latest.min']\n",
       "            }\n",
       "        });\n",
       "        require(['plotly'], function(Plotly) {\n",
       "            window._Plotly = Plotly;\n",
       "        });\n",
       "        }\n",
       "        </script>\n",
       "        "
      ]
     },
     "metadata": {},
     "output_type": "display_data"
    },
    {
     "data": {
      "image/png": "[encoded data removed]",
      "text/plain": [
       "<Figure size 800x550 with 1 Axes>"
      ]
     },
     "metadata": {},
     "output_type": "display_data"
    }
   ],
   "source": [
    "plot_model(kmean, plot='elbow', feature = None, label = False)"
   ]
  },
  {
   "cell_type": "code",
   "execution_count": 26,
   "metadata": {},
   "outputs": [
    {
     "data": {
      "text/html": [
       "        <script type=\"text/javascript\">\n",
       "        window.PlotlyConfig = {MathJaxConfig: 'local'};\n",
       "        if (window.MathJax) {MathJax.Hub.Config({SVG: {font: \"STIX-Web\"}});}\n",
       "        if (typeof require !== 'undefined') {\n",
       "        require.undef(\"plotly\");\n",
       "        requirejs.config({\n",
       "            paths: {\n",
       "                'plotly': ['https://cdn.plot.ly/plotly-latest.min']\n",
       "            }\n",
       "        });\n",
       "        require(['plotly'], function(Plotly) {\n",
       "            window._Plotly = Plotly;\n",
       "        });\n",
       "        }\n",
       "        </script>\n",
       "        "
      ]
     },
     "metadata": {},
     "output_type": "display_data"
    },
    {
     "data": {
      "application/vnd.plotly.v1+json": {
       "config": {
        "plotlyServerURL": "https://plot.ly"
       },
       "data": [
        {
         "alignmentgroup": "True",
         "bingroup": "x",
         "hoverlabel": {
          "namelength": 0
         },
         "hovertemplate": "Cluster=%{x}<br>count=%{y}",
         "legendgroup": "Cluster=Cluster 0",
         "marker": {
          "color": "#636efa",
          "opacity": 0.7
         },
         "name": "Cluster=Cluster 0",
         "offsetgroup": "Cluster=Cluster 0",
         "orientation": "v",
         "showlegend": true,
         "type": "histogram",
         "x": [
          "Cluster 0",
          "Cluster 0",
          "Cluster 0",
          "Cluster 0",
          "Cluster 0",
          "Cluster 0",
          "Cluster 0",
          "Cluster 0",
          "Cluster 0",
          "Cluster 0",
          "Cluster 0",
          "Cluster 0",
          "Cluster 0",
          "Cluster 0",
          "Cluster 0",
          "Cluster 0",
          "Cluster 0",
          "Cluster 0",
          "Cluster 0",
          "Cluster 0",
          "Cluster 0",
          "Cluster 0",
          "Cluster 0",
          "Cluster 0",
          "Cluster 0",
          "Cluster 0",
          "Cluster 0",
          "Cluster 0",
          "Cluster 0",
          "Cluster 0",
          "Cluster 0",
          "Cluster 0",
          "Cluster 0",
          "Cluster 0",
          "Cluster 0",
          "Cluster 0",
          "Cluster 0",
          "Cluster 0",
          "Cluster 0",
          "Cluster 0",
          "Cluster 0",
          "Cluster 0",
          "Cluster 0",
          "Cluster 0",
          "Cluster 0",
          "Cluster 0",
          "Cluster 0",
          "Cluster 0",
          "Cluster 0",
          "Cluster 0"
         ],
         "xaxis": "x",
         "yaxis": "y"
        },
        {
         "alignmentgroup": "True",
         "customdata": [
          [
           6.4,
           2.9,
           4.3,
           1.3,
           "Iris-versicolor",
           "Cluster 0"
          ],
          [
           6.3,
           2.5,
           4.9,
           1.5,
           "Iris-versicolor",
           "Cluster 0"
          ],
          [
           6.1,
           2.8,
           4,
           1.3,
           "Iris-versicolor",
           "Cluster 0"
          ],
          [
           5.9,
           3.2,
           4.8,
           1.8,
           "Iris-versicolor",
           "Cluster 0"
          ],
          [
           5.6,
           2.5,
           3.9,
           1.1,
           "Iris-versicolor",
           "Cluster 0"
          ],
          [
           6.2,
           2.2,
           4.5,
           1.5,
           "Iris-versicolor",
           "Cluster 0"
          ],
          [
           5.8,
           2.7,
           4.1,
           1,
           "Iris-versicolor",
           "Cluster 0"
          ],
          [
           5.6,
           3,
           4.5,
           1.5,
           "Iris-versicolor",
           "Cluster 0"
          ],
          [
           6.7,
           3.1,
           4.4,
           1.4,
           "Iris-versicolor",
           "Cluster 0"
          ],
          [
           5.6,
           2.9,
           3.6,
           1.3,
           "Iris-versicolor",
           "Cluster 0"
          ],
          [
           6.1,
           2.9,
           4.7,
           1.4,
           "Iris-versicolor",
           "Cluster 0"
          ],
          [
           6,
           2.2,
           4,
           1,
           "Iris-versicolor",
           "Cluster 0"
          ],
          [
           5.9,
           3,
           4.2,
           1.5,
           "Iris-versicolor",
           "Cluster 0"
          ],
          [
           5,
           2,
           3.5,
           1,
           "Iris-versicolor",
           "Cluster 0"
          ],
          [
           5.2,
           2.7,
           3.9,
           1.4,
           "Iris-versicolor",
           "Cluster 0"
          ],
          [
           6.6,
           2.9,
           4.6,
           1.3,
           "Iris-versicolor",
           "Cluster 0"
          ],
          [
           4.9,
           2.4,
           3.3,
           1,
           "Iris-versicolor",
           "Cluster 0"
          ],
          [
           6.3,
           3.3,
           4.7,
           1.6,
           "Iris-versicolor",
           "Cluster 0"
          ],
          [
           5.7,
           2.8,
           4.5,
           1.3,
           "Iris-versicolor",
           "Cluster 0"
          ],
          [
           6.5,
           2.8,
           4.6,
           1.5,
           "Iris-versicolor",
           "Cluster 0"
          ],
          [
           5.5,
           2.3,
           4,
           1.3,
           "Iris-versicolor",
           "Cluster 0"
          ],
          [
           6.9,
           3.1,
           4.9,
           1.5,
           "Iris-versicolor",
           "Cluster 0"
          ],
          [
           6.1,
           2.8,
           4.7,
           1.2,
           "Iris-versicolor",
           "Cluster 0"
          ],
          [
           6.6,
           3,
           4.4,
           1.4,
           "Iris-versicolor",
           "Cluster 0"
          ],
          [
           6.8,
           2.8,
           4.8,
           1.4,
           "Iris-versicolor",
           "Cluster 0"
          ],
          [
           6.7,
           3,
           5,
           1.7,
           "Iris-versicolor",
           "Cluster 0"
          ],
          [
           5.7,
           2.8,
           4.1,
           1.3,
           "Iris-versicolor",
           "Cluster 0"
          ],
          [
           5.1,
           2.5,
           3,
           1.1,
           "Iris-versicolor",
           "Cluster 0"
          ],
          [
           6.2,
           2.9,
           4.3,
           1.3,
           "Iris-versicolor",
           "Cluster 0"
          ],
          [
           5.7,
           2.9,
           4.2,
           1.3,
           "Iris-versicolor",
           "Cluster 0"
          ],
          [
           5.7,
           3,
           4.2,
           1.2,
           "Iris-versicolor",
           "Cluster 0"
          ],
          [
           5.6,
           2.7,
           4.2,
           1.3,
           "Iris-versicolor",
           "Cluster 0"
          ],
          [
           5,
           2.3,
           3.3,
           1,
           "Iris-versicolor",
           "Cluster 0"
          ],
          [
           5.8,
           2.6,
           4,
           1.2,
           "Iris-versicolor",
           "Cluster 0"
          ],
          [
           6.1,
           3,
           4.6,
           1.4,
           "Iris-versicolor",
           "Cluster 0"
          ],
          [
           5.5,
           2.6,
           4.4,
           1.2,
           "Iris-versicolor",
           "Cluster 0"
          ],
          [
           6.4,
           3.2,
           4.5,
           1.5,
           "Iris-versicolor",
           "Cluster 0"
          ],
          [
           5.5,
           2.5,
           4,
           1.3,
           "Iris-versicolor",
           "Cluster 0"
          ],
          [
           6.3,
           2.3,
           4.4,
           1.3,
           "Iris-versicolor",
           "Cluster 0"
          ],
          [
           6.7,
           3.1,
           4.7,
           1.5,
           "Iris-versicolor",
           "Cluster 0"
          ],
          [
           6,
           3.4,
           4.5,
           1.6,
           "Iris-versicolor",
           "Cluster 0"
          ],
          [
           5.4,
           3,
           4.5,
           1.5,
           "Iris-versicolor",
           "Cluster 0"
          ],
          [
           6,
           2.7,
           5.1,
           1.6,
           "Iris-versicolor",
           "Cluster 0"
          ],
          [
           5.8,
           2.7,
           3.9,
           1.2,
           "Iris-versicolor",
           "Cluster 0"
          ],
          [
           5.5,
           2.4,
           3.7,
           1,
           "Iris-versicolor",
           "Cluster 0"
          ],
          [
           5.5,
           2.4,
           3.8,
           1.1,
           "Iris-versicolor",
           "Cluster 0"
          ],
          [
           5.7,
           2.6,
           3.5,
           1,
           "Iris-versicolor",
           "Cluster 0"
          ],
          [
           6,
           2.9,
           4.5,
           1.5,
           "Iris-versicolor",
           "Cluster 0"
          ],
          [
           5.6,
           3,
           4.1,
           1.3,
           "Iris-versicolor",
           "Cluster 0"
          ],
          [
           7,
           3.2,
           4.7,
           1.4,
           "Iris-versicolor",
           "Cluster 0"
          ]
         ],
         "hoverlabel": {
          "namelength": 0
         },
         "hovertemplate": "Cluster=%{customdata[5]}<br>SepalLengthCm=%{customdata[0]}<br>SepalWidthCm=%{customdata[1]}<br>PetalLengthCm=%{customdata[2]}<br>PetalWidthCm=%{customdata[3]}<br>Species=%{customdata[4]}",
         "legendgroup": "Cluster=Cluster 0",
         "marker": {
          "color": "#636efa"
         },
         "name": "Cluster=Cluster 0",
         "notched": true,
         "offsetgroup": "Cluster=Cluster 0",
         "showlegend": false,
         "type": "box",
         "x": [
          "Cluster 0",
          "Cluster 0",
          "Cluster 0",
          "Cluster 0",
          "Cluster 0",
          "Cluster 0",
          "Cluster 0",
          "Cluster 0",
          "Cluster 0",
          "Cluster 0",
          "Cluster 0",
          "Cluster 0",
          "Cluster 0",
          "Cluster 0",
          "Cluster 0",
          "Cluster 0",
          "Cluster 0",
          "Cluster 0",
          "Cluster 0",
          "Cluster 0",
          "Cluster 0",
          "Cluster 0",
          "Cluster 0",
          "Cluster 0",
          "Cluster 0",
          "Cluster 0",
          "Cluster 0",
          "Cluster 0",
          "Cluster 0",
          "Cluster 0",
          "Cluster 0",
          "Cluster 0",
          "Cluster 0",
          "Cluster 0",
          "Cluster 0",
          "Cluster 0",
          "Cluster 0",
          "Cluster 0",
          "Cluster 0",
          "Cluster 0",
          "Cluster 0",
          "Cluster 0",
          "Cluster 0",
          "Cluster 0",
          "Cluster 0",
          "Cluster 0",
          "Cluster 0",
          "Cluster 0",
          "Cluster 0",
          "Cluster 0"
         ],
         "xaxis": "x2",
         "yaxis": "y2"
        },
        {
         "alignmentgroup": "True",
         "bingroup": "x",
         "hoverlabel": {
          "namelength": 0
         },
         "hovertemplate": "Cluster=%{x}<br>count=%{y}",
         "legendgroup": "Cluster=Cluster 1",
         "marker": {
          "color": "#EF553B",
          "opacity": 0.7
         },
         "name": "Cluster=Cluster 1",
         "offsetgroup": "Cluster=Cluster 1",
         "orientation": "v",
         "showlegend": true,
         "type": "histogram",
         "x": [
          "Cluster 1",
          "Cluster 1",
          "Cluster 1",
          "Cluster 1",
          "Cluster 1",
          "Cluster 1",
          "Cluster 1",
          "Cluster 1",
          "Cluster 1",
          "Cluster 1",
          "Cluster 1",
          "Cluster 1",
          "Cluster 1",
          "Cluster 1",
          "Cluster 1",
          "Cluster 1",
          "Cluster 1",
          "Cluster 1",
          "Cluster 1",
          "Cluster 1",
          "Cluster 1",
          "Cluster 1",
          "Cluster 1",
          "Cluster 1",
          "Cluster 1",
          "Cluster 1",
          "Cluster 1",
          "Cluster 1",
          "Cluster 1",
          "Cluster 1",
          "Cluster 1",
          "Cluster 1",
          "Cluster 1",
          "Cluster 1",
          "Cluster 1",
          "Cluster 1",
          "Cluster 1",
          "Cluster 1",
          "Cluster 1",
          "Cluster 1",
          "Cluster 1",
          "Cluster 1",
          "Cluster 1",
          "Cluster 1",
          "Cluster 1",
          "Cluster 1",
          "Cluster 1",
          "Cluster 1",
          "Cluster 1",
          "Cluster 1"
         ],
         "xaxis": "x",
         "yaxis": "y"
        },
        {
         "alignmentgroup": "True",
         "customdata": [
          [
           5.1,
           3.5,
           1.4,
           0.2,
           "Iris-setosa",
           "Cluster 1"
          ],
          [
           5.3,
           3.7,
           1.5,
           0.2,
           "Iris-setosa",
           "Cluster 1"
          ],
          [
           4.6,
           3.6,
           1,
           0.2,
           "Iris-setosa",
           "Cluster 1"
          ],
          [
           5.1,
           3.7,
           1.5,
           0.4,
           "Iris-setosa",
           "Cluster 1"
          ],
          [
           5.4,
           3.4,
           1.7,
           0.2,
           "Iris-setosa",
           "Cluster 1"
          ],
          [
           5.1,
           3.8,
           1.5,
           0.3,
           "Iris-setosa",
           "Cluster 1"
          ],
          [
           5.7,
           3.8,
           1.7,
           0.3,
           "Iris-setosa",
           "Cluster 1"
          ],
          [
           5.1,
           3.5,
           1.4,
           0.3,
           "Iris-setosa",
           "Cluster 1"
          ],
          [
           5.4,
           3.9,
           1.3,
           0.4,
           "Iris-setosa",
           "Cluster 1"
          ],
          [
           5.8,
           4,
           1.2,
           0.2,
           "Iris-setosa",
           "Cluster 1"
          ],
          [
           4.3,
           3,
           1.1,
           0.1,
           "Iris-setosa",
           "Cluster 1"
          ],
          [
           4.8,
           3,
           1.4,
           0.1,
           "Iris-setosa",
           "Cluster 1"
          ],
          [
           5.1,
           3.3,
           1.7,
           0.5,
           "Iris-setosa",
           "Cluster 1"
          ],
          [
           4.8,
           3.4,
           1.6,
           0.2,
           "Iris-setosa",
           "Cluster 1"
          ],
          [
           4.9,
           3.1,
           1.5,
           0.1,
           "Iris-setosa",
           "Cluster 1"
          ],
          [
           4.4,
           2.9,
           1.4,
           0.2,
           "Iris-setosa",
           "Cluster 1"
          ],
          [
           5,
           3.4,
           1.5,
           0.2,
           "Iris-setosa",
           "Cluster 1"
          ],
          [
           4.6,
           3.4,
           1.4,
           0.3,
           "Iris-setosa",
           "Cluster 1"
          ],
          [
           5.4,
           3.9,
           1.7,
           0.4,
           "Iris-setosa",
           "Cluster 1"
          ],
          [
           5,
           3.6,
           1.4,
           0.2,
           "Iris-setosa",
           "Cluster 1"
          ],
          [
           4.6,
           3.1,
           1.5,
           0.2,
           "Iris-setosa",
           "Cluster 1"
          ],
          [
           4.7,
           3.2,
           1.3,
           0.2,
           "Iris-setosa",
           "Cluster 1"
          ],
          [
           4.9,
           3,
           1.4,
           0.2,
           "Iris-setosa",
           "Cluster 1"
          ],
          [
           5,
           3.3,
           1.4,
           0.2,
           "Iris-setosa",
           "Cluster 1"
          ],
          [
           5.4,
           3.7,
           1.5,
           0.2,
           "Iris-setosa",
           "Cluster 1"
          ],
          [
           4.8,
           3.4,
           1.9,
           0.2,
           "Iris-setosa",
           "Cluster 1"
          ],
          [
           5.7,
           4.4,
           1.5,
           0.4,
           "Iris-setosa",
           "Cluster 1"
          ],
          [
           4.8,
           3,
           1.4,
           0.3,
           "Iris-setosa",
           "Cluster 1"
          ],
          [
           4.6,
           3.2,
           1.4,
           0.2,
           "Iris-setosa",
           "Cluster 1"
          ],
          [
           5.1,
           3.8,
           1.6,
           0.2,
           "Iris-setosa",
           "Cluster 1"
          ],
          [
           5,
           3,
           1.6,
           0.2,
           "Iris-setosa",
           "Cluster 1"
          ],
          [
           5.1,
           3.8,
           1.9,
           0.4,
           "Iris-setosa",
           "Cluster 1"
          ],
          [
           5,
           3.5,
           1.6,
           0.6,
           "Iris-setosa",
           "Cluster 1"
          ],
          [
           4.4,
           3.2,
           1.3,
           0.2,
           "Iris-setosa",
           "Cluster 1"
          ],
          [
           4.5,
           2.3,
           1.3,
           0.3,
           "Iris-setosa",
           "Cluster 1"
          ],
          [
           5,
           3.5,
           1.3,
           0.3,
           "Iris-setosa",
           "Cluster 1"
          ],
          [
           4.4,
           3,
           1.3,
           0.2,
           "Iris-setosa",
           "Cluster 1"
          ],
          [
           4.9,
           3.1,
           1.5,
           0.1,
           "Iris-setosa",
           "Cluster 1"
          ],
          [
           5.5,
           3.5,
           1.3,
           0.2,
           "Iris-setosa",
           "Cluster 1"
          ],
          [
           5.1,
           3.4,
           1.5,
           0.2,
           "Iris-setosa",
           "Cluster 1"
          ],
          [
           4.9,
           3.1,
           1.5,
           0.1,
           "Iris-setosa",
           "Cluster 1"
          ],
          [
           5,
           3.4,
           1.6,
           0.4,
           "Iris-setosa",
           "Cluster 1"
          ],
          [
           5,
           3.2,
           1.2,
           0.2,
           "Iris-setosa",
           "Cluster 1"
          ],
          [
           5.2,
           3.4,
           1.4,
           0.2,
           "Iris-setosa",
           "Cluster 1"
          ],
          [
           4.7,
           3.2,
           1.6,
           0.2,
           "Iris-setosa",
           "Cluster 1"
          ],
          [
           4.8,
           3.1,
           1.6,
           0.2,
           "Iris-setosa",
           "Cluster 1"
          ],
          [
           5.2,
           3.5,
           1.5,
           0.2,
           "Iris-setosa",
           "Cluster 1"
          ],
          [
           5.2,
           4.1,
           1.5,
           0.1,
           "Iris-setosa",
           "Cluster 1"
          ],
          [
           5.5,
           4.2,
           1.4,
           0.2,
           "Iris-setosa",
           "Cluster 1"
          ],
          [
           5.4,
           3.4,
           1.5,
           0.4,
           "Iris-setosa",
           "Cluster 1"
          ]
         ],
         "hoverlabel": {
          "namelength": 0
         },
         "hovertemplate": "Cluster=%{customdata[5]}<br>SepalLengthCm=%{customdata[0]}<br>SepalWidthCm=%{customdata[1]}<br>PetalLengthCm=%{customdata[2]}<br>PetalWidthCm=%{customdata[3]}<br>Species=%{customdata[4]}",
         "legendgroup": "Cluster=Cluster 1",
         "marker": {
          "color": "#EF553B"
         },
         "name": "Cluster=Cluster 1",
         "notched": true,
         "offsetgroup": "Cluster=Cluster 1",
         "showlegend": false,
         "type": "box",
         "x": [
          "Cluster 1",
          "Cluster 1",
          "Cluster 1",
          "Cluster 1",
          "Cluster 1",
          "Cluster 1",
          "Cluster 1",
          "Cluster 1",
          "Cluster 1",
          "Cluster 1",
          "Cluster 1",
          "Cluster 1",
          "Cluster 1",
          "Cluster 1",
          "Cluster 1",
          "Cluster 1",
          "Cluster 1",
          "Cluster 1",
          "Cluster 1",
          "Cluster 1",
          "Cluster 1",
          "Cluster 1",
          "Cluster 1",
          "Cluster 1",
          "Cluster 1",
          "Cluster 1",
          "Cluster 1",
          "Cluster 1",
          "Cluster 1",
          "Cluster 1",
          "Cluster 1",
          "Cluster 1",
          "Cluster 1",
          "Cluster 1",
          "Cluster 1",
          "Cluster 1",
          "Cluster 1",
          "Cluster 1",
          "Cluster 1",
          "Cluster 1",
          "Cluster 1",
          "Cluster 1",
          "Cluster 1",
          "Cluster 1",
          "Cluster 1",
          "Cluster 1",
          "Cluster 1",
          "Cluster 1",
          "Cluster 1",
          "Cluster 1"
         ],
         "xaxis": "x2",
         "yaxis": "y2"
        },
        {
         "alignmentgroup": "True",
         "bingroup": "x",
         "hoverlabel": {
          "namelength": 0
         },
         "hovertemplate": "Cluster=%{x}<br>count=%{y}",
         "legendgroup": "Cluster=Cluster 2",
         "marker": {
          "color": "#00cc96",
          "opacity": 0.7
         },
         "name": "Cluster=Cluster 2",
         "offsetgroup": "Cluster=Cluster 2",
         "orientation": "v",
         "showlegend": true,
         "type": "histogram",
         "x": [
          "Cluster 2",
          "Cluster 2",
          "Cluster 2",
          "Cluster 2",
          "Cluster 2",
          "Cluster 2",
          "Cluster 2",
          "Cluster 2",
          "Cluster 2",
          "Cluster 2",
          "Cluster 2",
          "Cluster 2",
          "Cluster 2",
          "Cluster 2",
          "Cluster 2",
          "Cluster 2",
          "Cluster 2",
          "Cluster 2",
          "Cluster 2",
          "Cluster 2",
          "Cluster 2",
          "Cluster 2",
          "Cluster 2",
          "Cluster 2",
          "Cluster 2",
          "Cluster 2",
          "Cluster 2",
          "Cluster 2",
          "Cluster 2",
          "Cluster 2",
          "Cluster 2",
          "Cluster 2",
          "Cluster 2",
          "Cluster 2",
          "Cluster 2",
          "Cluster 2"
         ],
         "xaxis": "x",
         "yaxis": "y"
        },
        {
         "alignmentgroup": "True",
         "customdata": [
          [
           6.7,
           3.3,
           5.7,
           2.1,
           "Iris-virginica",
           "Cluster 2"
          ],
          [
           6.3,
           3.4,
           5.6,
           2.4,
           "Iris-virginica",
           "Cluster 2"
          ],
          [
           6.2,
           2.8,
           4.8,
           1.8,
           "Iris-virginica",
           "Cluster 2"
          ],
          [
           6.1,
           3,
           4.9,
           1.8,
           "Iris-virginica",
           "Cluster 2"
          ],
          [
           6.4,
           2.8,
           5.6,
           2.1,
           "Iris-virginica",
           "Cluster 2"
          ],
          [
           6.4,
           2.8,
           5.6,
           2.2,
           "Iris-virginica",
           "Cluster 2"
          ],
          [
           6.3,
           2.8,
           5.1,
           1.5,
           "Iris-virginica",
           "Cluster 2"
          ],
          [
           6.1,
           2.6,
           5.6,
           1.4,
           "Iris-virginica",
           "Cluster 2"
          ],
          [
           6.4,
           3.1,
           5.5,
           1.8,
           "Iris-virginica",
           "Cluster 2"
          ],
          [
           6.5,
           3,
           5.2,
           2,
           "Iris-virginica",
           "Cluster 2"
          ],
          [
           6.9,
           3.1,
           5.4,
           2.1,
           "Iris-virginica",
           "Cluster 2"
          ],
          [
           6.7,
           3.1,
           5.6,
           2.4,
           "Iris-virginica",
           "Cluster 2"
          ],
          [
           6.9,
           3.1,
           5.1,
           2.3,
           "Iris-virginica",
           "Cluster 2"
          ],
          [
           5.8,
           2.7,
           5.1,
           1.9,
           "Iris-virginica",
           "Cluster 2"
          ],
          [
           6.7,
           3.3,
           5.7,
           2.5,
           "Iris-virginica",
           "Cluster 2"
          ],
          [
           6.7,
           3,
           5.2,
           2.3,
           "Iris-virginica",
           "Cluster 2"
          ],
          [
           6.3,
           2.5,
           5,
           1.9,
           "Iris-virginica",
           "Cluster 2"
          ],
          [
           6.3,
           2.7,
           4.9,
           1.8,
           "Iris-virginica",
           "Cluster 2"
          ],
          [
           6,
           3,
           4.8,
           1.8,
           "Iris-virginica",
           "Cluster 2"
          ],
          [
           5.6,
           2.8,
           4.9,
           2,
           "Iris-virginica",
           "Cluster 2"
          ],
          [
           6.3,
           3.3,
           6,
           2.5,
           "Iris-virginica",
           "Cluster 2"
          ],
          [
           6,
           2.2,
           5,
           1.5,
           "Iris-virginica",
           "Cluster 2"
          ],
          [
           6.2,
           3.4,
           5.4,
           2.3,
           "Iris-virginica",
           "Cluster 2"
          ],
          [
           5.8,
           2.7,
           5.1,
           1.9,
           "Iris-virginica",
           "Cluster 2"
          ],
          [
           6.3,
           2.9,
           5.6,
           1.8,
           "Iris-virginica",
           "Cluster 2"
          ],
          [
           6.5,
           3,
           5.8,
           2.2,
           "Iris-virginica",
           "Cluster 2"
          ],
          [
           4.9,
           2.5,
           4.5,
           1.7,
           "Iris-virginica",
           "Cluster 2"
          ],
          [
           6.7,
           2.5,
           5.8,
           1.8,
           "Iris-virginica",
           "Cluster 2"
          ],
          [
           6.5,
           3.2,
           5.1,
           2,
           "Iris-virginica",
           "Cluster 2"
          ],
          [
           6.4,
           2.7,
           5.3,
           1.9,
           "Iris-virginica",
           "Cluster 2"
          ],
          [
           6.8,
           3,
           5.5,
           2.1,
           "Iris-virginica",
           "Cluster 2"
          ],
          [
           5.7,
           2.5,
           5,
           2,
           "Iris-virginica",
           "Cluster 2"
          ],
          [
           5.9,
           3,
           5.1,
           1.8,
           "Iris-virginica",
           "Cluster 2"
          ],
          [
           5.8,
           2.8,
           5.1,
           2.4,
           "Iris-virginica",
           "Cluster 2"
          ],
          [
           6.4,
           3.2,
           5.3,
           2.3,
           "Iris-virginica",
           "Cluster 2"
          ],
          [
           6.5,
           3,
           5.5,
           1.8,
           "Iris-virginica",
           "Cluster 2"
          ]
         ],
         "hoverlabel": {
          "namelength": 0
         },
         "hovertemplate": "Cluster=%{customdata[5]}<br>SepalLengthCm=%{customdata[0]}<br>SepalWidthCm=%{customdata[1]}<br>PetalLengthCm=%{customdata[2]}<br>PetalWidthCm=%{customdata[3]}<br>Species=%{customdata[4]}",
         "legendgroup": "Cluster=Cluster 2",
         "marker": {
          "color": "#00cc96"
         },
         "name": "Cluster=Cluster 2",
         "notched": true,
         "offsetgroup": "Cluster=Cluster 2",
         "showlegend": false,
         "type": "box",
         "x": [
          "Cluster 2",
          "Cluster 2",
          "Cluster 2",
          "Cluster 2",
          "Cluster 2",
          "Cluster 2",
          "Cluster 2",
          "Cluster 2",
          "Cluster 2",
          "Cluster 2",
          "Cluster 2",
          "Cluster 2",
          "Cluster 2",
          "Cluster 2",
          "Cluster 2",
          "Cluster 2",
          "Cluster 2",
          "Cluster 2",
          "Cluster 2",
          "Cluster 2",
          "Cluster 2",
          "Cluster 2",
          "Cluster 2",
          "Cluster 2",
          "Cluster 2",
          "Cluster 2",
          "Cluster 2",
          "Cluster 2",
          "Cluster 2",
          "Cluster 2",
          "Cluster 2",
          "Cluster 2",
          "Cluster 2",
          "Cluster 2",
          "Cluster 2",
          "Cluster 2"
         ],
         "xaxis": "x2",
         "yaxis": "y2"
        },
        {
         "alignmentgroup": "True",
         "bingroup": "x",
         "hoverlabel": {
          "namelength": 0
         },
         "hovertemplate": "Cluster=%{x}<br>count=%{y}",
         "legendgroup": "Cluster=Cluster 3",
         "marker": {
          "color": "#ab63fa",
          "opacity": 0.7
         },
         "name": "Cluster=Cluster 3",
         "offsetgroup": "Cluster=Cluster 3",
         "orientation": "v",
         "showlegend": true,
         "type": "histogram",
         "x": [
          "Cluster 3",
          "Cluster 3",
          "Cluster 3",
          "Cluster 3",
          "Cluster 3",
          "Cluster 3",
          "Cluster 3",
          "Cluster 3",
          "Cluster 3",
          "Cluster 3",
          "Cluster 3",
          "Cluster 3",
          "Cluster 3",
          "Cluster 3"
         ],
         "xaxis": "x",
         "yaxis": "y"
        },
        {
         "alignmentgroup": "True",
         "customdata": [
          [
           7.4,
           2.8,
           6.1,
           1.9,
           "Iris-virginica",
           "Cluster 3"
          ],
          [
           7.7,
           2.8,
           6.7,
           2,
           "Iris-virginica",
           "Cluster 3"
          ],
          [
           7.7,
           2.6,
           6.9,
           2.3,
           "Iris-virginica",
           "Cluster 3"
          ],
          [
           7.1,
           3,
           5.9,
           2.1,
           "Iris-virginica",
           "Cluster 3"
          ],
          [
           7.7,
           3.8,
           6.7,
           2.2,
           "Iris-virginica",
           "Cluster 3"
          ],
          [
           6.8,
           3.2,
           5.9,
           2.3,
           "Iris-virginica",
           "Cluster 3"
          ],
          [
           7.6,
           3,
           6.6,
           2.1,
           "Iris-virginica",
           "Cluster 3"
          ],
          [
           7.9,
           3.8,
           6.4,
           2,
           "Iris-virginica",
           "Cluster 3"
          ],
          [
           7.3,
           2.9,
           6.3,
           1.8,
           "Iris-virginica",
           "Cluster 3"
          ],
          [
           7.2,
           3.6,
           6.1,
           2.5,
           "Iris-virginica",
           "Cluster 3"
          ],
          [
           6.9,
           3.2,
           5.7,
           2.3,
           "Iris-virginica",
           "Cluster 3"
          ],
          [
           7.2,
           3,
           5.8,
           1.6,
           "Iris-virginica",
           "Cluster 3"
          ],
          [
           7.2,
           3.2,
           6,
           1.8,
           "Iris-virginica",
           "Cluster 3"
          ],
          [
           7.7,
           3,
           6.1,
           2.3,
           "Iris-virginica",
           "Cluster 3"
          ]
         ],
         "hoverlabel": {
          "namelength": 0
         },
         "hovertemplate": "Cluster=%{customdata[5]}<br>SepalLengthCm=%{customdata[0]}<br>SepalWidthCm=%{customdata[1]}<br>PetalLengthCm=%{customdata[2]}<br>PetalWidthCm=%{customdata[3]}<br>Species=%{customdata[4]}",
         "legendgroup": "Cluster=Cluster 3",
         "marker": {
          "color": "#ab63fa"
         },
         "name": "Cluster=Cluster 3",
         "notched": true,
         "offsetgroup": "Cluster=Cluster 3",
         "showlegend": false,
         "type": "box",
         "x": [
          "Cluster 3",
          "Cluster 3",
          "Cluster 3",
          "Cluster 3",
          "Cluster 3",
          "Cluster 3",
          "Cluster 3",
          "Cluster 3",
          "Cluster 3",
          "Cluster 3",
          "Cluster 3",
          "Cluster 3",
          "Cluster 3",
          "Cluster 3"
         ],
         "xaxis": "x2",
         "yaxis": "y2"
        }
       ],
       "layout": {
        "barmode": "relative",
        "legend": {
         "tracegroupgap": 0
        },
        "margin": {
         "t": 60
        },
        "template": {
         "data": {
          "bar": [
           {
            "error_x": {
             "color": "#2a3f5f"
            },
            "error_y": {
             "color": "#2a3f5f"
            },
            "marker": {
             "line": {
              "color": "#E5ECF6",
              "width": 0.5
             }
            },
            "type": "bar"
           }
          ],
          "barpolar": [
           {
            "marker": {
             "line": {
              "color": "#E5ECF6",
              "width": 0.5
             }
            },
            "type": "barpolar"
           }
          ],
          "carpet": [
           {
            "aaxis": {
             "endlinecolor": "#2a3f5f",
             "gridcolor": "white",
             "linecolor": "white",
             "minorgridcolor": "white",
             "startlinecolor": "#2a3f5f"
            },
            "baxis": {
             "endlinecolor": "#2a3f5f",
             "gridcolor": "white",
             "linecolor": "white",
             "minorgridcolor": "white",
             "startlinecolor": "#2a3f5f"
            },
            "type": "carpet"
           }
          ],
          "choropleth": [
           {
            "colorbar": {
             "outlinewidth": 0,
             "ticks": ""
            },
            "type": "choropleth"
           }
          ],
          "contour": [
           {
            "colorbar": {
             "outlinewidth": 0,
             "ticks": ""
            },
            "colorscale": [
             [
              0,
              "#0d0887"
             ],
             [
              0.1111111111111111,
              "#46039f"
             ],
             [
              0.2222222222222222,
              "#7201a8"
             ],
             [
              0.3333333333333333,
              "#9c179e"
             ],
             [
              0.4444444444444444,
              "#bd3786"
             ],
             [
              0.5555555555555556,
              "#d8576b"
             ],
             [
              0.6666666666666666,
              "#ed7953"
             ],
             [
              0.7777777777777778,
              "#fb9f3a"
             ],
             [
              0.8888888888888888,
              "#fdca26"
             ],
             [
              1,
              "#f0f921"
             ]
            ],
            "type": "contour"
           }
          ],
          "contourcarpet": [
           {
            "colorbar": {
             "outlinewidth": 0,
             "ticks": ""
            },
            "type": "contourcarpet"
           }
          ],
          "heatmap": [
           {
            "colorbar": {
             "outlinewidth": 0,
             "ticks": ""
            },
            "colorscale": [
             [
              0,
              "#0d0887"
             ],
             [
              0.1111111111111111,
              "#46039f"
             ],
             [
              0.2222222222222222,
              "#7201a8"
             ],
             [
              0.3333333333333333,
              "#9c179e"
             ],
             [
              0.4444444444444444,
              "#bd3786"
             ],
             [
              0.5555555555555556,
              "#d8576b"
             ],
             [
              0.6666666666666666,
              "#ed7953"
             ],
             [
              0.7777777777777778,
              "#fb9f3a"
             ],
             [
              0.8888888888888888,
              "#fdca26"
             ],
             [
              1,
              "#f0f921"
             ]
            ],
            "type": "heatmap"
           }
          ],
          "heatmapgl": [
           {
            "colorbar": {
             "outlinewidth": 0,
             "ticks": ""
            },
            "colorscale": [
             [
              0,
              "#0d0887"
             ],
             [
              0.1111111111111111,
              "#46039f"
             ],
             [
              0.2222222222222222,
              "#7201a8"
             ],
             [
              0.3333333333333333,
              "#9c179e"
             ],
             [
              0.4444444444444444,
              "#bd3786"
             ],
             [
              0.5555555555555556,
              "#d8576b"
             ],
             [
              0.6666666666666666,
              "#ed7953"
             ],
             [
              0.7777777777777778,
              "#fb9f3a"
             ],
             [
              0.8888888888888888,
              "#fdca26"
             ],
             [
              1,
              "#f0f921"
             ]
            ],
            "type": "heatmapgl"
           }
          ],
          "histogram": [
           {
            "marker": {
             "colorbar": {
              "outlinewidth": 0,
              "ticks": ""
             }
            },
            "type": "histogram"
           }
          ],
          "histogram2d": [
           {
            "colorbar": {
             "outlinewidth": 0,
             "ticks": ""
            },
            "colorscale": [
             [
              0,
              "#0d0887"
             ],
             [
              0.1111111111111111,
              "#46039f"
             ],
             [
              0.2222222222222222,
              "#7201a8"
             ],
             [
              0.3333333333333333,
              "#9c179e"
             ],
             [
              0.4444444444444444,
              "#bd3786"
             ],
             [
              0.5555555555555556,
              "#d8576b"
             ],
             [
              0.6666666666666666,
              "#ed7953"
             ],
             [
              0.7777777777777778,
              "#fb9f3a"
             ],
             [
              0.8888888888888888,
              "#fdca26"
             ],
             [
              1,
              "#f0f921"
             ]
            ],
            "type": "histogram2d"
           }
          ],
          "histogram2dcontour": [
           {
            "colorbar": {
             "outlinewidth": 0,
             "ticks": ""
            },
            "colorscale": [
             [
              0,
              "#0d0887"
             ],
             [
              0.1111111111111111,
              "#46039f"
             ],
             [
              0.2222222222222222,
              "#7201a8"
             ],
             [
              0.3333333333333333,
              "#9c179e"
             ],
             [
              0.4444444444444444,
              "#bd3786"
             ],
             [
              0.5555555555555556,
              "#d8576b"
             ],
             [
              0.6666666666666666,
              "#ed7953"
             ],
             [
              0.7777777777777778,
              "#fb9f3a"
             ],
             [
              0.8888888888888888,
              "#fdca26"
             ],
             [
              1,
              "#f0f921"
             ]
            ],
            "type": "histogram2dcontour"
           }
          ],
          "mesh3d": [
           {
            "colorbar": {
             "outlinewidth": 0,
             "ticks": ""
            },
            "type": "mesh3d"
           }
          ],
          "parcoords": [
           {
            "line": {
             "colorbar": {
              "outlinewidth": 0,
              "ticks": ""
             }
            },
            "type": "parcoords"
           }
          ],
          "pie": [
           {
            "automargin": true,
            "type": "pie"
           }
          ],
          "scatter": [
           {
            "marker": {
             "colorbar": {
              "outlinewidth": 0,
              "ticks": ""
             }
            },
            "type": "scatter"
           }
          ],
          "scatter3d": [
           {
            "line": {
             "colorbar": {
              "outlinewidth": 0,
              "ticks": ""
             }
            },
            "marker": {
             "colorbar": {
              "outlinewidth": 0,
              "ticks": ""
             }
            },
            "type": "scatter3d"
           }
          ],
          "scattercarpet": [
           {
            "marker": {
             "colorbar": {
              "outlinewidth": 0,
              "ticks": ""
             }
            },
            "type": "scattercarpet"
           }
          ],
          "scattergeo": [
           {
            "marker": {
             "colorbar": {
              "outlinewidth": 0,
              "ticks": ""
             }
            },
            "type": "scattergeo"
           }
          ],
          "scattergl": [
           {
            "marker": {
             "colorbar": {
              "outlinewidth": 0,
              "ticks": ""
             }
            },
            "type": "scattergl"
           }
          ],
          "scattermapbox": [
           {
            "marker": {
             "colorbar": {
              "outlinewidth": 0,
              "ticks": ""
             }
            },
            "type": "scattermapbox"
           }
          ],
          "scatterpolar": [
           {
            "marker": {
             "colorbar": {
              "outlinewidth": 0,
              "ticks": ""
             }
            },
            "type": "scatterpolar"
           }
          ],
          "scatterpolargl": [
           {
            "marker": {
             "colorbar": {
              "outlinewidth": 0,
              "ticks": ""
             }
            },
            "type": "scatterpolargl"
           }
          ],
          "scatterternary": [
           {
            "marker": {
             "colorbar": {
              "outlinewidth": 0,
              "ticks": ""
             }
            },
            "type": "scatterternary"
           }
          ],
          "surface": [
           {
            "colorbar": {
             "outlinewidth": 0,
             "ticks": ""
            },
            "colorscale": [
             [
              0,
              "#0d0887"
             ],
             [
              0.1111111111111111,
              "#46039f"
             ],
             [
              0.2222222222222222,
              "#7201a8"
             ],
             [
              0.3333333333333333,
              "#9c179e"
             ],
             [
              0.4444444444444444,
              "#bd3786"
             ],
             [
              0.5555555555555556,
              "#d8576b"
             ],
             [
              0.6666666666666666,
              "#ed7953"
             ],
             [
              0.7777777777777778,
              "#fb9f3a"
             ],
             [
              0.8888888888888888,
              "#fdca26"
             ],
             [
              1,
              "#f0f921"
             ]
            ],
            "type": "surface"
           }
          ],
          "table": [
           {
            "cells": {
             "fill": {
              "color": "#EBF0F8"
             },
             "line": {
              "color": "white"
             }
            },
            "header": {
             "fill": {
              "color": "#C8D4E3"
             },
             "line": {
              "color": "white"
             }
            },
            "type": "table"
           }
          ]
         },
         "layout": {
          "annotationdefaults": {
           "arrowcolor": "#2a3f5f",
           "arrowhead": 0,
           "arrowwidth": 1
          },
          "coloraxis": {
           "colorbar": {
            "outlinewidth": 0,
            "ticks": ""
           }
          },
          "colorscale": {
           "diverging": [
            [
             0,
             "#8e0152"
            ],
            [
             0.1,
             "#c51b7d"
            ],
            [
             0.2,
             "#de77ae"
            ],
            [
             0.3,
             "#f1b6da"
            ],
            [
             0.4,
             "#fde0ef"
            ],
            [
             0.5,
             "#f7f7f7"
            ],
            [
             0.6,
             "#e6f5d0"
            ],
            [
             0.7,
             "#b8e186"
            ],
            [
             0.8,
             "#7fbc41"
            ],
            [
             0.9,
             "#4d9221"
            ],
            [
             1,
             "#276419"
            ]
           ],
           "sequential": [
            [
             0,
             "#0d0887"
            ],
            [
             0.1111111111111111,
             "#46039f"
            ],
            [
             0.2222222222222222,
             "#7201a8"
            ],
            [
             0.3333333333333333,
             "#9c179e"
            ],
            [
             0.4444444444444444,
             "#bd3786"
            ],
            [
             0.5555555555555556,
             "#d8576b"
            ],
            [
             0.6666666666666666,
             "#ed7953"
            ],
            [
             0.7777777777777778,
             "#fb9f3a"
            ],
            [
             0.8888888888888888,
             "#fdca26"
            ],
            [
             1,
             "#f0f921"
            ]
           ],
           "sequentialminus": [
            [
             0,
             "#0d0887"
            ],
            [
             0.1111111111111111,
             "#46039f"
            ],
            [
             0.2222222222222222,
             "#7201a8"
            ],
            [
             0.3333333333333333,
             "#9c179e"
            ],
            [
             0.4444444444444444,
             "#bd3786"
            ],
            [
             0.5555555555555556,
             "#d8576b"
            ],
            [
             0.6666666666666666,
             "#ed7953"
            ],
            [
             0.7777777777777778,
             "#fb9f3a"
            ],
            [
             0.8888888888888888,
             "#fdca26"
            ],
            [
             1,
             "#f0f921"
            ]
           ]
          },
          "colorway": [
           "#636efa",
           "#EF553B",
           "#00cc96",
           "#ab63fa",
           "#FFA15A",
           "#19d3f3",
           "#FF6692",
           "#B6E880",
           "#FF97FF",
           "#FECB52"
          ],
          "font": {
           "color": "#2a3f5f"
          },
          "geo": {
           "bgcolor": "white",
           "lakecolor": "white",
           "landcolor": "#E5ECF6",
           "showlakes": true,
           "showland": true,
           "subunitcolor": "white"
          },
          "hoverlabel": {
           "align": "left"
          },
          "hovermode": "closest",
          "mapbox": {
           "style": "light"
          },
          "paper_bgcolor": "white",
          "plot_bgcolor": "#E5ECF6",
          "polar": {
           "angularaxis": {
            "gridcolor": "white",
            "linecolor": "white",
            "ticks": ""
           },
           "bgcolor": "#E5ECF6",
           "radialaxis": {
            "gridcolor": "white",
            "linecolor": "white",
            "ticks": ""
           }
          },
          "scene": {
           "xaxis": {
            "backgroundcolor": "#E5ECF6",
            "gridcolor": "white",
            "gridwidth": 2,
            "linecolor": "white",
            "showbackground": true,
            "ticks": "",
            "zerolinecolor": "white"
           },
           "yaxis": {
            "backgroundcolor": "#E5ECF6",
            "gridcolor": "white",
            "gridwidth": 2,
            "linecolor": "white",
            "showbackground": true,
            "ticks": "",
            "zerolinecolor": "white"
           },
           "zaxis": {
            "backgroundcolor": "#E5ECF6",
            "gridcolor": "white",
            "gridwidth": 2,
            "linecolor": "white",
            "showbackground": true,
            "ticks": "",
            "zerolinecolor": "white"
           }
          },
          "shapedefaults": {
           "line": {
            "color": "#2a3f5f"
           }
          },
          "ternary": {
           "aaxis": {
            "gridcolor": "white",
            "linecolor": "white",
            "ticks": ""
           },
           "baxis": {
            "gridcolor": "white",
            "linecolor": "white",
            "ticks": ""
           },
           "bgcolor": "#E5ECF6",
           "caxis": {
            "gridcolor": "white",
            "linecolor": "white",
            "ticks": ""
           }
          },
          "title": {
           "x": 0.05
          },
          "xaxis": {
           "automargin": true,
           "gridcolor": "white",
           "linecolor": "white",
           "ticks": "",
           "title": {
            "standoff": 15
           },
           "zerolinecolor": "white",
           "zerolinewidth": 2
          },
          "yaxis": {
           "automargin": true,
           "gridcolor": "white",
           "linecolor": "white",
           "ticks": "",
           "title": {
            "standoff": 15
           },
           "zerolinecolor": "white",
           "zerolinewidth": 2
          }
         }
        },
        "xaxis": {
         "anchor": "y",
         "categoryarray": [
          "Cluster 0",
          "Cluster 1",
          "Cluster 2",
          "Cluster 3"
         ],
         "categoryorder": "array",
         "domain": [
          0,
          1
         ],
         "title": {
          "text": "Cluster"
         }
        },
        "xaxis2": {
         "anchor": "y2",
         "domain": [
          0,
          1
         ],
         "matches": "x",
         "showgrid": true,
         "showticklabels": false
        },
        "yaxis": {
         "anchor": "x",
         "domain": [
          0,
          0.7326
         ],
         "title": {
          "text": "count"
         }
        },
        "yaxis2": {
         "anchor": "x2",
         "domain": [
          0.7426,
          1
         ],
         "matches": "y2",
         "showgrid": false,
         "showline": false,
         "showticklabels": false,
         "ticks": ""
        }
       }
      },
      "text/html": [
       "<div>\n",
       "        \n",
       "        \n",
       "            <div id=\"6f16a371-6c81-4494-b7c3-d3c6b3ca03f5\" class=\"plotly-graph-div\" style=\"height:525px; width:100%;\"></div>\n",
       "            <script type=\"text/javascript\">\n",
       "                require([\"plotly\"], function(Plotly) {\n",
       "                    window.PLOTLYENV=window.PLOTLYENV || {};\n",
       "                    \n",
       "                if (document.getElementById(\"6f16a371-6c81-4494-b7c3-d3c6b3ca03f5\")) {\n",
       "                    Plotly.newPlot(\n",
       "                        '6f16a371-6c81-4494-b7c3-d3c6b3ca03f5',\n",
       "                        [{\"alignmentgroup\": \"True\", \"bingroup\": \"x\", \"hoverlabel\": {\"namelength\": 0}, \"hovertemplate\": \"Cluster=%{x}<br>count=%{y}\", \"legendgroup\": \"Cluster=Cluster 0\", \"marker\": {\"color\": \"#636efa\", \"opacity\": 0.7}, \"name\": \"Cluster=Cluster 0\", \"offsetgroup\": \"Cluster=Cluster 0\", \"orientation\": \"v\", \"showlegend\": true, \"type\": \"histogram\", \"x\": [\"Cluster 0\", \"Cluster 0\", \"Cluster 0\", \"Cluster 0\", \"Cluster 0\", \"Cluster 0\", \"Cluster 0\", \"Cluster 0\", \"Cluster 0\", \"Cluster 0\", \"Cluster 0\", \"Cluster 0\", \"Cluster 0\", \"Cluster 0\", \"Cluster 0\", \"Cluster 0\", \"Cluster 0\", \"Cluster 0\", \"Cluster 0\", \"Cluster 0\", \"Cluster 0\", \"Cluster 0\", \"Cluster 0\", \"Cluster 0\", \"Cluster 0\", \"Cluster 0\", \"Cluster 0\", \"Cluster 0\", \"Cluster 0\", \"Cluster 0\", \"Cluster 0\", \"Cluster 0\", \"Cluster 0\", \"Cluster 0\", \"Cluster 0\", \"Cluster 0\", \"Cluster 0\", \"Cluster 0\", \"Cluster 0\", \"Cluster 0\", \"Cluster 0\", \"Cluster 0\", \"Cluster 0\", \"Cluster 0\", \"Cluster 0\", \"Cluster 0\", \"Cluster 0\", \"Cluster 0\", \"Cluster 0\", \"Cluster 0\"], \"xaxis\": \"x\", \"yaxis\": \"y\"}, {\"alignmentgroup\": \"True\", \"customdata\": [[6.4, 2.9, 4.3, 1.3, \"Iris-versicolor\", \"Cluster 0\"], [6.3, 2.5, 4.9, 1.5, \"Iris-versicolor\", \"Cluster 0\"], [6.1, 2.8, 4.0, 1.3, \"Iris-versicolor\", \"Cluster 0\"], [5.9, 3.2, 4.8, 1.8, \"Iris-versicolor\", \"Cluster 0\"], [5.6, 2.5, 3.9, 1.1, \"Iris-versicolor\", \"Cluster 0\"], [6.2, 2.2, 4.5, 1.5, \"Iris-versicolor\", \"Cluster 0\"], [5.8, 2.7, 4.1, 1.0, \"Iris-versicolor\", \"Cluster 0\"], [5.6, 3.0, 4.5, 1.5, \"Iris-versicolor\", \"Cluster 0\"], [6.7, 3.1, 4.4, 1.4, \"Iris-versicolor\", \"Cluster 0\"], [5.6, 2.9, 3.6, 1.3, \"Iris-versicolor\", \"Cluster 0\"], [6.1, 2.9, 4.7, 1.4, \"Iris-versicolor\", \"Cluster 0\"], [6.0, 2.2, 4.0, 1.0, \"Iris-versicolor\", \"Cluster 0\"], [5.9, 3.0, 4.2, 1.5, \"Iris-versicolor\", \"Cluster 0\"], [5.0, 2.0, 3.5, 1.0, \"Iris-versicolor\", \"Cluster 0\"], [5.2, 2.7, 3.9, 1.4, \"Iris-versicolor\", \"Cluster 0\"], [6.6, 2.9, 4.6, 1.3, \"Iris-versicolor\", \"Cluster 0\"], [4.9, 2.4, 3.3, 1.0, \"Iris-versicolor\", \"Cluster 0\"], [6.3, 3.3, 4.7, 1.6, \"Iris-versicolor\", \"Cluster 0\"], [5.7, 2.8, 4.5, 1.3, \"Iris-versicolor\", \"Cluster 0\"], [6.5, 2.8, 4.6, 1.5, \"Iris-versicolor\", \"Cluster 0\"], [5.5, 2.3, 4.0, 1.3, \"Iris-versicolor\", \"Cluster 0\"], [6.9, 3.1, 4.9, 1.5, \"Iris-versicolor\", \"Cluster 0\"], [6.1, 2.8, 4.7, 1.2, \"Iris-versicolor\", \"Cluster 0\"], [6.6, 3.0, 4.4, 1.4, \"Iris-versicolor\", \"Cluster 0\"], [6.8, 2.8, 4.8, 1.4, \"Iris-versicolor\", \"Cluster 0\"], [6.7, 3.0, 5.0, 1.7, \"Iris-versicolor\", \"Cluster 0\"], [5.7, 2.8, 4.1, 1.3, \"Iris-versicolor\", \"Cluster 0\"], [5.1, 2.5, 3.0, 1.1, \"Iris-versicolor\", \"Cluster 0\"], [6.2, 2.9, 4.3, 1.3, \"Iris-versicolor\", \"Cluster 0\"], [5.7, 2.9, 4.2, 1.3, \"Iris-versicolor\", \"Cluster 0\"], [5.7, 3.0, 4.2, 1.2, \"Iris-versicolor\", \"Cluster 0\"], [5.6, 2.7, 4.2, 1.3, \"Iris-versicolor\", \"Cluster 0\"], [5.0, 2.3, 3.3, 1.0, \"Iris-versicolor\", \"Cluster 0\"], [5.8, 2.6, 4.0, 1.2, \"Iris-versicolor\", \"Cluster 0\"], [6.1, 3.0, 4.6, 1.4, \"Iris-versicolor\", \"Cluster 0\"], [5.5, 2.6, 4.4, 1.2, \"Iris-versicolor\", \"Cluster 0\"], [6.4, 3.2, 4.5, 1.5, \"Iris-versicolor\", \"Cluster 0\"], [5.5, 2.5, 4.0, 1.3, \"Iris-versicolor\", \"Cluster 0\"], [6.3, 2.3, 4.4, 1.3, \"Iris-versicolor\", \"Cluster 0\"], [6.7, 3.1, 4.7, 1.5, \"Iris-versicolor\", \"Cluster 0\"], [6.0, 3.4, 4.5, 1.6, \"Iris-versicolor\", \"Cluster 0\"], [5.4, 3.0, 4.5, 1.5, \"Iris-versicolor\", \"Cluster 0\"], [6.0, 2.7, 5.1, 1.6, \"Iris-versicolor\", \"Cluster 0\"], [5.8, 2.7, 3.9, 1.2, \"Iris-versicolor\", \"Cluster 0\"], [5.5, 2.4, 3.7, 1.0, \"Iris-versicolor\", \"Cluster 0\"], [5.5, 2.4, 3.8, 1.1, \"Iris-versicolor\", \"Cluster 0\"], [5.7, 2.6, 3.5, 1.0, \"Iris-versicolor\", \"Cluster 0\"], [6.0, 2.9, 4.5, 1.5, \"Iris-versicolor\", \"Cluster 0\"], [5.6, 3.0, 4.1, 1.3, \"Iris-versicolor\", \"Cluster 0\"], [7.0, 3.2, 4.7, 1.4, \"Iris-versicolor\", \"Cluster 0\"]], \"hoverlabel\": {\"namelength\": 0}, \"hovertemplate\": \"Cluster=%{customdata[5]}<br>SepalLengthCm=%{customdata[0]}<br>SepalWidthCm=%{customdata[1]}<br>PetalLengthCm=%{customdata[2]}<br>PetalWidthCm=%{customdata[3]}<br>Species=%{customdata[4]}\", \"legendgroup\": \"Cluster=Cluster 0\", \"marker\": {\"color\": \"#636efa\"}, \"name\": \"Cluster=Cluster 0\", \"notched\": true, \"offsetgroup\": \"Cluster=Cluster 0\", \"showlegend\": false, \"type\": \"box\", \"x\": [\"Cluster 0\", \"Cluster 0\", \"Cluster 0\", \"Cluster 0\", \"Cluster 0\", \"Cluster 0\", \"Cluster 0\", \"Cluster 0\", \"Cluster 0\", \"Cluster 0\", \"Cluster 0\", \"Cluster 0\", \"Cluster 0\", \"Cluster 0\", \"Cluster 0\", \"Cluster 0\", \"Cluster 0\", \"Cluster 0\", \"Cluster 0\", \"Cluster 0\", \"Cluster 0\", \"Cluster 0\", \"Cluster 0\", \"Cluster 0\", \"Cluster 0\", \"Cluster 0\", \"Cluster 0\", \"Cluster 0\", \"Cluster 0\", \"Cluster 0\", \"Cluster 0\", \"Cluster 0\", \"Cluster 0\", \"Cluster 0\", \"Cluster 0\", \"Cluster 0\", \"Cluster 0\", \"Cluster 0\", \"Cluster 0\", \"Cluster 0\", \"Cluster 0\", \"Cluster 0\", \"Cluster 0\", \"Cluster 0\", \"Cluster 0\", \"Cluster 0\", \"Cluster 0\", \"Cluster 0\", \"Cluster 0\", \"Cluster 0\"], \"xaxis\": \"x2\", \"yaxis\": \"y2\"}, {\"alignmentgroup\": \"True\", \"bingroup\": \"x\", \"hoverlabel\": {\"namelength\": 0}, \"hovertemplate\": \"Cluster=%{x}<br>count=%{y}\", \"legendgroup\": \"Cluster=Cluster 1\", \"marker\": {\"color\": \"#EF553B\", \"opacity\": 0.7}, \"name\": \"Cluster=Cluster 1\", \"offsetgroup\": \"Cluster=Cluster 1\", \"orientation\": \"v\", \"showlegend\": true, \"type\": \"histogram\", \"x\": [\"Cluster 1\", \"Cluster 1\", \"Cluster 1\", \"Cluster 1\", \"Cluster 1\", \"Cluster 1\", \"Cluster 1\", \"Cluster 1\", \"Cluster 1\", \"Cluster 1\", \"Cluster 1\", \"Cluster 1\", \"Cluster 1\", \"Cluster 1\", \"Cluster 1\", \"Cluster 1\", \"Cluster 1\", \"Cluster 1\", \"Cluster 1\", \"Cluster 1\", \"Cluster 1\", \"Cluster 1\", \"Cluster 1\", \"Cluster 1\", \"Cluster 1\", \"Cluster 1\", \"Cluster 1\", \"Cluster 1\", \"Cluster 1\", \"Cluster 1\", \"Cluster 1\", \"Cluster 1\", \"Cluster 1\", \"Cluster 1\", \"Cluster 1\", \"Cluster 1\", \"Cluster 1\", \"Cluster 1\", \"Cluster 1\", \"Cluster 1\", \"Cluster 1\", \"Cluster 1\", \"Cluster 1\", \"Cluster 1\", \"Cluster 1\", \"Cluster 1\", \"Cluster 1\", \"Cluster 1\", \"Cluster 1\", \"Cluster 1\"], \"xaxis\": \"x\", \"yaxis\": \"y\"}, {\"alignmentgroup\": \"True\", \"customdata\": [[5.1, 3.5, 1.4, 0.2, \"Iris-setosa\", \"Cluster 1\"], [5.3, 3.7, 1.5, 0.2, \"Iris-setosa\", \"Cluster 1\"], [4.6, 3.6, 1.0, 0.2, \"Iris-setosa\", \"Cluster 1\"], [5.1, 3.7, 1.5, 0.4, \"Iris-setosa\", \"Cluster 1\"], [5.4, 3.4, 1.7, 0.2, \"Iris-setosa\", \"Cluster 1\"], [5.1, 3.8, 1.5, 0.3, \"Iris-setosa\", \"Cluster 1\"], [5.7, 3.8, 1.7, 0.3, \"Iris-setosa\", \"Cluster 1\"], [5.1, 3.5, 1.4, 0.3, \"Iris-setosa\", \"Cluster 1\"], [5.4, 3.9, 1.3, 0.4, \"Iris-setosa\", \"Cluster 1\"], [5.8, 4.0, 1.2, 0.2, \"Iris-setosa\", \"Cluster 1\"], [4.3, 3.0, 1.1, 0.1, \"Iris-setosa\", \"Cluster 1\"], [4.8, 3.0, 1.4, 0.1, \"Iris-setosa\", \"Cluster 1\"], [5.1, 3.3, 1.7, 0.5, \"Iris-setosa\", \"Cluster 1\"], [4.8, 3.4, 1.6, 0.2, \"Iris-setosa\", \"Cluster 1\"], [4.9, 3.1, 1.5, 0.1, \"Iris-setosa\", \"Cluster 1\"], [4.4, 2.9, 1.4, 0.2, \"Iris-setosa\", \"Cluster 1\"], [5.0, 3.4, 1.5, 0.2, \"Iris-setosa\", \"Cluster 1\"], [4.6, 3.4, 1.4, 0.3, \"Iris-setosa\", \"Cluster 1\"], [5.4, 3.9, 1.7, 0.4, \"Iris-setosa\", \"Cluster 1\"], [5.0, 3.6, 1.4, 0.2, \"Iris-setosa\", \"Cluster 1\"], [4.6, 3.1, 1.5, 0.2, \"Iris-setosa\", \"Cluster 1\"], [4.7, 3.2, 1.3, 0.2, \"Iris-setosa\", \"Cluster 1\"], [4.9, 3.0, 1.4, 0.2, \"Iris-setosa\", \"Cluster 1\"], [5.0, 3.3, 1.4, 0.2, \"Iris-setosa\", \"Cluster 1\"], [5.4, 3.7, 1.5, 0.2, \"Iris-setosa\", \"Cluster 1\"], [4.8, 3.4, 1.9, 0.2, \"Iris-setosa\", \"Cluster 1\"], [5.7, 4.4, 1.5, 0.4, \"Iris-setosa\", \"Cluster 1\"], [4.8, 3.0, 1.4, 0.3, \"Iris-setosa\", \"Cluster 1\"], [4.6, 3.2, 1.4, 0.2, \"Iris-setosa\", \"Cluster 1\"], [5.1, 3.8, 1.6, 0.2, \"Iris-setosa\", \"Cluster 1\"], [5.0, 3.0, 1.6, 0.2, \"Iris-setosa\", \"Cluster 1\"], [5.1, 3.8, 1.9, 0.4, \"Iris-setosa\", \"Cluster 1\"], [5.0, 3.5, 1.6, 0.6, \"Iris-setosa\", \"Cluster 1\"], [4.4, 3.2, 1.3, 0.2, \"Iris-setosa\", \"Cluster 1\"], [4.5, 2.3, 1.3, 0.3, \"Iris-setosa\", \"Cluster 1\"], [5.0, 3.5, 1.3, 0.3, \"Iris-setosa\", \"Cluster 1\"], [4.4, 3.0, 1.3, 0.2, \"Iris-setosa\", \"Cluster 1\"], [4.9, 3.1, 1.5, 0.1, \"Iris-setosa\", \"Cluster 1\"], [5.5, 3.5, 1.3, 0.2, \"Iris-setosa\", \"Cluster 1\"], [5.1, 3.4, 1.5, 0.2, \"Iris-setosa\", \"Cluster 1\"], [4.9, 3.1, 1.5, 0.1, \"Iris-setosa\", \"Cluster 1\"], [5.0, 3.4, 1.6, 0.4, \"Iris-setosa\", \"Cluster 1\"], [5.0, 3.2, 1.2, 0.2, \"Iris-setosa\", \"Cluster 1\"], [5.2, 3.4, 1.4, 0.2, \"Iris-setosa\", \"Cluster 1\"], [4.7, 3.2, 1.6, 0.2, \"Iris-setosa\", \"Cluster 1\"], [4.8, 3.1, 1.6, 0.2, \"Iris-setosa\", \"Cluster 1\"], [5.2, 3.5, 1.5, 0.2, \"Iris-setosa\", \"Cluster 1\"], [5.2, 4.1, 1.5, 0.1, \"Iris-setosa\", \"Cluster 1\"], [5.5, 4.2, 1.4, 0.2, \"Iris-setosa\", \"Cluster 1\"], [5.4, 3.4, 1.5, 0.4, \"Iris-setosa\", \"Cluster 1\"]], \"hoverlabel\": {\"namelength\": 0}, \"hovertemplate\": \"Cluster=%{customdata[5]}<br>SepalLengthCm=%{customdata[0]}<br>SepalWidthCm=%{customdata[1]}<br>PetalLengthCm=%{customdata[2]}<br>PetalWidthCm=%{customdata[3]}<br>Species=%{customdata[4]}\", \"legendgroup\": \"Cluster=Cluster 1\", \"marker\": {\"color\": \"#EF553B\"}, \"name\": \"Cluster=Cluster 1\", \"notched\": true, \"offsetgroup\": \"Cluster=Cluster 1\", \"showlegend\": false, \"type\": \"box\", \"x\": [\"Cluster 1\", \"Cluster 1\", \"Cluster 1\", \"Cluster 1\", \"Cluster 1\", \"Cluster 1\", \"Cluster 1\", \"Cluster 1\", \"Cluster 1\", \"Cluster 1\", \"Cluster 1\", \"Cluster 1\", \"Cluster 1\", \"Cluster 1\", \"Cluster 1\", \"Cluster 1\", \"Cluster 1\", \"Cluster 1\", \"Cluster 1\", \"Cluster 1\", \"Cluster 1\", \"Cluster 1\", \"Cluster 1\", \"Cluster 1\", \"Cluster 1\", \"Cluster 1\", \"Cluster 1\", \"Cluster 1\", \"Cluster 1\", \"Cluster 1\", \"Cluster 1\", \"Cluster 1\", \"Cluster 1\", \"Cluster 1\", \"Cluster 1\", \"Cluster 1\", \"Cluster 1\", \"Cluster 1\", \"Cluster 1\", \"Cluster 1\", \"Cluster 1\", \"Cluster 1\", \"Cluster 1\", \"Cluster 1\", \"Cluster 1\", \"Cluster 1\", \"Cluster 1\", \"Cluster 1\", \"Cluster 1\", \"Cluster 1\"], \"xaxis\": \"x2\", \"yaxis\": \"y2\"}, {\"alignmentgroup\": \"True\", \"bingroup\": \"x\", \"hoverlabel\": {\"namelength\": 0}, \"hovertemplate\": \"Cluster=%{x}<br>count=%{y}\", \"legendgroup\": \"Cluster=Cluster 2\", \"marker\": {\"color\": \"#00cc96\", \"opacity\": 0.7}, \"name\": \"Cluster=Cluster 2\", \"offsetgroup\": \"Cluster=Cluster 2\", \"orientation\": \"v\", \"showlegend\": true, \"type\": \"histogram\", \"x\": [\"Cluster 2\", \"Cluster 2\", \"Cluster 2\", \"Cluster 2\", \"Cluster 2\", \"Cluster 2\", \"Cluster 2\", \"Cluster 2\", \"Cluster 2\", \"Cluster 2\", \"Cluster 2\", \"Cluster 2\", \"Cluster 2\", \"Cluster 2\", \"Cluster 2\", \"Cluster 2\", \"Cluster 2\", \"Cluster 2\", \"Cluster 2\", \"Cluster 2\", \"Cluster 2\", \"Cluster 2\", \"Cluster 2\", \"Cluster 2\", \"Cluster 2\", \"Cluster 2\", \"Cluster 2\", \"Cluster 2\", \"Cluster 2\", \"Cluster 2\", \"Cluster 2\", \"Cluster 2\", \"Cluster 2\", \"Cluster 2\", \"Cluster 2\", \"Cluster 2\"], \"xaxis\": \"x\", \"yaxis\": \"y\"}, {\"alignmentgroup\": \"True\", \"customdata\": [[6.7, 3.3, 5.7, 2.1, \"Iris-virginica\", \"Cluster 2\"], [6.3, 3.4, 5.6, 2.4, \"Iris-virginica\", \"Cluster 2\"], [6.2, 2.8, 4.8, 1.8, \"Iris-virginica\", \"Cluster 2\"], [6.1, 3.0, 4.9, 1.8, \"Iris-virginica\", \"Cluster 2\"], [6.4, 2.8, 5.6, 2.1, \"Iris-virginica\", \"Cluster 2\"], [6.4, 2.8, 5.6, 2.2, \"Iris-virginica\", \"Cluster 2\"], [6.3, 2.8, 5.1, 1.5, \"Iris-virginica\", \"Cluster 2\"], [6.1, 2.6, 5.6, 1.4, \"Iris-virginica\", \"Cluster 2\"], [6.4, 3.1, 5.5, 1.8, \"Iris-virginica\", \"Cluster 2\"], [6.5, 3.0, 5.2, 2.0, \"Iris-virginica\", \"Cluster 2\"], [6.9, 3.1, 5.4, 2.1, \"Iris-virginica\", \"Cluster 2\"], [6.7, 3.1, 5.6, 2.4, \"Iris-virginica\", \"Cluster 2\"], [6.9, 3.1, 5.1, 2.3, \"Iris-virginica\", \"Cluster 2\"], [5.8, 2.7, 5.1, 1.9, \"Iris-virginica\", \"Cluster 2\"], [6.7, 3.3, 5.7, 2.5, \"Iris-virginica\", \"Cluster 2\"], [6.7, 3.0, 5.2, 2.3, \"Iris-virginica\", \"Cluster 2\"], [6.3, 2.5, 5.0, 1.9, \"Iris-virginica\", \"Cluster 2\"], [6.3, 2.7, 4.9, 1.8, \"Iris-virginica\", \"Cluster 2\"], [6.0, 3.0, 4.8, 1.8, \"Iris-virginica\", \"Cluster 2\"], [5.6, 2.8, 4.9, 2.0, \"Iris-virginica\", \"Cluster 2\"], [6.3, 3.3, 6.0, 2.5, \"Iris-virginica\", \"Cluster 2\"], [6.0, 2.2, 5.0, 1.5, \"Iris-virginica\", \"Cluster 2\"], [6.2, 3.4, 5.4, 2.3, \"Iris-virginica\", \"Cluster 2\"], [5.8, 2.7, 5.1, 1.9, \"Iris-virginica\", \"Cluster 2\"], [6.3, 2.9, 5.6, 1.8, \"Iris-virginica\", \"Cluster 2\"], [6.5, 3.0, 5.8, 2.2, \"Iris-virginica\", \"Cluster 2\"], [4.9, 2.5, 4.5, 1.7, \"Iris-virginica\", \"Cluster 2\"], [6.7, 2.5, 5.8, 1.8, \"Iris-virginica\", \"Cluster 2\"], [6.5, 3.2, 5.1, 2.0, \"Iris-virginica\", \"Cluster 2\"], [6.4, 2.7, 5.3, 1.9, \"Iris-virginica\", \"Cluster 2\"], [6.8, 3.0, 5.5, 2.1, \"Iris-virginica\", \"Cluster 2\"], [5.7, 2.5, 5.0, 2.0, \"Iris-virginica\", \"Cluster 2\"], [5.9, 3.0, 5.1, 1.8, \"Iris-virginica\", \"Cluster 2\"], [5.8, 2.8, 5.1, 2.4, \"Iris-virginica\", \"Cluster 2\"], [6.4, 3.2, 5.3, 2.3, \"Iris-virginica\", \"Cluster 2\"], [6.5, 3.0, 5.5, 1.8, \"Iris-virginica\", \"Cluster 2\"]], \"hoverlabel\": {\"namelength\": 0}, \"hovertemplate\": \"Cluster=%{customdata[5]}<br>SepalLengthCm=%{customdata[0]}<br>SepalWidthCm=%{customdata[1]}<br>PetalLengthCm=%{customdata[2]}<br>PetalWidthCm=%{customdata[3]}<br>Species=%{customdata[4]}\", \"legendgroup\": \"Cluster=Cluster 2\", \"marker\": {\"color\": \"#00cc96\"}, \"name\": \"Cluster=Cluster 2\", \"notched\": true, \"offsetgroup\": \"Cluster=Cluster 2\", \"showlegend\": false, \"type\": \"box\", \"x\": [\"Cluster 2\", \"Cluster 2\", \"Cluster 2\", \"Cluster 2\", \"Cluster 2\", \"Cluster 2\", \"Cluster 2\", \"Cluster 2\", \"Cluster 2\", \"Cluster 2\", \"Cluster 2\", \"Cluster 2\", \"Cluster 2\", \"Cluster 2\", \"Cluster 2\", \"Cluster 2\", \"Cluster 2\", \"Cluster 2\", \"Cluster 2\", \"Cluster 2\", \"Cluster 2\", \"Cluster 2\", \"Cluster 2\", \"Cluster 2\", \"Cluster 2\", \"Cluster 2\", \"Cluster 2\", \"Cluster 2\", \"Cluster 2\", \"Cluster 2\", \"Cluster 2\", \"Cluster 2\", \"Cluster 2\", \"Cluster 2\", \"Cluster 2\", \"Cluster 2\"], \"xaxis\": \"x2\", \"yaxis\": \"y2\"}, {\"alignmentgroup\": \"True\", \"bingroup\": \"x\", \"hoverlabel\": {\"namelength\": 0}, \"hovertemplate\": \"Cluster=%{x}<br>count=%{y}\", \"legendgroup\": \"Cluster=Cluster 3\", \"marker\": {\"color\": \"#ab63fa\", \"opacity\": 0.7}, \"name\": \"Cluster=Cluster 3\", \"offsetgroup\": \"Cluster=Cluster 3\", \"orientation\": \"v\", \"showlegend\": true, \"type\": \"histogram\", \"x\": [\"Cluster 3\", \"Cluster 3\", \"Cluster 3\", \"Cluster 3\", \"Cluster 3\", \"Cluster 3\", \"Cluster 3\", \"Cluster 3\", \"Cluster 3\", \"Cluster 3\", \"Cluster 3\", \"Cluster 3\", \"Cluster 3\", \"Cluster 3\"], \"xaxis\": \"x\", \"yaxis\": \"y\"}, {\"alignmentgroup\": \"True\", \"customdata\": [[7.4, 2.8, 6.1, 1.9, \"Iris-virginica\", \"Cluster 3\"], [7.7, 2.8, 6.7, 2.0, \"Iris-virginica\", \"Cluster 3\"], [7.7, 2.6, 6.9, 2.3, \"Iris-virginica\", \"Cluster 3\"], [7.1, 3.0, 5.9, 2.1, \"Iris-virginica\", \"Cluster 3\"], [7.7, 3.8, 6.7, 2.2, \"Iris-virginica\", \"Cluster 3\"], [6.8, 3.2, 5.9, 2.3, \"Iris-virginica\", \"Cluster 3\"], [7.6, 3.0, 6.6, 2.1, \"Iris-virginica\", \"Cluster 3\"], [7.9, 3.8, 6.4, 2.0, \"Iris-virginica\", \"Cluster 3\"], [7.3, 2.9, 6.3, 1.8, \"Iris-virginica\", \"Cluster 3\"], [7.2, 3.6, 6.1, 2.5, \"Iris-virginica\", \"Cluster 3\"], [6.9, 3.2, 5.7, 2.3, \"Iris-virginica\", \"Cluster 3\"], [7.2, 3.0, 5.8, 1.6, \"Iris-virginica\", \"Cluster 3\"], [7.2, 3.2, 6.0, 1.8, \"Iris-virginica\", \"Cluster 3\"], [7.7, 3.0, 6.1, 2.3, \"Iris-virginica\", \"Cluster 3\"]], \"hoverlabel\": {\"namelength\": 0}, \"hovertemplate\": \"Cluster=%{customdata[5]}<br>SepalLengthCm=%{customdata[0]}<br>SepalWidthCm=%{customdata[1]}<br>PetalLengthCm=%{customdata[2]}<br>PetalWidthCm=%{customdata[3]}<br>Species=%{customdata[4]}\", \"legendgroup\": \"Cluster=Cluster 3\", \"marker\": {\"color\": \"#ab63fa\"}, \"name\": \"Cluster=Cluster 3\", \"notched\": true, \"offsetgroup\": \"Cluster=Cluster 3\", \"showlegend\": false, \"type\": \"box\", \"x\": [\"Cluster 3\", \"Cluster 3\", \"Cluster 3\", \"Cluster 3\", \"Cluster 3\", \"Cluster 3\", \"Cluster 3\", \"Cluster 3\", \"Cluster 3\", \"Cluster 3\", \"Cluster 3\", \"Cluster 3\", \"Cluster 3\", \"Cluster 3\"], \"xaxis\": \"x2\", \"yaxis\": \"y2\"}],\n",
       "                        {\"barmode\": \"relative\", \"legend\": {\"tracegroupgap\": 0}, \"margin\": {\"t\": 60}, \"template\": {\"data\": {\"bar\": [{\"error_x\": {\"color\": \"#2a3f5f\"}, \"error_y\": {\"color\": \"#2a3f5f\"}, \"marker\": {\"line\": {\"color\": \"#E5ECF6\", \"width\": 0.5}}, \"type\": \"bar\"}], \"barpolar\": [{\"marker\": {\"line\": {\"color\": \"#E5ECF6\", \"width\": 0.5}}, \"type\": \"barpolar\"}], \"carpet\": [{\"aaxis\": {\"endlinecolor\": \"#2a3f5f\", \"gridcolor\": \"white\", \"linecolor\": \"white\", \"minorgridcolor\": \"white\", \"startlinecolor\": \"#2a3f5f\"}, \"baxis\": {\"endlinecolor\": \"#2a3f5f\", \"gridcolor\": \"white\", \"linecolor\": \"white\", \"minorgridcolor\": \"white\", \"startlinecolor\": \"#2a3f5f\"}, \"type\": \"carpet\"}], \"choropleth\": [{\"colorbar\": {\"outlinewidth\": 0, \"ticks\": \"\"}, \"type\": \"choropleth\"}], \"contour\": [{\"colorbar\": {\"outlinewidth\": 0, \"ticks\": \"\"}, \"colorscale\": [[0.0, \"#0d0887\"], [0.1111111111111111, \"#46039f\"], [0.2222222222222222, \"#7201a8\"], [0.3333333333333333, \"#9c179e\"], [0.4444444444444444, \"#bd3786\"], [0.5555555555555556, \"#d8576b\"], [0.6666666666666666, \"#ed7953\"], [0.7777777777777778, \"#fb9f3a\"], [0.8888888888888888, \"#fdca26\"], [1.0, \"#f0f921\"]], \"type\": \"contour\"}], \"contourcarpet\": [{\"colorbar\": {\"outlinewidth\": 0, \"ticks\": \"\"}, \"type\": \"contourcarpet\"}], \"heatmap\": [{\"colorbar\": {\"outlinewidth\": 0, \"ticks\": \"\"}, \"colorscale\": [[0.0, \"#0d0887\"], [0.1111111111111111, \"#46039f\"], [0.2222222222222222, \"#7201a8\"], [0.3333333333333333, \"#9c179e\"], [0.4444444444444444, \"#bd3786\"], [0.5555555555555556, \"#d8576b\"], [0.6666666666666666, \"#ed7953\"], [0.7777777777777778, \"#fb9f3a\"], [0.8888888888888888, \"#fdca26\"], [1.0, \"#f0f921\"]], \"type\": \"heatmap\"}], \"heatmapgl\": [{\"colorbar\": {\"outlinewidth\": 0, \"ticks\": \"\"}, \"colorscale\": [[0.0, \"#0d0887\"], [0.1111111111111111, \"#46039f\"], [0.2222222222222222, \"#7201a8\"], [0.3333333333333333, \"#9c179e\"], [0.4444444444444444, \"#bd3786\"], [0.5555555555555556, \"#d8576b\"], [0.6666666666666666, \"#ed7953\"], [0.7777777777777778, \"#fb9f3a\"], [0.8888888888888888, \"#fdca26\"], [1.0, \"#f0f921\"]], \"type\": \"heatmapgl\"}], \"histogram\": [{\"marker\": {\"colorbar\": {\"outlinewidth\": 0, \"ticks\": \"\"}}, \"type\": \"histogram\"}], \"histogram2d\": [{\"colorbar\": {\"outlinewidth\": 0, \"ticks\": \"\"}, \"colorscale\": [[0.0, \"#0d0887\"], [0.1111111111111111, \"#46039f\"], [0.2222222222222222, \"#7201a8\"], [0.3333333333333333, \"#9c179e\"], [0.4444444444444444, \"#bd3786\"], [0.5555555555555556, \"#d8576b\"], [0.6666666666666666, \"#ed7953\"], [0.7777777777777778, \"#fb9f3a\"], [0.8888888888888888, \"#fdca26\"], [1.0, \"#f0f921\"]], \"type\": \"histogram2d\"}], \"histogram2dcontour\": [{\"colorbar\": {\"outlinewidth\": 0, \"ticks\": \"\"}, \"colorscale\": [[0.0, \"#0d0887\"], [0.1111111111111111, \"#46039f\"], [0.2222222222222222, \"#7201a8\"], [0.3333333333333333, \"#9c179e\"], [0.4444444444444444, \"#bd3786\"], [0.5555555555555556, \"#d8576b\"], [0.6666666666666666, \"#ed7953\"], [0.7777777777777778, \"#fb9f3a\"], [0.8888888888888888, \"#fdca26\"], [1.0, \"#f0f921\"]], \"type\": \"histogram2dcontour\"}], \"mesh3d\": [{\"colorbar\": {\"outlinewidth\": 0, \"ticks\": \"\"}, \"type\": \"mesh3d\"}], \"parcoords\": [{\"line\": {\"colorbar\": {\"outlinewidth\": 0, \"ticks\": \"\"}}, \"type\": \"parcoords\"}], \"pie\": [{\"automargin\": true, \"type\": \"pie\"}], \"scatter\": [{\"marker\": {\"colorbar\": {\"outlinewidth\": 0, \"ticks\": \"\"}}, \"type\": \"scatter\"}], \"scatter3d\": [{\"line\": {\"colorbar\": {\"outlinewidth\": 0, \"ticks\": \"\"}}, \"marker\": {\"colorbar\": {\"outlinewidth\": 0, \"ticks\": \"\"}}, \"type\": \"scatter3d\"}], \"scattercarpet\": [{\"marker\": {\"colorbar\": {\"outlinewidth\": 0, \"ticks\": \"\"}}, \"type\": \"scattercarpet\"}], \"scattergeo\": [{\"marker\": {\"colorbar\": {\"outlinewidth\": 0, \"ticks\": \"\"}}, \"type\": \"scattergeo\"}], \"scattergl\": [{\"marker\": {\"colorbar\": {\"outlinewidth\": 0, \"ticks\": \"\"}}, \"type\": \"scattergl\"}], \"scattermapbox\": [{\"marker\": {\"colorbar\": {\"outlinewidth\": 0, \"ticks\": \"\"}}, \"type\": \"scattermapbox\"}], \"scatterpolar\": [{\"marker\": {\"colorbar\": {\"outlinewidth\": 0, \"ticks\": \"\"}}, \"type\": \"scatterpolar\"}], \"scatterpolargl\": [{\"marker\": {\"colorbar\": {\"outlinewidth\": 0, \"ticks\": \"\"}}, \"type\": \"scatterpolargl\"}], \"scatterternary\": [{\"marker\": {\"colorbar\": {\"outlinewidth\": 0, \"ticks\": \"\"}}, \"type\": \"scatterternary\"}], \"surface\": [{\"colorbar\": {\"outlinewidth\": 0, \"ticks\": \"\"}, \"colorscale\": [[0.0, \"#0d0887\"], [0.1111111111111111, \"#46039f\"], [0.2222222222222222, \"#7201a8\"], [0.3333333333333333, \"#9c179e\"], [0.4444444444444444, \"#bd3786\"], [0.5555555555555556, \"#d8576b\"], [0.6666666666666666, \"#ed7953\"], [0.7777777777777778, \"#fb9f3a\"], [0.8888888888888888, \"#fdca26\"], [1.0, \"#f0f921\"]], \"type\": \"surface\"}], \"table\": [{\"cells\": {\"fill\": {\"color\": \"#EBF0F8\"}, \"line\": {\"color\": \"white\"}}, \"header\": {\"fill\": {\"color\": \"#C8D4E3\"}, \"line\": {\"color\": \"white\"}}, \"type\": \"table\"}]}, \"layout\": {\"annotationdefaults\": {\"arrowcolor\": \"#2a3f5f\", \"arrowhead\": 0, \"arrowwidth\": 1}, \"coloraxis\": {\"colorbar\": {\"outlinewidth\": 0, \"ticks\": \"\"}}, \"colorscale\": {\"diverging\": [[0, \"#8e0152\"], [0.1, \"#c51b7d\"], [0.2, \"#de77ae\"], [0.3, \"#f1b6da\"], [0.4, \"#fde0ef\"], [0.5, \"#f7f7f7\"], [0.6, \"#e6f5d0\"], [0.7, \"#b8e186\"], [0.8, \"#7fbc41\"], [0.9, \"#4d9221\"], [1, \"#276419\"]], \"sequential\": [[0.0, \"#0d0887\"], [0.1111111111111111, \"#46039f\"], [0.2222222222222222, \"#7201a8\"], [0.3333333333333333, \"#9c179e\"], [0.4444444444444444, \"#bd3786\"], [0.5555555555555556, \"#d8576b\"], [0.6666666666666666, \"#ed7953\"], [0.7777777777777778, \"#fb9f3a\"], [0.8888888888888888, \"#fdca26\"], [1.0, \"#f0f921\"]], \"sequentialminus\": [[0.0, \"#0d0887\"], [0.1111111111111111, \"#46039f\"], [0.2222222222222222, \"#7201a8\"], [0.3333333333333333, \"#9c179e\"], [0.4444444444444444, \"#bd3786\"], [0.5555555555555556, \"#d8576b\"], [0.6666666666666666, \"#ed7953\"], [0.7777777777777778, \"#fb9f3a\"], [0.8888888888888888, \"#fdca26\"], [1.0, \"#f0f921\"]]}, \"colorway\": [\"#636efa\", \"#EF553B\", \"#00cc96\", \"#ab63fa\", \"#FFA15A\", \"#19d3f3\", \"#FF6692\", \"#B6E880\", \"#FF97FF\", \"#FECB52\"], \"font\": {\"color\": \"#2a3f5f\"}, \"geo\": {\"bgcolor\": \"white\", \"lakecolor\": \"white\", \"landcolor\": \"#E5ECF6\", \"showlakes\": true, \"showland\": true, \"subunitcolor\": \"white\"}, \"hoverlabel\": {\"align\": \"left\"}, \"hovermode\": \"closest\", \"mapbox\": {\"style\": \"light\"}, \"paper_bgcolor\": \"white\", \"plot_bgcolor\": \"#E5ECF6\", \"polar\": {\"angularaxis\": {\"gridcolor\": \"white\", \"linecolor\": \"white\", \"ticks\": \"\"}, \"bgcolor\": \"#E5ECF6\", \"radialaxis\": {\"gridcolor\": \"white\", \"linecolor\": \"white\", \"ticks\": \"\"}}, \"scene\": {\"xaxis\": {\"backgroundcolor\": \"#E5ECF6\", \"gridcolor\": \"white\", \"gridwidth\": 2, \"linecolor\": \"white\", \"showbackground\": true, \"ticks\": \"\", \"zerolinecolor\": \"white\"}, \"yaxis\": {\"backgroundcolor\": \"#E5ECF6\", \"gridcolor\": \"white\", \"gridwidth\": 2, \"linecolor\": \"white\", \"showbackground\": true, \"ticks\": \"\", \"zerolinecolor\": \"white\"}, \"zaxis\": {\"backgroundcolor\": \"#E5ECF6\", \"gridcolor\": \"white\", \"gridwidth\": 2, \"linecolor\": \"white\", \"showbackground\": true, \"ticks\": \"\", \"zerolinecolor\": \"white\"}}, \"shapedefaults\": {\"line\": {\"color\": \"#2a3f5f\"}}, \"ternary\": {\"aaxis\": {\"gridcolor\": \"white\", \"linecolor\": \"white\", \"ticks\": \"\"}, \"baxis\": {\"gridcolor\": \"white\", \"linecolor\": \"white\", \"ticks\": \"\"}, \"bgcolor\": \"#E5ECF6\", \"caxis\": {\"gridcolor\": \"white\", \"linecolor\": \"white\", \"ticks\": \"\"}}, \"title\": {\"x\": 0.05}, \"xaxis\": {\"automargin\": true, \"gridcolor\": \"white\", \"linecolor\": \"white\", \"ticks\": \"\", \"title\": {\"standoff\": 15}, \"zerolinecolor\": \"white\", \"zerolinewidth\": 2}, \"yaxis\": {\"automargin\": true, \"gridcolor\": \"white\", \"linecolor\": \"white\", \"ticks\": \"\", \"title\": {\"standoff\": 15}, \"zerolinecolor\": \"white\", \"zerolinewidth\": 2}}}, \"xaxis\": {\"anchor\": \"y\", \"categoryarray\": [\"Cluster 0\", \"Cluster 1\", \"Cluster 2\", \"Cluster 3\"], \"categoryorder\": \"array\", \"domain\": [0.0, 1.0], \"title\": {\"text\": \"Cluster\"}}, \"xaxis2\": {\"anchor\": \"y2\", \"domain\": [0.0, 1.0], \"matches\": \"x\", \"showgrid\": true, \"showticklabels\": false}, \"yaxis\": {\"anchor\": \"x\", \"domain\": [0.0, 0.7326], \"title\": {\"text\": \"count\"}}, \"yaxis2\": {\"anchor\": \"x2\", \"domain\": [0.7426, 1.0], \"matches\": \"y2\", \"showgrid\": false, \"showline\": false, \"showticklabels\": false, \"ticks\": \"\"}},\n",
       "                        {\"responsive\": true}\n",
       "                    ).then(function(){\n",
       "                            \n",
       "var gd = document.getElementById('6f16a371-6c81-4494-b7c3-d3c6b3ca03f5');\n",
       "var x = new MutationObserver(function (mutations, observer) {{\n",
       "        var display = window.getComputedStyle(gd).display;\n",
       "        if (!display || display === 'none') {{\n",
       "            console.log([gd, 'removed!']);\n",
       "            Plotly.purge(gd);\n",
       "            observer.disconnect();\n",
       "        }}\n",
       "}});\n",
       "\n",
       "// Listen for the removal of the full notebook cells\n",
       "var notebookContainer = gd.closest('#notebook-container');\n",
       "if (notebookContainer) {{\n",
       "    x.observe(notebookContainer, {childList: true});\n",
       "}}\n",
       "\n",
       "// Listen for the clearing of the current output cell\n",
       "var outputEl = gd.closest('.output');\n",
       "if (outputEl) {{\n",
       "    x.observe(outputEl, {childList: true});\n",
       "}}\n",
       "\n",
       "                        })\n",
       "                };\n",
       "                });\n",
       "            </script>\n",
       "        </div>"
      ]
     },
     "metadata": {},
     "output_type": "display_data"
    }
   ],
   "source": [
    "plot_model(kmean, plot='distribution', feature = None, label = False)"
   ]
  },
  {
   "cell_type": "code",
   "execution_count": 27,
   "metadata": {},
   "outputs": [
    {
     "data": {
      "text/html": [
       "        <script type=\"text/javascript\">\n",
       "        window.PlotlyConfig = {MathJaxConfig: 'local'};\n",
       "        if (window.MathJax) {MathJax.Hub.Config({SVG: {font: \"STIX-Web\"}});}\n",
       "        if (typeof require !== 'undefined') {\n",
       "        require.undef(\"plotly\");\n",
       "        requirejs.config({\n",
       "            paths: {\n",
       "                'plotly': ['https://cdn.plot.ly/plotly-latest.min']\n",
       "            }\n",
       "        });\n",
       "        require(['plotly'], function(Plotly) {\n",
       "            window._Plotly = Plotly;\n",
       "        });\n",
       "        }\n",
       "        </script>\n",
       "        "
      ]
     },
     "metadata": {},
     "output_type": "display_data"
    },
    {
     "data": {
      "application/vnd.plotly.v1+json": {
       "config": {
        "plotlyServerURL": "https://plot.ly"
       },
       "data": [
        {
         "customdata": [
          [
           5.1
          ],
          [
           4.9
          ],
          [
           4.7
          ],
          [
           4.6
          ],
          [
           5
          ],
          [
           5.4
          ],
          [
           4.6
          ],
          [
           5
          ],
          [
           4.4
          ],
          [
           4.9
          ],
          [
           5.4
          ],
          [
           4.8
          ],
          [
           4.8
          ],
          [
           4.3
          ],
          [
           5.8
          ],
          [
           5.7
          ],
          [
           5.4
          ],
          [
           5.1
          ],
          [
           5.7
          ],
          [
           5.1
          ],
          [
           5.4
          ],
          [
           5.1
          ],
          [
           4.6
          ],
          [
           5.1
          ],
          [
           4.8
          ],
          [
           5
          ],
          [
           5
          ],
          [
           5.2
          ],
          [
           5.2
          ],
          [
           4.7
          ],
          [
           4.8
          ],
          [
           5.4
          ],
          [
           5.2
          ],
          [
           5.5
          ],
          [
           4.9
          ],
          [
           5
          ],
          [
           5.5
          ],
          [
           4.9
          ],
          [
           4.4
          ],
          [
           5.1
          ],
          [
           5
          ],
          [
           4.5
          ],
          [
           4.4
          ],
          [
           5
          ],
          [
           5.1
          ],
          [
           4.8
          ],
          [
           5.1
          ],
          [
           4.6
          ],
          [
           5.3
          ],
          [
           5
          ]
         ],
         "hoverlabel": {
          "namelength": 0
         },
         "hovertemplate": "Cluster=Cluster 0<br>0=%{x}<br>1=%{y}<br>2=%{z}<br>Feature=%{customdata[0]}",
         "legendgroup": "Cluster=Cluster 0",
         "marker": {
          "color": "#636efa",
          "opacity": 0.7,
          "symbol": "circle"
         },
         "mode": "markers",
         "name": "Cluster=Cluster 0",
         "scene": "scene",
         "showlegend": true,
         "type": "scatter3d",
         "x": [
          61.9058952331543,
          106.46722412109375,
          19.650238037109375,
          -57.610389709472656,
          129.98699951171875,
          -36.305206298828125,
          43.28459548950195,
          117.59716033935547,
          26.106088638305664,
          99.9679946899414,
          52.04322052001953,
          -18.346675872802734,
          -24.2957706451416,
          15.098583221435547,
          76.85786437988281,
          68.80394744873047,
          133.89915466308594,
          103.77054595947266,
          32.53582763671875,
          72.06989288330078,
          73.96366882324219,
          -4.544906139373779,
          58.06067657470703,
          57.11201095581055,
          27.725618362426758,
          -9.723093032836914,
          1.1565908193588257,
          140.28208923339844,
          40.49516677856445,
          24.96231460571289,
          76.85449981689453,
          -26.788162231445312,
          2.7943994998931885,
          22.302005767822266,
          9.385746002197266,
          6.244439601898193,
          70.1346664428711,
          50.10155487060547,
          -19.992881774902344,
          38.29997634887695,
          112.95562744140625,
          124.57637023925781,
          26.369295120239258,
          -151.8941650390625,
          93.07877349853516,
          114.84867858886719,
          72.74006652832031,
          -209.01470947265625,
          78.93402099609375,
          25.105411529541016
         ],
         "y": [
          -105.6381607055664,
          135.16445922851562,
          -73.85244750976562,
          151.5392303466797,
          -8.069993019104004,
          -83.72250366210938,
          -45.97172546386719,
          -65.11286926269531,
          -99.68565368652344,
          -42.424705505371094,
          11.326146125793457,
          -114.487548828125,
          -40.12932586669922,
          -63.45913314819336,
          -115.49835968017578,
          -32.67947769165039,
          -39.75044631958008,
          -67.3144302368164,
          -105.16738891601562,
          -56.44977569580078,
          3.313324213027954,
          -64.17744445800781,
          -149.22291564941406,
          -65.70088958740234,
          -29.881715774536133,
          -107.80638885498047,
          125.31755828857422,
          -73.41624450683594,
          -138.37306213378906,
          -22.969152450561523,
          -79.85639190673828,
          -84.31351470947266,
          -103.95800018310547,
          -115.08792114257812,
          -142.73426818847656,
          -66.81869506835938,
          -103.28580474853516,
          -73.72541046142578,
          -106.12359619140625,
          -66.32061767578125,
          -105.25408935546875,
          -19.55218505859375,
          -18.509761810302734,
          83.4122543334961,
          -73.8189468383789,
          15.378070831298828,
          -32.21312713623047,
          43.70143127441406,
          -29.321483612060547,
          -86.68489837646484
         ],
         "z": [
          61.1116943359375,
          -119.50330352783203,
          41.79940414428711,
          60.60867691040039,
          1.9551821947097778,
          -42.54436111450195,
          13.323013305664062,
          44.87226104736328,
          93.1099853515625,
          -8.146782875061035,
          113.73697662353516,
          -6.574379920959473,
          155.44041442871094,
          -72.5589828491211,
          -25.69594955444336,
          107.38922119140625,
          -56.953609466552734,
          109.17488861083984,
          6.415596008300781,
          150.20236206054688,
          0.7224175333976746,
          108.7550277709961,
          87.11746215820312,
          78.54352569580078,
          142.73602294921875,
          127.94758605957031,
          81.092529296875,
          -22.469133377075195,
          39.18981170654297,
          -18.885604858398438,
          16.301557540893555,
          -140.56594848632812,
          -96.14093017578125,
          -42.828712463378906,
          77.0235595703125,
          -13.961807250976562,
          116.55803680419922,
          -30.988529205322266,
          44.472145080566406,
          118.83626556396484,
          80.8725357055664,
          58.57965850830078,
          75.79141235351562,
          104.82552337646484,
          -52.54426574707031,
          107.55241394042969,
          -41.142948150634766,
          2.0705792903900146,
          38.8019905090332,
          155.93824768066406
         ]
        },
        {
         "customdata": [
          [
           7
          ],
          [
           6.4
          ],
          [
           6.9
          ],
          [
           5.5
          ],
          [
           6.5
          ],
          [
           5.7
          ],
          [
           6.3
          ],
          [
           4.9
          ],
          [
           6.6
          ],
          [
           5.2
          ],
          [
           5
          ],
          [
           5.9
          ],
          [
           6
          ],
          [
           6.1
          ],
          [
           5.6
          ],
          [
           6.7
          ],
          [
           5.6
          ],
          [
           5.8
          ],
          [
           6.2
          ],
          [
           5.6
          ],
          [
           5.9
          ],
          [
           6.1
          ],
          [
           6.3
          ],
          [
           6.1
          ],
          [
           6.4
          ],
          [
           6.6
          ],
          [
           6.8
          ],
          [
           6.7
          ],
          [
           6
          ],
          [
           5.7
          ],
          [
           5.5
          ],
          [
           5.5
          ],
          [
           5.8
          ],
          [
           6
          ],
          [
           5.4
          ],
          [
           6
          ],
          [
           6.7
          ],
          [
           6.3
          ],
          [
           5.6
          ],
          [
           5.5
          ],
          [
           5.5
          ],
          [
           6.1
          ],
          [
           5.8
          ],
          [
           5
          ],
          [
           5.6
          ],
          [
           5.7
          ],
          [
           5.7
          ],
          [
           6.2
          ],
          [
           5.1
          ],
          [
           5.7
          ]
         ],
         "hoverlabel": {
          "namelength": 0
         },
         "hovertemplate": "Cluster=Cluster 1<br>0=%{x}<br>1=%{y}<br>2=%{z}<br>Feature=%{customdata[0]}",
         "legendgroup": "Cluster=Cluster 1",
         "marker": {
          "color": "#EF553B",
          "opacity": 0.7,
          "symbol": "circle"
         },
         "mode": "markers",
         "name": "Cluster=Cluster 1",
         "scene": "scene",
         "showlegend": true,
         "type": "scatter3d",
         "x": [
          -68.32058715820312,
          96.73775482177734,
          121.15381622314453,
          103.1860122680664,
          -29.1734561920166,
          -41.94898986816406,
          -22.775705337524414,
          -369.5738830566406,
          32.55474853515625,
          1.9271339178085327,
          126.27220916748047,
          127.55571746826172,
          9.304471015930176,
          69.12393188476562,
          35.05385971069336,
          128.7074432373047,
          22.316267013549805,
          61.948814392089844,
          -8.013440132141113,
          56.33850860595703,
          106.18169403076172,
          58.77330780029297,
          -62.109127044677734,
          53.80244445800781,
          65.8294906616211,
          31.11663818359375,
          7.216971397399902,
          59.642738342285156,
          62.21665954589844,
          70.02106475830078,
          -7.4947004318237305,
          11.306729316711426,
          14.378270149230957,
          9.992253303527832,
          78.62635803222656,
          68.2308578491211,
          84.95807647705078,
          83.92483520507812,
          4.420640468597412,
          -126.53221130371094,
          78.74737548828125,
          -141.20791625976562,
          105.0738754272461,
          -93.0764389038086,
          -142.38865661621094,
          -156.81787109375,
          41.09996795654297,
          38.39118957519531,
          -13.489510536193848,
          -29.715593338012695
         ],
         "y": [
          -48.86412811279297,
          1.5862040519714355,
          54.314788818359375,
          46.99870681762695,
          -13.891670227050781,
          -0.9841610789299011,
          35.93937301635742,
          -157.90403747558594,
          44.132789611816406,
          155.57400512695312,
          106.40511322021484,
          -132.71290588378906,
          9.20261001586914,
          19.16965103149414,
          86.85014343261719,
          66.75318145751953,
          90.76246643066406,
          138.2944793701172,
          -18.644481658935547,
          65.41458892822266,
          112.93751525878906,
          -28.052406311035156,
          85.61373901367188,
          99.75595092773438,
          104.16169738769531,
          36.18092346191406,
          90.06697845458984,
          -85.51089477539062,
          102.65716552734375,
          15.066054344177246,
          76.57241821289062,
          -23.504230499267578,
          52.23341751098633,
          137.77220153808594,
          139.26510620117188,
          53.033348083496094,
          77.28089904785156,
          -49.80169677734375,
          37.53477096557617,
          -98.64755249023438,
          59.76826477050781,
          22.181640625,
          82.40179443359375,
          -65.36441802978516,
          -32.75868606567383,
          -34.62593078613281,
          16.534975051879883,
          -7.463232040405273,
          91.0567398071289,
          33.066139221191406
         ],
         "z": [
          -101.1628189086914,
          -117.96287536621094,
          49.605709075927734,
          -133.3882293701172,
          -95.76925659179688,
          -146.2779083251953,
          -182.98756408691406,
          -62.233001708984375,
          -184.7118682861328,
          -7.249472618103027,
          20.37340545654297,
          8.032219886779785,
          -73.35173034667969,
          -61.668434143066406,
          -55.90806198120117,
          -14.464221000671387,
          4.546013355255127,
          -51.696937561035156,
          -178.21734619140625,
          -137.88429260253906,
          -31.182096481323242,
          -91.75895690917969,
          -105.56090545654297,
          -97.80206298828125,
          78.47709655761719,
          -33.65095520019531,
          -177.31875610351562,
          -110.79659271240234,
          -20.88071632385254,
          -157.3128662109375,
          -42.74715805053711,
          -132.9805450439453,
          -89.1664810180664,
          -65.84454345703125,
          21.911317825317383,
          -95.0530014038086,
          14.851494789123535,
          -135.098388671875,
          -140.34365844726562,
          59.933231353759766,
          -38.71148681640625,
          146.51095581054688,
          -77.94416046142578,
          -54.0451545715332,
          -69.77859497070312,
          -19.502212524414062,
          -116.13351440429688,
          -183.2189483642578,
          -135.73748779296875,
          -106.51280975341797
         ]
        },
        {
         "customdata": [
          [
           6.3
          ],
          [
           5.8
          ],
          [
           7.1
          ],
          [
           6.3
          ],
          [
           6.5
          ],
          [
           7.6
          ],
          [
           4.9
          ],
          [
           7.3
          ],
          [
           6.7
          ],
          [
           7.2
          ],
          [
           6.5
          ],
          [
           6.4
          ],
          [
           6.8
          ],
          [
           5.7
          ],
          [
           5.8
          ],
          [
           6.4
          ],
          [
           6.5
          ],
          [
           7.7
          ],
          [
           7.7
          ],
          [
           6
          ],
          [
           6.9
          ],
          [
           5.6
          ],
          [
           7.7
          ],
          [
           6.3
          ],
          [
           6.7
          ],
          [
           7.2
          ],
          [
           6.2
          ],
          [
           6.1
          ],
          [
           6.4
          ],
          [
           7.2
          ],
          [
           7.4
          ],
          [
           7.9
          ],
          [
           6.4
          ],
          [
           6.3
          ],
          [
           6.1
          ],
          [
           7.7
          ]
         ],
         "hoverlabel": {
          "namelength": 0
         },
         "hovertemplate": "Cluster=Cluster 2<br>0=%{x}<br>1=%{y}<br>2=%{z}<br>Feature=%{customdata[0]}",
         "legendgroup": "Cluster=Cluster 2",
         "marker": {
          "color": "#00cc96",
          "opacity": 0.7,
          "symbol": "circle"
         },
         "mode": "markers",
         "name": "Cluster=Cluster 2",
         "scene": "scene",
         "showlegend": true,
         "type": "scatter3d",
         "x": [
          -77.7340316772461,
          -95.00017547607422,
          -38.45005416870117,
          -33.46977615356445,
          105.15160369873047,
          -21.445682525634766,
          -91.58428955078125,
          -94.59554290771484,
          18.99403190612793,
          -59.29049301147461,
          -98.93147277832031,
          -47.41211700439453,
          -103.00617980957031,
          -37.5953483581543,
          -77.58245849609375,
          -61.192718505859375,
          -65.4103775024414,
          -62.46609115600586,
          -48.204200744628906,
          -86.60797119140625,
          -67.2933349609375,
          -69.86536407470703,
          -107.3989486694336,
          -61.85002517700195,
          -6.681731700897217,
          -139.6449737548828,
          -98.38265991210938,
          24.787723541259766,
          -17.445457458496094,
          -21.076881408691406,
          -136.27294921875,
          -77.17359161376953,
          -69.87378692626953,
          -18.67141342163086,
          -55.36964797973633,
          -19.775264739990234
         ],
         "y": [
          57.416351318359375,
          72.18035125732422,
          -27.378149032592773,
          -39.47362518310547,
          -131.18548583984375,
          52.439762115478516,
          -25.277318954467773,
          -38.30833053588867,
          61.46601867675781,
          37.631404876708984,
          12.089216232299805,
          94.08724975585938,
          55.56604766845703,
          13.652523040771484,
          3.9251232147216797,
          75.93006134033203,
          -55.22871398925781,
          -7.217240810394287,
          -31.590246200561523,
          -10.006139755249023,
          78.07028198242188,
          16.659936904907227,
          26.2311954498291,
          73.563232421875,
          26.17390251159668,
          -31.012710571289062,
          9.392180442810059,
          32.468284606933594,
          2.0215704441070557,
          12.620732307434082,
          -11.455511093139648,
          32.147090911865234,
          -63.753780364990234,
          34.42842483520508,
          27.198013305664062,
          59.828025817871094
         ],
         "z": [
          128.2349853515625,
          36.09730911254883,
          72.8053970336914,
          29.270381927490234,
          -77.79698181152344,
          17.23586654663086,
          11.543144226074219,
          62.691246032714844,
          81.7926025390625,
          48.23180389404297,
          87.87574768066406,
          38.54230880737305,
          81.48934936523438,
          -35.059547424316406,
          134.47525024414062,
          83.86201477050781,
          95.63525390625,
          41.028465270996094,
          -13.353957176208496,
          -39.787200927734375,
          -0.25448960065841675,
          -2.432253122329712,
          32.28707504272461,
          -49.92449951171875,
          94.64697265625,
          37.80958557128906,
          -87.2658920288086,
          38.27635955810547,
          12.365133285522461,
          54.751976013183594,
          87.02067565917969,
          -50.71051788330078,
          26.043664932250977,
          145.9484405517578,
          93.156005859375,
          64.53253936767578
         ]
        },
        {
         "customdata": [
          [
           6.3
          ],
          [
           6.4
          ],
          [
           6
          ],
          [
           6.9
          ],
          [
           6.7
          ],
          [
           6.9
          ],
          [
           5.8
          ],
          [
           6.8
          ],
          [
           6.7
          ],
          [
           6.7
          ],
          [
           6.3
          ],
          [
           6.5
          ],
          [
           6.2
          ],
          [
           5.9
          ]
         ],
         "hoverlabel": {
          "namelength": 0
         },
         "hovertemplate": "Cluster=Cluster 3<br>0=%{x}<br>1=%{y}<br>2=%{z}<br>Feature=%{customdata[0]}",
         "legendgroup": "Cluster=Cluster 3",
         "marker": {
          "color": "#ab63fa",
          "opacity": 0.7,
          "symbol": "circle"
         },
         "mode": "markers",
         "name": "Cluster=Cluster 3",
         "scene": "scene",
         "showlegend": true,
         "type": "scatter3d",
         "x": [
          -137.24288940429688,
          -114.72216796875,
          -156.55882263183594,
          -56.92024230957031,
          -103.31246948242188,
          -65.06390380859375,
          -158.01756286621094,
          -138.7422332763672,
          -153.15538024902344,
          -114.95320129394531,
          -92.04350280761719,
          -159.53271484375,
          -77.86442565917969,
          -122.05135345458984
         ],
         "y": [
          110.49654388427734,
          128.5946502685547,
          107.89078521728516,
          -155.20301818847656,
          123.38410949707031,
          -130.5394287109375,
          41.416343688964844,
          85.28377532958984,
          61.58992004394531,
          63.689476013183594,
          -113.7281494140625,
          30.542856216430664,
          -159.80259704589844,
          -123.47898864746094
         ],
         "z": [
          -14.769161224365234,
          26.380661010742188,
          34.47704315185547,
          21.886152267456055,
          97.73727416992188,
          -63.81467819213867,
          -32.927085876464844,
          -63.340904235839844,
          15.578475952148438,
          -19.919694900512695,
          13.918678283691406,
          57.189048767089844,
          -22.049795150756836,
          -35.09336853027344
         ]
        }
       ],
       "layout": {
        "height": 800,
        "legend": {
         "tracegroupgap": 0
        },
        "scene": {
         "domain": {
          "x": [
           0,
           1
          ],
          "y": [
           0,
           1
          ]
         },
         "xaxis": {
          "title": {
           "text": "0"
          }
         },
         "yaxis": {
          "title": {
           "text": "1"
          }
         },
         "zaxis": {
          "title": {
           "text": "2"
          }
         }
        },
        "template": {
         "data": {
          "bar": [
           {
            "error_x": {
             "color": "#2a3f5f"
            },
            "error_y": {
             "color": "#2a3f5f"
            },
            "marker": {
             "line": {
              "color": "#E5ECF6",
              "width": 0.5
             }
            },
            "type": "bar"
           }
          ],
          "barpolar": [
           {
            "marker": {
             "line": {
              "color": "#E5ECF6",
              "width": 0.5
             }
            },
            "type": "barpolar"
           }
          ],
          "carpet": [
           {
            "aaxis": {
             "endlinecolor": "#2a3f5f",
             "gridcolor": "white",
             "linecolor": "white",
             "minorgridcolor": "white",
             "startlinecolor": "#2a3f5f"
            },
            "baxis": {
             "endlinecolor": "#2a3f5f",
             "gridcolor": "white",
             "linecolor": "white",
             "minorgridcolor": "white",
             "startlinecolor": "#2a3f5f"
            },
            "type": "carpet"
           }
          ],
          "choropleth": [
           {
            "colorbar": {
             "outlinewidth": 0,
             "ticks": ""
            },
            "type": "choropleth"
           }
          ],
          "contour": [
           {
            "colorbar": {
             "outlinewidth": 0,
             "ticks": ""
            },
            "colorscale": [
             [
              0,
              "#0d0887"
             ],
             [
              0.1111111111111111,
              "#46039f"
             ],
             [
              0.2222222222222222,
              "#7201a8"
             ],
             [
              0.3333333333333333,
              "#9c179e"
             ],
             [
              0.4444444444444444,
              "#bd3786"
             ],
             [
              0.5555555555555556,
              "#d8576b"
             ],
             [
              0.6666666666666666,
              "#ed7953"
             ],
             [
              0.7777777777777778,
              "#fb9f3a"
             ],
             [
              0.8888888888888888,
              "#fdca26"
             ],
             [
              1,
              "#f0f921"
             ]
            ],
            "type": "contour"
           }
          ],
          "contourcarpet": [
           {
            "colorbar": {
             "outlinewidth": 0,
             "ticks": ""
            },
            "type": "contourcarpet"
           }
          ],
          "heatmap": [
           {
            "colorbar": {
             "outlinewidth": 0,
             "ticks": ""
            },
            "colorscale": [
             [
              0,
              "#0d0887"
             ],
             [
              0.1111111111111111,
              "#46039f"
             ],
             [
              0.2222222222222222,
              "#7201a8"
             ],
             [
              0.3333333333333333,
              "#9c179e"
             ],
             [
              0.4444444444444444,
              "#bd3786"
             ],
             [
              0.5555555555555556,
              "#d8576b"
             ],
             [
              0.6666666666666666,
              "#ed7953"
             ],
             [
              0.7777777777777778,
              "#fb9f3a"
             ],
             [
              0.8888888888888888,
              "#fdca26"
             ],
             [
              1,
              "#f0f921"
             ]
            ],
            "type": "heatmap"
           }
          ],
          "heatmapgl": [
           {
            "colorbar": {
             "outlinewidth": 0,
             "ticks": ""
            },
            "colorscale": [
             [
              0,
              "#0d0887"
             ],
             [
              0.1111111111111111,
              "#46039f"
             ],
             [
              0.2222222222222222,
              "#7201a8"
             ],
             [
              0.3333333333333333,
              "#9c179e"
             ],
             [
              0.4444444444444444,
              "#bd3786"
             ],
             [
              0.5555555555555556,
              "#d8576b"
             ],
             [
              0.6666666666666666,
              "#ed7953"
             ],
             [
              0.7777777777777778,
              "#fb9f3a"
             ],
             [
              0.8888888888888888,
              "#fdca26"
             ],
             [
              1,
              "#f0f921"
             ]
            ],
            "type": "heatmapgl"
           }
          ],
          "histogram": [
           {
            "marker": {
             "colorbar": {
              "outlinewidth": 0,
              "ticks": ""
             }
            },
            "type": "histogram"
           }
          ],
          "histogram2d": [
           {
            "colorbar": {
             "outlinewidth": 0,
             "ticks": ""
            },
            "colorscale": [
             [
              0,
              "#0d0887"
             ],
             [
              0.1111111111111111,
              "#46039f"
             ],
             [
              0.2222222222222222,
              "#7201a8"
             ],
             [
              0.3333333333333333,
              "#9c179e"
             ],
             [
              0.4444444444444444,
              "#bd3786"
             ],
             [
              0.5555555555555556,
              "#d8576b"
             ],
             [
              0.6666666666666666,
              "#ed7953"
             ],
             [
              0.7777777777777778,
              "#fb9f3a"
             ],
             [
              0.8888888888888888,
              "#fdca26"
             ],
             [
              1,
              "#f0f921"
             ]
            ],
            "type": "histogram2d"
           }
          ],
          "histogram2dcontour": [
           {
            "colorbar": {
             "outlinewidth": 0,
             "ticks": ""
            },
            "colorscale": [
             [
              0,
              "#0d0887"
             ],
             [
              0.1111111111111111,
              "#46039f"
             ],
             [
              0.2222222222222222,
              "#7201a8"
             ],
             [
              0.3333333333333333,
              "#9c179e"
             ],
             [
              0.4444444444444444,
              "#bd3786"
             ],
             [
              0.5555555555555556,
              "#d8576b"
             ],
             [
              0.6666666666666666,
              "#ed7953"
             ],
             [
              0.7777777777777778,
              "#fb9f3a"
             ],
             [
              0.8888888888888888,
              "#fdca26"
             ],
             [
              1,
              "#f0f921"
             ]
            ],
            "type": "histogram2dcontour"
           }
          ],
          "mesh3d": [
           {
            "colorbar": {
             "outlinewidth": 0,
             "ticks": ""
            },
            "type": "mesh3d"
           }
          ],
          "parcoords": [
           {
            "line": {
             "colorbar": {
              "outlinewidth": 0,
              "ticks": ""
             }
            },
            "type": "parcoords"
           }
          ],
          "pie": [
           {
            "automargin": true,
            "type": "pie"
           }
          ],
          "scatter": [
           {
            "marker": {
             "colorbar": {
              "outlinewidth": 0,
              "ticks": ""
             }
            },
            "type": "scatter"
           }
          ],
          "scatter3d": [
           {
            "line": {
             "colorbar": {
              "outlinewidth": 0,
              "ticks": ""
             }
            },
            "marker": {
             "colorbar": {
              "outlinewidth": 0,
              "ticks": ""
             }
            },
            "type": "scatter3d"
           }
          ],
          "scattercarpet": [
           {
            "marker": {
             "colorbar": {
              "outlinewidth": 0,
              "ticks": ""
             }
            },
            "type": "scattercarpet"
           }
          ],
          "scattergeo": [
           {
            "marker": {
             "colorbar": {
              "outlinewidth": 0,
              "ticks": ""
             }
            },
            "type": "scattergeo"
           }
          ],
          "scattergl": [
           {
            "marker": {
             "colorbar": {
              "outlinewidth": 0,
              "ticks": ""
             }
            },
            "type": "scattergl"
           }
          ],
          "scattermapbox": [
           {
            "marker": {
             "colorbar": {
              "outlinewidth": 0,
              "ticks": ""
             }
            },
            "type": "scattermapbox"
           }
          ],
          "scatterpolar": [
           {
            "marker": {
             "colorbar": {
              "outlinewidth": 0,
              "ticks": ""
             }
            },
            "type": "scatterpolar"
           }
          ],
          "scatterpolargl": [
           {
            "marker": {
             "colorbar": {
              "outlinewidth": 0,
              "ticks": ""
             }
            },
            "type": "scatterpolargl"
           }
          ],
          "scatterternary": [
           {
            "marker": {
             "colorbar": {
              "outlinewidth": 0,
              "ticks": ""
             }
            },
            "type": "scatterternary"
           }
          ],
          "surface": [
           {
            "colorbar": {
             "outlinewidth": 0,
             "ticks": ""
            },
            "colorscale": [
             [
              0,
              "#0d0887"
             ],
             [
              0.1111111111111111,
              "#46039f"
             ],
             [
              0.2222222222222222,
              "#7201a8"
             ],
             [
              0.3333333333333333,
              "#9c179e"
             ],
             [
              0.4444444444444444,
              "#bd3786"
             ],
             [
              0.5555555555555556,
              "#d8576b"
             ],
             [
              0.6666666666666666,
              "#ed7953"
             ],
             [
              0.7777777777777778,
              "#fb9f3a"
             ],
             [
              0.8888888888888888,
              "#fdca26"
             ],
             [
              1,
              "#f0f921"
             ]
            ],
            "type": "surface"
           }
          ],
          "table": [
           {
            "cells": {
             "fill": {
              "color": "#EBF0F8"
             },
             "line": {
              "color": "white"
             }
            },
            "header": {
             "fill": {
              "color": "#C8D4E3"
             },
             "line": {
              "color": "white"
             }
            },
            "type": "table"
           }
          ]
         },
         "layout": {
          "annotationdefaults": {
           "arrowcolor": "#2a3f5f",
           "arrowhead": 0,
           "arrowwidth": 1
          },
          "coloraxis": {
           "colorbar": {
            "outlinewidth": 0,
            "ticks": ""
           }
          },
          "colorscale": {
           "diverging": [
            [
             0,
             "#8e0152"
            ],
            [
             0.1,
             "#c51b7d"
            ],
            [
             0.2,
             "#de77ae"
            ],
            [
             0.3,
             "#f1b6da"
            ],
            [
             0.4,
             "#fde0ef"
            ],
            [
             0.5,
             "#f7f7f7"
            ],
            [
             0.6,
             "#e6f5d0"
            ],
            [
             0.7,
             "#b8e186"
            ],
            [
             0.8,
             "#7fbc41"
            ],
            [
             0.9,
             "#4d9221"
            ],
            [
             1,
             "#276419"
            ]
           ],
           "sequential": [
            [
             0,
             "#0d0887"
            ],
            [
             0.1111111111111111,
             "#46039f"
            ],
            [
             0.2222222222222222,
             "#7201a8"
            ],
            [
             0.3333333333333333,
             "#9c179e"
            ],
            [
             0.4444444444444444,
             "#bd3786"
            ],
            [
             0.5555555555555556,
             "#d8576b"
            ],
            [
             0.6666666666666666,
             "#ed7953"
            ],
            [
             0.7777777777777778,
             "#fb9f3a"
            ],
            [
             0.8888888888888888,
             "#fdca26"
            ],
            [
             1,
             "#f0f921"
            ]
           ],
           "sequentialminus": [
            [
             0,
             "#0d0887"
            ],
            [
             0.1111111111111111,
             "#46039f"
            ],
            [
             0.2222222222222222,
             "#7201a8"
            ],
            [
             0.3333333333333333,
             "#9c179e"
            ],
            [
             0.4444444444444444,
             "#bd3786"
            ],
            [
             0.5555555555555556,
             "#d8576b"
            ],
            [
             0.6666666666666666,
             "#ed7953"
            ],
            [
             0.7777777777777778,
             "#fb9f3a"
            ],
            [
             0.8888888888888888,
             "#fdca26"
            ],
            [
             1,
             "#f0f921"
            ]
           ]
          },
          "colorway": [
           "#636efa",
           "#EF553B",
           "#00cc96",
           "#ab63fa",
           "#FFA15A",
           "#19d3f3",
           "#FF6692",
           "#B6E880",
           "#FF97FF",
           "#FECB52"
          ],
          "font": {
           "color": "#2a3f5f"
          },
          "geo": {
           "bgcolor": "white",
           "lakecolor": "white",
           "landcolor": "#E5ECF6",
           "showlakes": true,
           "showland": true,
           "subunitcolor": "white"
          },
          "hoverlabel": {
           "align": "left"
          },
          "hovermode": "closest",
          "mapbox": {
           "style": "light"
          },
          "paper_bgcolor": "white",
          "plot_bgcolor": "#E5ECF6",
          "polar": {
           "angularaxis": {
            "gridcolor": "white",
            "linecolor": "white",
            "ticks": ""
           },
           "bgcolor": "#E5ECF6",
           "radialaxis": {
            "gridcolor": "white",
            "linecolor": "white",
            "ticks": ""
           }
          },
          "scene": {
           "xaxis": {
            "backgroundcolor": "#E5ECF6",
            "gridcolor": "white",
            "gridwidth": 2,
            "linecolor": "white",
            "showbackground": true,
            "ticks": "",
            "zerolinecolor": "white"
           },
           "yaxis": {
            "backgroundcolor": "#E5ECF6",
            "gridcolor": "white",
            "gridwidth": 2,
            "linecolor": "white",
            "showbackground": true,
            "ticks": "",
            "zerolinecolor": "white"
           },
           "zaxis": {
            "backgroundcolor": "#E5ECF6",
            "gridcolor": "white",
            "gridwidth": 2,
            "linecolor": "white",
            "showbackground": true,
            "ticks": "",
            "zerolinecolor": "white"
           }
          },
          "shapedefaults": {
           "line": {
            "color": "#2a3f5f"
           }
          },
          "ternary": {
           "aaxis": {
            "gridcolor": "white",
            "linecolor": "white",
            "ticks": ""
           },
           "baxis": {
            "gridcolor": "white",
            "linecolor": "white",
            "ticks": ""
           },
           "bgcolor": "#E5ECF6",
           "caxis": {
            "gridcolor": "white",
            "linecolor": "white",
            "ticks": ""
           }
          },
          "title": {
           "x": 0.05
          },
          "xaxis": {
           "automargin": true,
           "gridcolor": "white",
           "linecolor": "white",
           "ticks": "",
           "title": {
            "standoff": 15
           },
           "zerolinecolor": "white",
           "zerolinewidth": 2
          },
          "yaxis": {
           "automargin": true,
           "gridcolor": "white",
           "linecolor": "white",
           "ticks": "",
           "title": {
            "standoff": 15
           },
           "zerolinecolor": "white",
           "zerolinewidth": 2
          }
         }
        },
        "title": {
         "text": "3d TSNE Plot for Clusters"
        },
        "width": 900
       }
      },
      "text/html": [
       "<div>\n",
       "        \n",
       "        \n",
       "            <div id=\"68b94af6-d19e-4e48-ac37-3c3b3fce33f3\" class=\"plotly-graph-div\" style=\"height:800px; width:900px;\"></div>\n",
       "            <script type=\"text/javascript\">\n",
       "                require([\"plotly\"], function(Plotly) {\n",
       "                    window.PLOTLYENV=window.PLOTLYENV || {};\n",
       "                    \n",
       "                if (document.getElementById(\"68b94af6-d19e-4e48-ac37-3c3b3fce33f3\")) {\n",
       "                    Plotly.newPlot(\n",
       "                        '68b94af6-d19e-4e48-ac37-3c3b3fce33f3',\n",
       "                        [{\"customdata\": [[5.1], [4.9], [4.7], [4.6], [5.0], [5.4], [4.6], [5.0], [4.4], [4.9], [5.4], [4.8], [4.8], [4.3], [5.8], [5.7], [5.4], [5.1], [5.7], [5.1], [5.4], [5.1], [4.6], [5.1], [4.8], [5.0], [5.0], [5.2], [5.2], [4.7], [4.8], [5.4], [5.2], [5.5], [4.9], [5.0], [5.5], [4.9], [4.4], [5.1], [5.0], [4.5], [4.4], [5.0], [5.1], [4.8], [5.1], [4.6], [5.3], [5.0]], \"hoverlabel\": {\"namelength\": 0}, \"hovertemplate\": \"Cluster=Cluster 0<br>0=%{x}<br>1=%{y}<br>2=%{z}<br>Feature=%{customdata[0]}\", \"legendgroup\": \"Cluster=Cluster 0\", \"marker\": {\"color\": \"#636efa\", \"opacity\": 0.7, \"symbol\": \"circle\"}, \"mode\": \"markers\", \"name\": \"Cluster=Cluster 0\", \"scene\": \"scene\", \"showlegend\": true, \"type\": \"scatter3d\", \"x\": [61.9058952331543, 106.46722412109375, 19.650238037109375, -57.610389709472656, 129.98699951171875, -36.305206298828125, 43.28459548950195, 117.59716033935547, 26.106088638305664, 99.9679946899414, 52.04322052001953, -18.346675872802734, -24.2957706451416, 15.098583221435547, 76.85786437988281, 68.80394744873047, 133.89915466308594, 103.77054595947266, 32.53582763671875, 72.06989288330078, 73.96366882324219, -4.544906139373779, 58.06067657470703, 57.11201095581055, 27.725618362426758, -9.723093032836914, 1.1565908193588257, 140.28208923339844, 40.49516677856445, 24.96231460571289, 76.85449981689453, -26.788162231445312, 2.7943994998931885, 22.302005767822266, 9.385746002197266, 6.244439601898193, 70.1346664428711, 50.10155487060547, -19.992881774902344, 38.29997634887695, 112.95562744140625, 124.57637023925781, 26.369295120239258, -151.8941650390625, 93.07877349853516, 114.84867858886719, 72.74006652832031, -209.01470947265625, 78.93402099609375, 25.105411529541016], \"y\": [-105.6381607055664, 135.16445922851562, -73.85244750976562, 151.5392303466797, -8.069993019104004, -83.72250366210938, -45.97172546386719, -65.11286926269531, -99.68565368652344, -42.424705505371094, 11.326146125793457, -114.487548828125, -40.12932586669922, -63.45913314819336, -115.49835968017578, -32.67947769165039, -39.75044631958008, -67.3144302368164, -105.16738891601562, -56.44977569580078, 3.313324213027954, -64.17744445800781, -149.22291564941406, -65.70088958740234, -29.881715774536133, -107.80638885498047, 125.31755828857422, -73.41624450683594, -138.37306213378906, -22.969152450561523, -79.85639190673828, -84.31351470947266, -103.95800018310547, -115.08792114257812, -142.73426818847656, -66.81869506835938, -103.28580474853516, -73.72541046142578, -106.12359619140625, -66.32061767578125, -105.25408935546875, -19.55218505859375, -18.509761810302734, 83.4122543334961, -73.8189468383789, 15.378070831298828, -32.21312713623047, 43.70143127441406, -29.321483612060547, -86.68489837646484], \"z\": [61.1116943359375, -119.50330352783203, 41.79940414428711, 60.60867691040039, 1.9551821947097778, -42.54436111450195, 13.323013305664062, 44.87226104736328, 93.1099853515625, -8.146782875061035, 113.73697662353516, -6.574379920959473, 155.44041442871094, -72.5589828491211, -25.69594955444336, 107.38922119140625, -56.953609466552734, 109.17488861083984, 6.415596008300781, 150.20236206054688, 0.7224175333976746, 108.7550277709961, 87.11746215820312, 78.54352569580078, 142.73602294921875, 127.94758605957031, 81.092529296875, -22.469133377075195, 39.18981170654297, -18.885604858398438, 16.301557540893555, -140.56594848632812, -96.14093017578125, -42.828712463378906, 77.0235595703125, -13.961807250976562, 116.55803680419922, -30.988529205322266, 44.472145080566406, 118.83626556396484, 80.8725357055664, 58.57965850830078, 75.79141235351562, 104.82552337646484, -52.54426574707031, 107.55241394042969, -41.142948150634766, 2.0705792903900146, 38.8019905090332, 155.93824768066406]}, {\"customdata\": [[7.0], [6.4], [6.9], [5.5], [6.5], [5.7], [6.3], [4.9], [6.6], [5.2], [5.0], [5.9], [6.0], [6.1], [5.6], [6.7], [5.6], [5.8], [6.2], [5.6], [5.9], [6.1], [6.3], [6.1], [6.4], [6.6], [6.8], [6.7], [6.0], [5.7], [5.5], [5.5], [5.8], [6.0], [5.4], [6.0], [6.7], [6.3], [5.6], [5.5], [5.5], [6.1], [5.8], [5.0], [5.6], [5.7], [5.7], [6.2], [5.1], [5.7]], \"hoverlabel\": {\"namelength\": 0}, \"hovertemplate\": \"Cluster=Cluster 1<br>0=%{x}<br>1=%{y}<br>2=%{z}<br>Feature=%{customdata[0]}\", \"legendgroup\": \"Cluster=Cluster 1\", \"marker\": {\"color\": \"#EF553B\", \"opacity\": 0.7, \"symbol\": \"circle\"}, \"mode\": \"markers\", \"name\": \"Cluster=Cluster 1\", \"scene\": \"scene\", \"showlegend\": true, \"type\": \"scatter3d\", \"x\": [-68.32058715820312, 96.73775482177734, 121.15381622314453, 103.1860122680664, -29.1734561920166, -41.94898986816406, -22.775705337524414, -369.5738830566406, 32.55474853515625, 1.9271339178085327, 126.27220916748047, 127.55571746826172, 9.304471015930176, 69.12393188476562, 35.05385971069336, 128.7074432373047, 22.316267013549805, 61.948814392089844, -8.013440132141113, 56.33850860595703, 106.18169403076172, 58.77330780029297, -62.109127044677734, 53.80244445800781, 65.8294906616211, 31.11663818359375, 7.216971397399902, 59.642738342285156, 62.21665954589844, 70.02106475830078, -7.4947004318237305, 11.306729316711426, 14.378270149230957, 9.992253303527832, 78.62635803222656, 68.2308578491211, 84.95807647705078, 83.92483520507812, 4.420640468597412, -126.53221130371094, 78.74737548828125, -141.20791625976562, 105.0738754272461, -93.0764389038086, -142.38865661621094, -156.81787109375, 41.09996795654297, 38.39118957519531, -13.489510536193848, -29.715593338012695], \"y\": [-48.86412811279297, 1.5862040519714355, 54.314788818359375, 46.99870681762695, -13.891670227050781, -0.9841610789299011, 35.93937301635742, -157.90403747558594, 44.132789611816406, 155.57400512695312, 106.40511322021484, -132.71290588378906, 9.20261001586914, 19.16965103149414, 86.85014343261719, 66.75318145751953, 90.76246643066406, 138.2944793701172, -18.644481658935547, 65.41458892822266, 112.93751525878906, -28.052406311035156, 85.61373901367188, 99.75595092773438, 104.16169738769531, 36.18092346191406, 90.06697845458984, -85.51089477539062, 102.65716552734375, 15.066054344177246, 76.57241821289062, -23.504230499267578, 52.23341751098633, 137.77220153808594, 139.26510620117188, 53.033348083496094, 77.28089904785156, -49.80169677734375, 37.53477096557617, -98.64755249023438, 59.76826477050781, 22.181640625, 82.40179443359375, -65.36441802978516, -32.75868606567383, -34.62593078613281, 16.534975051879883, -7.463232040405273, 91.0567398071289, 33.066139221191406], \"z\": [-101.1628189086914, -117.96287536621094, 49.605709075927734, -133.3882293701172, -95.76925659179688, -146.2779083251953, -182.98756408691406, -62.233001708984375, -184.7118682861328, -7.249472618103027, 20.37340545654297, 8.032219886779785, -73.35173034667969, -61.668434143066406, -55.90806198120117, -14.464221000671387, 4.546013355255127, -51.696937561035156, -178.21734619140625, -137.88429260253906, -31.182096481323242, -91.75895690917969, -105.56090545654297, -97.80206298828125, 78.47709655761719, -33.65095520019531, -177.31875610351562, -110.79659271240234, -20.88071632385254, -157.3128662109375, -42.74715805053711, -132.9805450439453, -89.1664810180664, -65.84454345703125, 21.911317825317383, -95.0530014038086, 14.851494789123535, -135.098388671875, -140.34365844726562, 59.933231353759766, -38.71148681640625, 146.51095581054688, -77.94416046142578, -54.0451545715332, -69.77859497070312, -19.502212524414062, -116.13351440429688, -183.2189483642578, -135.73748779296875, -106.51280975341797]}, {\"customdata\": [[6.3], [5.8], [7.1], [6.3], [6.5], [7.6], [4.9], [7.3], [6.7], [7.2], [6.5], [6.4], [6.8], [5.7], [5.8], [6.4], [6.5], [7.7], [7.7], [6.0], [6.9], [5.6], [7.7], [6.3], [6.7], [7.2], [6.2], [6.1], [6.4], [7.2], [7.4], [7.9], [6.4], [6.3], [6.1], [7.7]], \"hoverlabel\": {\"namelength\": 0}, \"hovertemplate\": \"Cluster=Cluster 2<br>0=%{x}<br>1=%{y}<br>2=%{z}<br>Feature=%{customdata[0]}\", \"legendgroup\": \"Cluster=Cluster 2\", \"marker\": {\"color\": \"#00cc96\", \"opacity\": 0.7, \"symbol\": \"circle\"}, \"mode\": \"markers\", \"name\": \"Cluster=Cluster 2\", \"scene\": \"scene\", \"showlegend\": true, \"type\": \"scatter3d\", \"x\": [-77.7340316772461, -95.00017547607422, -38.45005416870117, -33.46977615356445, 105.15160369873047, -21.445682525634766, -91.58428955078125, -94.59554290771484, 18.99403190612793, -59.29049301147461, -98.93147277832031, -47.41211700439453, -103.00617980957031, -37.5953483581543, -77.58245849609375, -61.192718505859375, -65.4103775024414, -62.46609115600586, -48.204200744628906, -86.60797119140625, -67.2933349609375, -69.86536407470703, -107.3989486694336, -61.85002517700195, -6.681731700897217, -139.6449737548828, -98.38265991210938, 24.787723541259766, -17.445457458496094, -21.076881408691406, -136.27294921875, -77.17359161376953, -69.87378692626953, -18.67141342163086, -55.36964797973633, -19.775264739990234], \"y\": [57.416351318359375, 72.18035125732422, -27.378149032592773, -39.47362518310547, -131.18548583984375, 52.439762115478516, -25.277318954467773, -38.30833053588867, 61.46601867675781, 37.631404876708984, 12.089216232299805, 94.08724975585938, 55.56604766845703, 13.652523040771484, 3.9251232147216797, 75.93006134033203, -55.22871398925781, -7.217240810394287, -31.590246200561523, -10.006139755249023, 78.07028198242188, 16.659936904907227, 26.2311954498291, 73.563232421875, 26.17390251159668, -31.012710571289062, 9.392180442810059, 32.468284606933594, 2.0215704441070557, 12.620732307434082, -11.455511093139648, 32.147090911865234, -63.753780364990234, 34.42842483520508, 27.198013305664062, 59.828025817871094], \"z\": [128.2349853515625, 36.09730911254883, 72.8053970336914, 29.270381927490234, -77.79698181152344, 17.23586654663086, 11.543144226074219, 62.691246032714844, 81.7926025390625, 48.23180389404297, 87.87574768066406, 38.54230880737305, 81.48934936523438, -35.059547424316406, 134.47525024414062, 83.86201477050781, 95.63525390625, 41.028465270996094, -13.353957176208496, -39.787200927734375, -0.25448960065841675, -2.432253122329712, 32.28707504272461, -49.92449951171875, 94.64697265625, 37.80958557128906, -87.2658920288086, 38.27635955810547, 12.365133285522461, 54.751976013183594, 87.02067565917969, -50.71051788330078, 26.043664932250977, 145.9484405517578, 93.156005859375, 64.53253936767578]}, {\"customdata\": [[6.3], [6.4], [6.0], [6.9], [6.7], [6.9], [5.8], [6.8], [6.7], [6.7], [6.3], [6.5], [6.2], [5.9]], \"hoverlabel\": {\"namelength\": 0}, \"hovertemplate\": \"Cluster=Cluster 3<br>0=%{x}<br>1=%{y}<br>2=%{z}<br>Feature=%{customdata[0]}\", \"legendgroup\": \"Cluster=Cluster 3\", \"marker\": {\"color\": \"#ab63fa\", \"opacity\": 0.7, \"symbol\": \"circle\"}, \"mode\": \"markers\", \"name\": \"Cluster=Cluster 3\", \"scene\": \"scene\", \"showlegend\": true, \"type\": \"scatter3d\", \"x\": [-137.24288940429688, -114.72216796875, -156.55882263183594, -56.92024230957031, -103.31246948242188, -65.06390380859375, -158.01756286621094, -138.7422332763672, -153.15538024902344, -114.95320129394531, -92.04350280761719, -159.53271484375, -77.86442565917969, -122.05135345458984], \"y\": [110.49654388427734, 128.5946502685547, 107.89078521728516, -155.20301818847656, 123.38410949707031, -130.5394287109375, 41.416343688964844, 85.28377532958984, 61.58992004394531, 63.689476013183594, -113.7281494140625, 30.542856216430664, -159.80259704589844, -123.47898864746094], \"z\": [-14.769161224365234, 26.380661010742188, 34.47704315185547, 21.886152267456055, 97.73727416992188, -63.81467819213867, -32.927085876464844, -63.340904235839844, 15.578475952148438, -19.919694900512695, 13.918678283691406, 57.189048767089844, -22.049795150756836, -35.09336853027344]}],\n",
       "                        {\"height\": 800, \"legend\": {\"tracegroupgap\": 0}, \"scene\": {\"domain\": {\"x\": [0.0, 1.0], \"y\": [0.0, 1.0]}, \"xaxis\": {\"title\": {\"text\": \"0\"}}, \"yaxis\": {\"title\": {\"text\": \"1\"}}, \"zaxis\": {\"title\": {\"text\": \"2\"}}}, \"template\": {\"data\": {\"bar\": [{\"error_x\": {\"color\": \"#2a3f5f\"}, \"error_y\": {\"color\": \"#2a3f5f\"}, \"marker\": {\"line\": {\"color\": \"#E5ECF6\", \"width\": 0.5}}, \"type\": \"bar\"}], \"barpolar\": [{\"marker\": {\"line\": {\"color\": \"#E5ECF6\", \"width\": 0.5}}, \"type\": \"barpolar\"}], \"carpet\": [{\"aaxis\": {\"endlinecolor\": \"#2a3f5f\", \"gridcolor\": \"white\", \"linecolor\": \"white\", \"minorgridcolor\": \"white\", \"startlinecolor\": \"#2a3f5f\"}, \"baxis\": {\"endlinecolor\": \"#2a3f5f\", \"gridcolor\": \"white\", \"linecolor\": \"white\", \"minorgridcolor\": \"white\", \"startlinecolor\": \"#2a3f5f\"}, \"type\": \"carpet\"}], \"choropleth\": [{\"colorbar\": {\"outlinewidth\": 0, \"ticks\": \"\"}, \"type\": \"choropleth\"}], \"contour\": [{\"colorbar\": {\"outlinewidth\": 0, \"ticks\": \"\"}, \"colorscale\": [[0.0, \"#0d0887\"], [0.1111111111111111, \"#46039f\"], [0.2222222222222222, \"#7201a8\"], [0.3333333333333333, \"#9c179e\"], [0.4444444444444444, \"#bd3786\"], [0.5555555555555556, \"#d8576b\"], [0.6666666666666666, \"#ed7953\"], [0.7777777777777778, \"#fb9f3a\"], [0.8888888888888888, \"#fdca26\"], [1.0, \"#f0f921\"]], \"type\": \"contour\"}], \"contourcarpet\": [{\"colorbar\": {\"outlinewidth\": 0, \"ticks\": \"\"}, \"type\": \"contourcarpet\"}], \"heatmap\": [{\"colorbar\": {\"outlinewidth\": 0, \"ticks\": \"\"}, \"colorscale\": [[0.0, \"#0d0887\"], [0.1111111111111111, \"#46039f\"], [0.2222222222222222, \"#7201a8\"], [0.3333333333333333, \"#9c179e\"], [0.4444444444444444, \"#bd3786\"], [0.5555555555555556, \"#d8576b\"], [0.6666666666666666, \"#ed7953\"], [0.7777777777777778, \"#fb9f3a\"], [0.8888888888888888, \"#fdca26\"], [1.0, \"#f0f921\"]], \"type\": \"heatmap\"}], \"heatmapgl\": [{\"colorbar\": {\"outlinewidth\": 0, \"ticks\": \"\"}, \"colorscale\": [[0.0, \"#0d0887\"], [0.1111111111111111, \"#46039f\"], [0.2222222222222222, \"#7201a8\"], [0.3333333333333333, \"#9c179e\"], [0.4444444444444444, \"#bd3786\"], [0.5555555555555556, \"#d8576b\"], [0.6666666666666666, \"#ed7953\"], [0.7777777777777778, \"#fb9f3a\"], [0.8888888888888888, \"#fdca26\"], [1.0, \"#f0f921\"]], \"type\": \"heatmapgl\"}], \"histogram\": [{\"marker\": {\"colorbar\": {\"outlinewidth\": 0, \"ticks\": \"\"}}, \"type\": \"histogram\"}], \"histogram2d\": [{\"colorbar\": {\"outlinewidth\": 0, \"ticks\": \"\"}, \"colorscale\": [[0.0, \"#0d0887\"], [0.1111111111111111, \"#46039f\"], [0.2222222222222222, \"#7201a8\"], [0.3333333333333333, \"#9c179e\"], [0.4444444444444444, \"#bd3786\"], [0.5555555555555556, \"#d8576b\"], [0.6666666666666666, \"#ed7953\"], [0.7777777777777778, \"#fb9f3a\"], [0.8888888888888888, \"#fdca26\"], [1.0, \"#f0f921\"]], \"type\": \"histogram2d\"}], \"histogram2dcontour\": [{\"colorbar\": {\"outlinewidth\": 0, \"ticks\": \"\"}, \"colorscale\": [[0.0, \"#0d0887\"], [0.1111111111111111, \"#46039f\"], [0.2222222222222222, \"#7201a8\"], [0.3333333333333333, \"#9c179e\"], [0.4444444444444444, \"#bd3786\"], [0.5555555555555556, \"#d8576b\"], [0.6666666666666666, \"#ed7953\"], [0.7777777777777778, \"#fb9f3a\"], [0.8888888888888888, \"#fdca26\"], [1.0, \"#f0f921\"]], \"type\": \"histogram2dcontour\"}], \"mesh3d\": [{\"colorbar\": {\"outlinewidth\": 0, \"ticks\": \"\"}, \"type\": \"mesh3d\"}], \"parcoords\": [{\"line\": {\"colorbar\": {\"outlinewidth\": 0, \"ticks\": \"\"}}, \"type\": \"parcoords\"}], \"pie\": [{\"automargin\": true, \"type\": \"pie\"}], \"scatter\": [{\"marker\": {\"colorbar\": {\"outlinewidth\": 0, \"ticks\": \"\"}}, \"type\": \"scatter\"}], \"scatter3d\": [{\"line\": {\"colorbar\": {\"outlinewidth\": 0, \"ticks\": \"\"}}, \"marker\": {\"colorbar\": {\"outlinewidth\": 0, \"ticks\": \"\"}}, \"type\": \"scatter3d\"}], \"scattercarpet\": [{\"marker\": {\"colorbar\": {\"outlinewidth\": 0, \"ticks\": \"\"}}, \"type\": \"scattercarpet\"}], \"scattergeo\": [{\"marker\": {\"colorbar\": {\"outlinewidth\": 0, \"ticks\": \"\"}}, \"type\": \"scattergeo\"}], \"scattergl\": [{\"marker\": {\"colorbar\": {\"outlinewidth\": 0, \"ticks\": \"\"}}, \"type\": \"scattergl\"}], \"scattermapbox\": [{\"marker\": {\"colorbar\": {\"outlinewidth\": 0, \"ticks\": \"\"}}, \"type\": \"scattermapbox\"}], \"scatterpolar\": [{\"marker\": {\"colorbar\": {\"outlinewidth\": 0, \"ticks\": \"\"}}, \"type\": \"scatterpolar\"}], \"scatterpolargl\": [{\"marker\": {\"colorbar\": {\"outlinewidth\": 0, \"ticks\": \"\"}}, \"type\": \"scatterpolargl\"}], \"scatterternary\": [{\"marker\": {\"colorbar\": {\"outlinewidth\": 0, \"ticks\": \"\"}}, \"type\": \"scatterternary\"}], \"surface\": [{\"colorbar\": {\"outlinewidth\": 0, \"ticks\": \"\"}, \"colorscale\": [[0.0, \"#0d0887\"], [0.1111111111111111, \"#46039f\"], [0.2222222222222222, \"#7201a8\"], [0.3333333333333333, \"#9c179e\"], [0.4444444444444444, \"#bd3786\"], [0.5555555555555556, \"#d8576b\"], [0.6666666666666666, \"#ed7953\"], [0.7777777777777778, \"#fb9f3a\"], [0.8888888888888888, \"#fdca26\"], [1.0, \"#f0f921\"]], \"type\": \"surface\"}], \"table\": [{\"cells\": {\"fill\": {\"color\": \"#EBF0F8\"}, \"line\": {\"color\": \"white\"}}, \"header\": {\"fill\": {\"color\": \"#C8D4E3\"}, \"line\": {\"color\": \"white\"}}, \"type\": \"table\"}]}, \"layout\": {\"annotationdefaults\": {\"arrowcolor\": \"#2a3f5f\", \"arrowhead\": 0, \"arrowwidth\": 1}, \"coloraxis\": {\"colorbar\": {\"outlinewidth\": 0, \"ticks\": \"\"}}, \"colorscale\": {\"diverging\": [[0, \"#8e0152\"], [0.1, \"#c51b7d\"], [0.2, \"#de77ae\"], [0.3, \"#f1b6da\"], [0.4, \"#fde0ef\"], [0.5, \"#f7f7f7\"], [0.6, \"#e6f5d0\"], [0.7, \"#b8e186\"], [0.8, \"#7fbc41\"], [0.9, \"#4d9221\"], [1, \"#276419\"]], \"sequential\": [[0.0, \"#0d0887\"], [0.1111111111111111, \"#46039f\"], [0.2222222222222222, \"#7201a8\"], [0.3333333333333333, \"#9c179e\"], [0.4444444444444444, \"#bd3786\"], [0.5555555555555556, \"#d8576b\"], [0.6666666666666666, \"#ed7953\"], [0.7777777777777778, \"#fb9f3a\"], [0.8888888888888888, \"#fdca26\"], [1.0, \"#f0f921\"]], \"sequentialminus\": [[0.0, \"#0d0887\"], [0.1111111111111111, \"#46039f\"], [0.2222222222222222, \"#7201a8\"], [0.3333333333333333, \"#9c179e\"], [0.4444444444444444, \"#bd3786\"], [0.5555555555555556, \"#d8576b\"], [0.6666666666666666, \"#ed7953\"], [0.7777777777777778, \"#fb9f3a\"], [0.8888888888888888, \"#fdca26\"], [1.0, \"#f0f921\"]]}, \"colorway\": [\"#636efa\", \"#EF553B\", \"#00cc96\", \"#ab63fa\", \"#FFA15A\", \"#19d3f3\", \"#FF6692\", \"#B6E880\", \"#FF97FF\", \"#FECB52\"], \"font\": {\"color\": \"#2a3f5f\"}, \"geo\": {\"bgcolor\": \"white\", \"lakecolor\": \"white\", \"landcolor\": \"#E5ECF6\", \"showlakes\": true, \"showland\": true, \"subunitcolor\": \"white\"}, \"hoverlabel\": {\"align\": \"left\"}, \"hovermode\": \"closest\", \"mapbox\": {\"style\": \"light\"}, \"paper_bgcolor\": \"white\", \"plot_bgcolor\": \"#E5ECF6\", \"polar\": {\"angularaxis\": {\"gridcolor\": \"white\", \"linecolor\": \"white\", \"ticks\": \"\"}, \"bgcolor\": \"#E5ECF6\", \"radialaxis\": {\"gridcolor\": \"white\", \"linecolor\": \"white\", \"ticks\": \"\"}}, \"scene\": {\"xaxis\": {\"backgroundcolor\": \"#E5ECF6\", \"gridcolor\": \"white\", \"gridwidth\": 2, \"linecolor\": \"white\", \"showbackground\": true, \"ticks\": \"\", \"zerolinecolor\": \"white\"}, \"yaxis\": {\"backgroundcolor\": \"#E5ECF6\", \"gridcolor\": \"white\", \"gridwidth\": 2, \"linecolor\": \"white\", \"showbackground\": true, \"ticks\": \"\", \"zerolinecolor\": \"white\"}, \"zaxis\": {\"backgroundcolor\": \"#E5ECF6\", \"gridcolor\": \"white\", \"gridwidth\": 2, \"linecolor\": \"white\", \"showbackground\": true, \"ticks\": \"\", \"zerolinecolor\": \"white\"}}, \"shapedefaults\": {\"line\": {\"color\": \"#2a3f5f\"}}, \"ternary\": {\"aaxis\": {\"gridcolor\": \"white\", \"linecolor\": \"white\", \"ticks\": \"\"}, \"baxis\": {\"gridcolor\": \"white\", \"linecolor\": \"white\", \"ticks\": \"\"}, \"bgcolor\": \"#E5ECF6\", \"caxis\": {\"gridcolor\": \"white\", \"linecolor\": \"white\", \"ticks\": \"\"}}, \"title\": {\"x\": 0.05}, \"xaxis\": {\"automargin\": true, \"gridcolor\": \"white\", \"linecolor\": \"white\", \"ticks\": \"\", \"title\": {\"standoff\": 15}, \"zerolinecolor\": \"white\", \"zerolinewidth\": 2}, \"yaxis\": {\"automargin\": true, \"gridcolor\": \"white\", \"linecolor\": \"white\", \"ticks\": \"\", \"title\": {\"standoff\": 15}, \"zerolinecolor\": \"white\", \"zerolinewidth\": 2}}}, \"title\": {\"text\": \"3d TSNE Plot for Clusters\"}, \"width\": 900},\n",
       "                        {\"responsive\": true}\n",
       "                    ).then(function(){\n",
       "                            \n",
       "var gd = document.getElementById('68b94af6-d19e-4e48-ac37-3c3b3fce33f3');\n",
       "var x = new MutationObserver(function (mutations, observer) {{\n",
       "        var display = window.getComputedStyle(gd).display;\n",
       "        if (!display || display === 'none') {{\n",
       "            console.log([gd, 'removed!']);\n",
       "            Plotly.purge(gd);\n",
       "            observer.disconnect();\n",
       "        }}\n",
       "}});\n",
       "\n",
       "// Listen for the removal of the full notebook cells\n",
       "var notebookContainer = gd.closest('#notebook-container');\n",
       "if (notebookContainer) {{\n",
       "    x.observe(notebookContainer, {childList: true});\n",
       "}}\n",
       "\n",
       "// Listen for the clearing of the current output cell\n",
       "var outputEl = gd.closest('.output');\n",
       "if (outputEl) {{\n",
       "    x.observe(outputEl, {childList: true});\n",
       "}}\n",
       "\n",
       "                        })\n",
       "                };\n",
       "                });\n",
       "            </script>\n",
       "        </div>"
      ]
     },
     "metadata": {},
     "output_type": "display_data"
    }
   ],
   "source": [
    "plot_model(kmean, plot='tsne', feature = None, label = False)"
   ]
  },
  {
   "cell_type": "code",
   "execution_count": null,
   "metadata": {},
   "outputs": [],
   "source": []
  },
  {
   "cell_type": "code",
   "execution_count": 28,
   "metadata": {},
   "outputs": [],
   "source": [
    "cluster = assign_model(kmean)"
   ]
  },
  {
   "cell_type": "code",
   "execution_count": 29,
   "metadata": {},
   "outputs": [
    {
     "name": "stdout",
     "output_type": "stream",
     "text": [
      "Transformation Pipeline and Model Succesfully Saved\n"
     ]
    }
   ],
   "source": [
    "save_model(cluster, 'iris-clust')"
   ]
  },
  {
   "cell_type": "markdown",
   "metadata": {},
   "source": []
  },
  {
   "cell_type": "code",
   "execution_count": 30,
   "metadata": {},
   "outputs": [
    {
     "data": {
      "text/html": [
       "<div>\n",
       "<style scoped>\n",
       "    .dataframe tbody tr th:only-of-type {\n",
       "        vertical-align: middle;\n",
       "    }\n",
       "\n",
       "    .dataframe tbody tr th {\n",
       "        vertical-align: top;\n",
       "    }\n",
       "\n",
       "    .dataframe thead th {\n",
       "        text-align: right;\n",
       "    }\n",
       "</style>\n",
       "<table border=\"1\" class=\"dataframe\">\n",
       "  <thead>\n",
       "    <tr style=\"text-align: right;\">\n",
       "      <th></th>\n",
       "      <th>SepalLengthCm</th>\n",
       "      <th>SepalWidthCm</th>\n",
       "      <th>PetalLengthCm</th>\n",
       "      <th>PetalWidthCm</th>\n",
       "      <th>Species</th>\n",
       "    </tr>\n",
       "  </thead>\n",
       "  <tbody>\n",
       "    <tr>\n",
       "      <th>0</th>\n",
       "      <td>5.1</td>\n",
       "      <td>3.5</td>\n",
       "      <td>1.4</td>\n",
       "      <td>0.2</td>\n",
       "      <td>Iris-setosa</td>\n",
       "    </tr>\n",
       "    <tr>\n",
       "      <th>1</th>\n",
       "      <td>4.9</td>\n",
       "      <td>3.0</td>\n",
       "      <td>1.4</td>\n",
       "      <td>0.2</td>\n",
       "      <td>Iris-setosa</td>\n",
       "    </tr>\n",
       "    <tr>\n",
       "      <th>2</th>\n",
       "      <td>4.7</td>\n",
       "      <td>3.2</td>\n",
       "      <td>1.3</td>\n",
       "      <td>0.2</td>\n",
       "      <td>Iris-setosa</td>\n",
       "    </tr>\n",
       "    <tr>\n",
       "      <th>3</th>\n",
       "      <td>4.6</td>\n",
       "      <td>3.1</td>\n",
       "      <td>1.5</td>\n",
       "      <td>0.2</td>\n",
       "      <td>Iris-setosa</td>\n",
       "    </tr>\n",
       "    <tr>\n",
       "      <th>4</th>\n",
       "      <td>5.0</td>\n",
       "      <td>3.6</td>\n",
       "      <td>1.4</td>\n",
       "      <td>0.2</td>\n",
       "      <td>Iris-setosa</td>\n",
       "    </tr>\n",
       "  </tbody>\n",
       "</table>\n",
       "</div>"
      ],
      "text/plain": [
       "   SepalLengthCm  SepalWidthCm  PetalLengthCm  PetalWidthCm      Species\n",
       "0            5.1           3.5            1.4           0.2  Iris-setosa\n",
       "1            4.9           3.0            1.4           0.2  Iris-setosa\n",
       "2            4.7           3.2            1.3           0.2  Iris-setosa\n",
       "3            4.6           3.1            1.5           0.2  Iris-setosa\n",
       "4            5.0           3.6            1.4           0.2  Iris-setosa"
      ]
     },
     "execution_count": 30,
     "metadata": {},
     "output_type": "execute_result"
    }
   ],
   "source": [
    "cls.head()"
   ]
  },
  {
   "cell_type": "code",
   "execution_count": 36,
   "metadata": {},
   "outputs": [],
   "source": []
  },
  {
   "cell_type": "code",
   "execution_count": 37,
   "metadata": {},
   "outputs": [
    {
     "data": {
      "text/html": [
       "<div>\n",
       "<style scoped>\n",
       "    .dataframe tbody tr th:only-of-type {\n",
       "        vertical-align: middle;\n",
       "    }\n",
       "\n",
       "    .dataframe tbody tr th {\n",
       "        vertical-align: top;\n",
       "    }\n",
       "\n",
       "    .dataframe thead th {\n",
       "        text-align: right;\n",
       "    }\n",
       "</style>\n",
       "<table border=\"1\" class=\"dataframe\">\n",
       "  <thead>\n",
       "    <tr style=\"text-align: right;\">\n",
       "      <th></th>\n",
       "      <th>SepalLengthCm</th>\n",
       "      <th>SepalWidthCm</th>\n",
       "      <th>PetalLengthCm</th>\n",
       "      <th>PetalWidthCm</th>\n",
       "      <th>Species</th>\n",
       "    </tr>\n",
       "  </thead>\n",
       "  <tbody>\n",
       "    <tr>\n",
       "      <th>0</th>\n",
       "      <td>5.1</td>\n",
       "      <td>3.5</td>\n",
       "      <td>1.4</td>\n",
       "      <td>0.2</td>\n",
       "      <td>Iris-setosa</td>\n",
       "    </tr>\n",
       "    <tr>\n",
       "      <th>1</th>\n",
       "      <td>4.9</td>\n",
       "      <td>3.0</td>\n",
       "      <td>1.4</td>\n",
       "      <td>0.2</td>\n",
       "      <td>Iris-setosa</td>\n",
       "    </tr>\n",
       "    <tr>\n",
       "      <th>2</th>\n",
       "      <td>4.7</td>\n",
       "      <td>3.2</td>\n",
       "      <td>1.3</td>\n",
       "      <td>0.2</td>\n",
       "      <td>Iris-setosa</td>\n",
       "    </tr>\n",
       "    <tr>\n",
       "      <th>3</th>\n",
       "      <td>4.6</td>\n",
       "      <td>3.1</td>\n",
       "      <td>1.5</td>\n",
       "      <td>0.2</td>\n",
       "      <td>Iris-setosa</td>\n",
       "    </tr>\n",
       "    <tr>\n",
       "      <th>4</th>\n",
       "      <td>5.0</td>\n",
       "      <td>3.6</td>\n",
       "      <td>1.4</td>\n",
       "      <td>0.2</td>\n",
       "      <td>Iris-setosa</td>\n",
       "    </tr>\n",
       "  </tbody>\n",
       "</table>\n",
       "</div>"
      ],
      "text/plain": [
       "   SepalLengthCm  SepalWidthCm  PetalLengthCm  PetalWidthCm      Species\n",
       "0            5.1           3.5            1.4           0.2  Iris-setosa\n",
       "1            4.9           3.0            1.4           0.2  Iris-setosa\n",
       "2            4.7           3.2            1.3           0.2  Iris-setosa\n",
       "3            4.6           3.1            1.5           0.2  Iris-setosa\n",
       "4            5.0           3.6            1.4           0.2  Iris-setosa"
      ]
     },
     "execution_count": 37,
     "metadata": {},
     "output_type": "execute_result"
    }
   ],
   "source": []
  }
 ],
 "metadata": {
  "kernelspec": {
   "display_name": "Python 3.6 (tensorflow)",
   "language": "python",
   "name": "tensorflow"
  },
  "language_info": {
   "codemirror_mode": {
    "name": "ipython",
    "version": 3
   },
   "file_extension": ".py",
   "mimetype": "text/x-python",
   "name": "python",
   "nbconvert_exporter": "python",
   "pygments_lexer": "ipython3",
   "version": "3.6.9"
  }
 },
 "nbformat": 4,
 "nbformat_minor": 2
}
